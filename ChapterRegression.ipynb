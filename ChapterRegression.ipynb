{
  "nbformat": 4,
  "nbformat_minor": 0,
  "metadata": {
    "colab": {
      "provenance": [],
      "authorship_tag": "ABX9TyMTTYx14k7mHJuMzAeCmY/K",
      "include_colab_link": true
    },
    "kernelspec": {
      "name": "python3",
      "display_name": "Python 3"
    },
    "language_info": {
      "name": "python"
    }
  },
  "cells": [
    {
      "cell_type": "markdown",
      "metadata": {
        "id": "view-in-github",
        "colab_type": "text"
      },
      "source": [
        "<a href=\"https://colab.research.google.com/github/nurfnick/Operations_Research/blob/main/ChapterRegression.ipynb\" target=\"_parent\"><img src=\"https://colab.research.google.com/assets/colab-badge.svg\" alt=\"Open In Colab\"/></a>"
      ]
    },
    {
      "cell_type": "markdown",
      "source": [
        "# Regression"
      ],
      "metadata": {
        "id": "FY-rJNIGJc8a"
      }
    },
    {
      "cell_type": "markdown",
      "source": [
        "## Introduction\n",
        "Regression is a huge topic but we'll try to cover the basics here with the idea that you will use regression often in business settings and that all the details will not be needed.\n",
        "\n",
        "We will mostly focus on the Method of Least Squares here.  The idea is to make a prediction and to minimize the error in that prediction by minimizing the sum of the squares of that error:\n",
        "\n",
        "$$\n",
        "SSE = \\sum_{i=1}^n\\left(y_i-\\hat {y_i}\\right)^2\n",
        "$$\n",
        "\n"
      ],
      "metadata": {
        "id": "HsaTJ4tEJfSD"
      }
    },
    {
      "cell_type": "markdown",
      "source": [
        "## Derivation\n",
        "\n",
        "To derive the linear regression formula, we assume that $\\hat y$ is linear,\n",
        "$$\n",
        "\\hat y = \\beta_0 +\\beta_1 x\n",
        "$$\n",
        "\n",
        "Then we plug this into the sum of squares error and take the partial derivatives with respect to $\\beta_0$ and $\\beta_1$.  To minimize we then set those derivatives to zero and solve the system.\n",
        "\n",
        "$$\n",
        "\\nabla SSE(\\beta_0,\\beta_1) =\n",
        "\\left(\n",
        "\\sum -2(y_i-\\beta_0 - \\beta_1 x_i)\n",
        ",\n",
        "\\sum -2(y_i-\\beta_0 - \\beta_1 x_i)x_i\n",
        "\\right)\n",
        "$$\n",
        "\n",
        "Setting each of these to zero and simplifying the summations, we arrive at\n",
        "$$\n",
        "\\sum y_i = n\\beta_0 +\\beta_1\\sum x_i\n",
        "$$\n",
        "$$\n",
        "\\sum x_iy_i = \\beta_0\\sum x_i +\\beta_1\\sum x^2_i\n",
        "$$\n",
        "\n",
        "Eliminating and solving, we see that\n",
        "$$\n",
        "\\beta_1 = \\frac{n\\sum x_iy_i - \\sum x_i \\sum y_i}{n\\sum x_i^2 - (\\sum x_i)^2}\n",
        "$$\n",
        "\n",
        "and\n",
        "$$\n",
        "\\beta_0 = \\frac{\\sum y_i - \\beta_1\\sum x_i}n\n",
        "$$\n",
        "\n",
        "Some times these are written using the bar notation, $\\bar x = \\frac{\\sum x_i}n$\n",
        "\n",
        "$$\n",
        "\\beta_0 = \\bar y - \\beta_1\\bar x\n",
        "$$\n",
        "\n",
        "$$\n",
        "\\beta_1 = \\frac{\\bar{xy}-\\bar x\\bar y}{\\bar{x^2} - \\left(\\bar x\\right)^2}\n",
        "$$"
      ],
      "metadata": {
        "id": "5mAexp8MKjiA"
      }
    },
    {
      "cell_type": "markdown",
      "source": [
        "### Example\n",
        "\n",
        "Given the points $(0,4),(3,6),(7,8),(2,5)$, find the linear regression."
      ],
      "metadata": {
        "id": "O90_WEdGE92e"
      }
    },
    {
      "cell_type": "code",
      "source": [
        "x = [0,3,7,2]\n",
        "y = [4,6,8,5]\n",
        "n = len(x)\n",
        "\n",
        "meanx = sum(x)/n\n",
        "meany = sum(y)/n\n",
        "sumsquarex = 0\n",
        "for i in range(n):\n",
        "  sumsquarex += x[i]**2\n",
        "sumsquarex /= n\n",
        "\n",
        "xy = 0\n",
        "for i in range(n):\n",
        "  xy +=x[i]*y[i]\n",
        "xy/=n\n"
      ],
      "metadata": {
        "id": "YCa57uBTFPP2"
      },
      "execution_count": null,
      "outputs": []
    },
    {
      "cell_type": "code",
      "source": [
        "b1 = (xy - meanx*meany)/(sumsquarex-meanx**2)\n",
        "b1"
      ],
      "metadata": {
        "id": "l7Q091EVGDnk",
        "outputId": "2c2752eb-3e25-44e3-fa4a-28457242c056",
        "colab": {
          "base_uri": "https://localhost:8080/"
        }
      },
      "execution_count": null,
      "outputs": [
        {
          "output_type": "execute_result",
          "data": {
            "text/plain": [
              "0.5769230769230769"
            ]
          },
          "metadata": {},
          "execution_count": 6
        }
      ]
    },
    {
      "cell_type": "code",
      "source": [
        "b0 = meany - b1*meanx\n",
        "b0"
      ],
      "metadata": {
        "id": "1c55oAKwGl9j",
        "outputId": "8fc77378-4414-4231-a701-bc1b2284ee2b",
        "colab": {
          "base_uri": "https://localhost:8080/"
        }
      },
      "execution_count": null,
      "outputs": [
        {
          "output_type": "execute_result",
          "data": {
            "text/plain": [
              "4.019230769230769"
            ]
          },
          "metadata": {},
          "execution_count": 7
        }
      ]
    },
    {
      "cell_type": "code",
      "source": [
        "def line(x):\n",
        "  return b1*x+b0\n",
        "\n",
        "import numpy as np\n",
        "import matplotlib.pyplot as plt\n",
        "\n",
        "xs = np.linspace(0,8,100)\n",
        "ys = line(xs)\n",
        "\n",
        "plt.plot(xs,ys)\n",
        "plt.scatter(x,y)"
      ],
      "metadata": {
        "id": "xMPH5zhPGub8",
        "outputId": "9bebca37-86e4-441c-934c-83199c13735e",
        "colab": {
          "base_uri": "https://localhost:8080/",
          "height": 368
        }
      },
      "execution_count": 5,
      "outputs": [
        {
          "output_type": "error",
          "ename": "NameError",
          "evalue": "ignored",
          "traceback": [
            "\u001b[0;31m---------------------------------------------------------------------------\u001b[0m",
            "\u001b[0;31mNameError\u001b[0m                                 Traceback (most recent call last)",
            "\u001b[0;32m<ipython-input-5-5df23b7e55d0>\u001b[0m in \u001b[0;36m<cell line: 8>\u001b[0;34m()\u001b[0m\n\u001b[1;32m      6\u001b[0m \u001b[0;34m\u001b[0m\u001b[0m\n\u001b[1;32m      7\u001b[0m \u001b[0mxs\u001b[0m \u001b[0;34m=\u001b[0m \u001b[0mnp\u001b[0m\u001b[0;34m.\u001b[0m\u001b[0mlinspace\u001b[0m\u001b[0;34m(\u001b[0m\u001b[0;36m0\u001b[0m\u001b[0;34m,\u001b[0m\u001b[0;36m8\u001b[0m\u001b[0;34m,\u001b[0m\u001b[0;36m100\u001b[0m\u001b[0;34m)\u001b[0m\u001b[0;34m\u001b[0m\u001b[0;34m\u001b[0m\u001b[0m\n\u001b[0;32m----> 8\u001b[0;31m \u001b[0mys\u001b[0m \u001b[0;34m=\u001b[0m \u001b[0mline\u001b[0m\u001b[0;34m(\u001b[0m\u001b[0mxs\u001b[0m\u001b[0;34m)\u001b[0m\u001b[0;34m\u001b[0m\u001b[0;34m\u001b[0m\u001b[0m\n\u001b[0m\u001b[1;32m      9\u001b[0m \u001b[0;34m\u001b[0m\u001b[0m\n\u001b[1;32m     10\u001b[0m \u001b[0mplt\u001b[0m\u001b[0;34m.\u001b[0m\u001b[0mplot\u001b[0m\u001b[0;34m(\u001b[0m\u001b[0mxs\u001b[0m\u001b[0;34m,\u001b[0m\u001b[0mys\u001b[0m\u001b[0;34m)\u001b[0m\u001b[0;34m\u001b[0m\u001b[0;34m\u001b[0m\u001b[0m\n",
            "\u001b[0;32m<ipython-input-5-5df23b7e55d0>\u001b[0m in \u001b[0;36mline\u001b[0;34m(x)\u001b[0m\n\u001b[1;32m      1\u001b[0m \u001b[0;32mdef\u001b[0m \u001b[0mline\u001b[0m\u001b[0;34m(\u001b[0m\u001b[0mx\u001b[0m\u001b[0;34m)\u001b[0m\u001b[0;34m:\u001b[0m\u001b[0;34m\u001b[0m\u001b[0;34m\u001b[0m\u001b[0m\n\u001b[0;32m----> 2\u001b[0;31m   \u001b[0;32mreturn\u001b[0m \u001b[0mb1\u001b[0m\u001b[0;34m*\u001b[0m\u001b[0mx\u001b[0m\u001b[0;34m+\u001b[0m\u001b[0mb0\u001b[0m\u001b[0;34m\u001b[0m\u001b[0;34m\u001b[0m\u001b[0m\n\u001b[0m\u001b[1;32m      3\u001b[0m \u001b[0;34m\u001b[0m\u001b[0m\n\u001b[1;32m      4\u001b[0m \u001b[0;32mimport\u001b[0m \u001b[0mnumpy\u001b[0m \u001b[0;32mas\u001b[0m \u001b[0mnp\u001b[0m\u001b[0;34m\u001b[0m\u001b[0;34m\u001b[0m\u001b[0m\n\u001b[1;32m      5\u001b[0m \u001b[0;32mimport\u001b[0m \u001b[0mmatplotlib\u001b[0m\u001b[0;34m.\u001b[0m\u001b[0mpyplot\u001b[0m \u001b[0;32mas\u001b[0m \u001b[0mplt\u001b[0m\u001b[0;34m\u001b[0m\u001b[0;34m\u001b[0m\u001b[0m\n",
            "\u001b[0;31mNameError\u001b[0m: name 'b1' is not defined"
          ]
        }
      ]
    },
    {
      "cell_type": "markdown",
      "source": [
        "Fits the line very well!  You should be asking yourself why I didn't use a built-in for this.  Well I should.  I picked `scipy` for my package as the code is easier to explain than `scikit-learn`."
      ],
      "metadata": {
        "id": "Jc5N_00b-S4p"
      }
    },
    {
      "cell_type": "code",
      "source": [
        "from scipy import stats\n",
        "\n",
        "stats.linregress(x,y)"
      ],
      "metadata": {
        "id": "YXTBbRuW_s3_",
        "outputId": "4d75ec7f-8398-4598-e473-9b38e42c8ddd",
        "colab": {
          "base_uri": "https://localhost:8080/"
        }
      },
      "execution_count": null,
      "outputs": [
        {
          "output_type": "execute_result",
          "data": {
            "text/plain": [
              "LinregressResult(slope=0.5769230769230769, intercept=4.019230769230769, rvalue=0.9944903161976938, pvalue=0.005509683802306207, stderr=0.04300130725961148, intercept_stderr=0.16929631597749104)"
            ]
          },
          "metadata": {},
          "execution_count": 9
        }
      ]
    },
    {
      "cell_type": "markdown",
      "source": [
        "We see that the slope $\\beta_1$ and intercept $\\beta_0$ agree with our above calculation."
      ],
      "metadata": {
        "id": "CfwoLn3S_8WV"
      }
    },
    {
      "cell_type": "markdown",
      "source": [
        "## Multiple Regression\n",
        "\n",
        "For multiple regression, we will ask that there is some linear transformation from $\\vec x$ to $y$.  So we want\n",
        "$$\n",
        "y = \\beta_1x_1 +\\beta_2x_2 +\\cdots +\\beta_n x_n\n",
        "$$\n",
        "\n",
        "We can accomplish this by considering all the $y$ in a column matrix and all the $x$ in a matrix then\n",
        "$$\n",
        "Y = X\\mathbf{\\beta}\n",
        "$$\n",
        "\n",
        "But we want to find the $\\mathbf{\\beta}$ that solve this equation.  We assume that $X$ is rank $n$, then $X^TX$ is invertible so\n",
        "$$\n",
        "X^TY = X^TX\\beta\n",
        "$$\n",
        "so\n",
        "$$\n",
        "\\beta = \\left(X^TX\\right)^{-1}X^TY\n",
        "$$"
      ],
      "metadata": {
        "id": "XCRujLZ6BneJ"
      }
    },
    {
      "cell_type": "markdown",
      "source": [
        "### Example\n",
        "\n",
        "Let's use the same example from above and compute the linear regression in a multiple regression system.  To do this, you add the intercept by creating a column of 1's in the $X$ matrix, `np.ones` is perfect for this.  Matrix multiplication is in the `numpy` package with `@` and matrix inverse can be done with `np.linalg.inv`"
      ],
      "metadata": {
        "id": "eVSCP4rBYcAn"
      }
    },
    {
      "cell_type": "code",
      "execution_count": null,
      "metadata": {
        "id": "-HH5pppHJcbJ",
        "outputId": "2bc53f68-d04d-4366-bebc-e8c7c5d68615",
        "colab": {
          "base_uri": "https://localhost:8080/"
        }
      },
      "outputs": [
        {
          "output_type": "stream",
          "name": "stdout",
          "text": [
            "[[0. 1.]\n",
            " [3. 1.]\n",
            " [7. 1.]\n",
            " [2. 1.]]\n"
          ]
        }
      ],
      "source": [
        "x = np.array([[0,3,7,2],np.ones(4)]).T\n",
        "y = np.array([4,6,8,5])\n",
        "\n",
        "print(x)"
      ]
    },
    {
      "cell_type": "code",
      "source": [
        "np.linalg.inv(x.T@x)@(x.T@y)"
      ],
      "metadata": {
        "id": "a2Nwmi0KZTpO",
        "outputId": "12c914ce-d268-480b-e0a6-76e01c875416",
        "colab": {
          "base_uri": "https://localhost:8080/"
        }
      },
      "execution_count": null,
      "outputs": [
        {
          "output_type": "execute_result",
          "data": {
            "text/plain": [
              "array([0.57692308, 4.01923077])"
            ]
          },
          "metadata": {},
          "execution_count": 25
        }
      ]
    },
    {
      "cell_type": "markdown",
      "source": [
        "### Example with Categorical Variables\n",
        "\n",
        "I am going to add a categorical variable to my baby example and show how we would include that.  $(0,4,yes),(3,6,no),(7,8,yes),(2,5,no)$,\n",
        "\n",
        "Since my dataset is tiny, I could do it by hand but what fun would that be?"
      ],
      "metadata": {
        "id": "AMb3Q5NDbU8b"
      }
    },
    {
      "cell_type": "code",
      "source": [
        "x = np.array([[0,3,7,2],['yes','no','yes','no']]).T\n",
        "y = np.array([4,6,7,5])\n",
        "\n",
        "x"
      ],
      "metadata": {
        "id": "5xgENpLPar2c",
        "outputId": "80c84bef-1623-4633-a832-1083435d77e6",
        "colab": {
          "base_uri": "https://localhost:8080/"
        }
      },
      "execution_count": null,
      "outputs": [
        {
          "output_type": "execute_result",
          "data": {
            "text/plain": [
              "array([['0', 'yes'],\n",
              "       ['3', 'no'],\n",
              "       ['7', 'yes'],\n",
              "       ['2', 'no']], dtype='<U21')"
            ]
          },
          "metadata": {},
          "execution_count": 70
        }
      ]
    },
    {
      "cell_type": "markdown",
      "source": [
        "I have printed the column of categorical variables.  I will next change it via a one-hot-encoding.  Again I could use the `scikit-learn` package but I am not.\n",
        "\n",
        "I grab the column that has the categorical variables, find the different values it can be and then add columns to the `x` matrix with the indicator variable."
      ],
      "metadata": {
        "id": "4OuRqJbHc178"
      }
    },
    {
      "cell_type": "code",
      "source": [
        "allTheOptionsForCategrocial = np.unique(x[:,1])\n",
        "allTheOptionsForCategrocial"
      ],
      "metadata": {
        "id": "gpwFLDUtcuA4",
        "outputId": "371b862f-90fa-4dbf-e58d-bf39a0283848",
        "colab": {
          "base_uri": "https://localhost:8080/"
        }
      },
      "execution_count": null,
      "outputs": [
        {
          "output_type": "execute_result",
          "data": {
            "text/plain": [
              "array(['no', 'yes'], dtype='<U21')"
            ]
          },
          "metadata": {},
          "execution_count": 30
        }
      ]
    },
    {
      "cell_type": "code",
      "source": [
        "for i in allTheOptionsForCategrocial:\n",
        "  x = np.append(x,1*(x[:,1] == i)[...,None], 1)"
      ],
      "metadata": {
        "id": "mTNc4er2dPHs"
      },
      "execution_count": null,
      "outputs": []
    },
    {
      "cell_type": "code",
      "source": [
        "x"
      ],
      "metadata": {
        "id": "6XbvJwamdXAU",
        "outputId": "89d5ae0a-46fe-4201-f739-46ee56795370",
        "colab": {
          "base_uri": "https://localhost:8080/"
        }
      },
      "execution_count": null,
      "outputs": [
        {
          "output_type": "execute_result",
          "data": {
            "text/plain": [
              "array([['0', 'yes', '0', '1'],\n",
              "       ['3', 'no', '1', '0'],\n",
              "       ['7', 'yes', '0', '1'],\n",
              "       ['2', 'no', '1', '0']], dtype='<U21')"
            ]
          },
          "metadata": {},
          "execution_count": 76
        }
      ]
    },
    {
      "cell_type": "markdown",
      "source": [
        "I've added the columns for the indicator.  Now I will remove the categorical one so all entries are numeric."
      ],
      "metadata": {
        "id": "FId5syc-foQ8"
      }
    },
    {
      "cell_type": "code",
      "source": [
        "x = x[:,[0,2,3]]\n",
        "\n",
        "x\n"
      ],
      "metadata": {
        "id": "NMUwIbFjdZIy",
        "outputId": "dffdbe46-4920-4fcb-b968-a4128649cab7",
        "colab": {
          "base_uri": "https://localhost:8080/"
        }
      },
      "execution_count": null,
      "outputs": [
        {
          "output_type": "execute_result",
          "data": {
            "text/plain": [
              "array([['0', '0', '1'],\n",
              "       ['3', '1', '0'],\n",
              "       ['7', '0', '1'],\n",
              "       ['2', '1', '0']], dtype='<U21')"
            ]
          },
          "metadata": {},
          "execution_count": 77
        }
      ]
    },
    {
      "cell_type": "markdown",
      "source": [
        "Some reason everything is a char so I'll convert back to floats."
      ],
      "metadata": {
        "id": "_hx7-f2QgfoL"
      }
    },
    {
      "cell_type": "code",
      "source": [
        "x = np.float64(x)\n",
        "x"
      ],
      "metadata": {
        "id": "vtc3KB0sgE7U",
        "outputId": "31ec77ac-1683-443c-f437-c28e8e3a9d15",
        "colab": {
          "base_uri": "https://localhost:8080/"
        }
      },
      "execution_count": null,
      "outputs": [
        {
          "output_type": "execute_result",
          "data": {
            "text/plain": [
              "array([[0., 0., 1.],\n",
              "       [3., 1., 0.],\n",
              "       [7., 0., 1.],\n",
              "       [2., 1., 0.]])"
            ]
          },
          "metadata": {},
          "execution_count": 80
        }
      ]
    },
    {
      "cell_type": "markdown",
      "source": [
        "Time for the formula!"
      ],
      "metadata": {
        "id": "H2xi0FcpgnAk"
      }
    },
    {
      "cell_type": "code",
      "source": [
        "np.linalg.inv(x.T@x)@(x.T@y)"
      ],
      "metadata": {
        "id": "iQmZfBsyeTzw",
        "outputId": "eabf9221-2175-45cb-f42d-5796cc7a6864",
        "colab": {
          "base_uri": "https://localhost:8080/"
        }
      },
      "execution_count": null,
      "outputs": [
        {
          "output_type": "execute_result",
          "data": {
            "text/plain": [
              "array([0.44, 4.4 , 3.96])"
            ]
          },
          "metadata": {},
          "execution_count": 81
        }
      ]
    },
    {
      "cell_type": "markdown",
      "source": [
        "Interpreting this insists that slope for numeric is 0.44 but if you have a 'no' you have intercept of 4.4 where as if you have a 'yes' your intercept is 3.96.  This answer is very similar to before!"
      ],
      "metadata": {
        "id": "GLq-altCgp-z"
      }
    },
    {
      "cell_type": "markdown",
      "source": [
        "### Other Regressions\n",
        "\n",
        "Many other regressions can be expressed as the linear regression.  For example, you suspect an exponential growth.  \n",
        "$$\n",
        "y = ce^{ax}\n",
        "$$\n",
        "It is enough to take the log of your output $y$ and fit a linear regression since\n",
        "$$\n",
        "\\log y = \\log(ce^{ax}) = \\log c + ax.\n",
        "$$"
      ],
      "metadata": {
        "id": "L2JmS-94e9Il"
      }
    },
    {
      "cell_type": "markdown",
      "source": [
        "## Logistic Regression\n",
        "\n",
        "Often we are interested in assigning a probability of a certain outcome based on another variable.  Consider the example of passing your operations research test based on how many hours you studied.  Below is survey results of number of hours studied and an indeicator for passing\n",
        "$$\n",
        "(10,1),(5,1),(5,0),(1,0)\n",
        "$$\n",
        "\n",
        "We want to be able to figure out your likelyhood of passing based on the number of hours you study."
      ],
      "metadata": {
        "id": "VDxD02afAb8x"
      }
    },
    {
      "cell_type": "code",
      "source": [
        "x = [10,8,2,1]\n",
        "y = [1,1,0,0]\n",
        "\n",
        "linreg = stats.linregress(x,y)"
      ],
      "metadata": {
        "id": "GnTLnohsf9CW"
      },
      "execution_count": 38,
      "outputs": []
    },
    {
      "cell_type": "code",
      "source": [
        "def probability(x):\n",
        "  return 1/(1+np.exp(-linreg.slope*x-linreg.intercept))"
      ],
      "metadata": {
        "id": "n4_u7-P0DWM2"
      },
      "execution_count": 32,
      "outputs": []
    },
    {
      "cell_type": "code",
      "source": [
        "xs = np.linspace(-10,10,100)\n",
        "ys = probability(xs)\n",
        "\n",
        "plt.plot(xs,ys)\n",
        "plt.scatter(x,y)"
      ],
      "metadata": {
        "id": "nDmyNkMdDr3f",
        "outputId": "e752844f-0b21-4cf3-9a48-497677b8575a",
        "colab": {
          "base_uri": "https://localhost:8080/",
          "height": 447
        }
      },
      "execution_count": 33,
      "outputs": [
        {
          "output_type": "execute_result",
          "data": {
            "text/plain": [
              "<matplotlib.collections.PathCollection at 0x7fde4dec88e0>"
            ]
          },
          "metadata": {},
          "execution_count": 33
        },
        {
          "output_type": "display_data",
          "data": {
            "text/plain": [
              "<Figure size 640x480 with 1 Axes>"
            ],
            "image/png": "[encoded data removed]"
          },
          "metadata": {}
        }
      ]
    },
    {
      "cell_type": "code",
      "source": [
        "linreg"
      ],
      "metadata": {
        "id": "1Ar7aGxADto1",
        "outputId": "19f71ce5-0135-40e0-ad05-6e3c390ade42",
        "colab": {
          "base_uri": "https://localhost:8080/"
        }
      },
      "execution_count": 16,
      "outputs": [
        {
          "output_type": "execute_result",
          "data": {
            "text/plain": [
              "LinregressResult(slope=0.11042944785276074, intercept=-0.07975460122699385, rvalue=0.7049344049891616, pvalue=0.2950655950108384, stderr=0.07856594156359323, intercept_stderr=0.4827172265519084)"
            ]
          },
          "metadata": {},
          "execution_count": 16
        }
      ]
    },
    {
      "cell_type": "code",
      "source": [
        "x = [ \t0.50, \t0.75, \t1.00, \t1.25, \t1.50, \t1.75, \t1.75, \t2.00, \t2.25, \t2.50, \t2.75, \t3.00, \t3.25, \t3.50, \t4.00, \t4.25, \t4.50, \t4.75, \t5.00, \t5.50]\n",
        "y = [\t0 ,\t0 ,\t0 ,\t0 ,\t0 ,\t0 ,\t1 ,\t0 ,\t1 ,\t0 ,\t1 ,\t0 ,\t1 ,\t0 ,\t1 ,\t1 ,\t1 ,\t1, \t1, \t1 ]"
      ],
      "metadata": {
        "id": "_uqfOl6iEXtm"
      },
      "execution_count": 55,
      "outputs": []
    },
    {
      "cell_type": "code",
      "source": [
        "\n",
        "\n",
        "\n",
        "linreg = stats.linregress(x,y)\n",
        "\n",
        "def probability(x):\n",
        "  return 1/(1+np.exp(-linreg.slope*x-linreg.intercept))\n",
        "\n",
        "xs = np.linspace(0,6,100)\n",
        "ys = probability(xs)\n",
        "\n",
        "plt.plot(xs,ys)\n",
        "plt.scatter(x,y)"
      ],
      "metadata": {
        "id": "KnsY-vazFJeN",
        "outputId": "36b4ae87-b537-48a9-c0a7-e35747512ea8",
        "colab": {
          "base_uri": "https://localhost:8080/",
          "height": 447
        }
      },
      "execution_count": 52,
      "outputs": [
        {
          "output_type": "execute_result",
          "data": {
            "text/plain": [
              "<matplotlib.collections.PathCollection at 0x7fde4dc1a3e0>"
            ]
          },
          "metadata": {},
          "execution_count": 52
        },
        {
          "output_type": "display_data",
          "data": {
            "text/plain": [
              "<Figure size 640x480 with 1 Axes>"
            ],
            "image/png": "[encoded data removed]"
          },
          "metadata": {}
        }
      ]
    },
    {
      "cell_type": "code",
      "source": [
        "linreg"
      ],
      "metadata": {
        "id": "vNi7BX87FSQD",
        "outputId": "9b3a311f-a878-433b-c6b8-7ae12dc27606",
        "colab": {
          "base_uri": "https://localhost:8080/"
        }
      },
      "execution_count": 30,
      "outputs": [
        {
          "output_type": "execute_result",
          "data": {
            "text/plain": [
              "LinregressResult(slope=0.23459561219317931, intercept=-0.1539352689884873, rvalue=0.689243146277994, pvalue=0.0007751131598569146, stderr=0.058125622469009215, intercept_stderr=0.18314760130152624)"
            ]
          },
          "metadata": {},
          "execution_count": 30
        }
      ]
    },
    {
      "cell_type": "code",
      "source": [
        "trans = lambda x: 1/(1+np.exp(-x))\n",
        "\n",
        "trans(0)"
      ],
      "metadata": {
        "id": "tOTBWfq1FxxA",
        "outputId": "304c56c0-e82e-4c23-81b5-6a2a28edc71c",
        "colab": {
          "base_uri": "https://localhost:8080/"
        }
      },
      "execution_count": 56,
      "outputs": [
        {
          "output_type": "execute_result",
          "data": {
            "text/plain": [
              "0.5"
            ]
          },
          "metadata": {},
          "execution_count": 56
        }
      ]
    },
    {
      "cell_type": "code",
      "source": [
        "trans(np.array(x))"
      ],
      "metadata": {
        "id": "vA_TTvg0OnYV",
        "outputId": "21e11ed4-624b-4c11-c4f7-c564568e6ea0",
        "colab": {
          "base_uri": "https://localhost:8080/"
        }
      },
      "execution_count": 57,
      "outputs": [
        {
          "output_type": "execute_result",
          "data": {
            "text/plain": [
              "array([0.62245933, 0.6791787 , 0.73105858, 0.77729986, 0.81757448,\n",
              "       0.8519528 , 0.8519528 , 0.88079708, 0.90465054, 0.92414182,\n",
              "       0.93991335, 0.95257413, 0.96267311, 0.97068777, 0.98201379,\n",
              "       0.98593637, 0.98901306, 0.99142251, 0.99330715, 0.99592986])"
            ]
          },
          "metadata": {},
          "execution_count": 57
        }
      ]
    },
    {
      "cell_type": "code",
      "source": [
        "linreg = stats.linregress(x,trans(np.array(y)))\n",
        "\n",
        "def probability(x):\n",
        "  return 1/(1+np.exp(-linreg.slope*x-linreg.intercept))\n",
        "\n",
        "xs = np.linspace(0,6,100)\n",
        "ys = probability(xs)\n",
        "\n",
        "plt.plot(xs,ys)\n",
        "plt.scatter(x,y)"
      ],
      "metadata": {
        "id": "U5rB2p4GQYVc",
        "outputId": "12585dff-a0ab-4c22-98bf-ba8d95f58210",
        "colab": {
          "base_uri": "https://localhost:8080/",
          "height": 447
        }
      },
      "execution_count": 60,
      "outputs": [
        {
          "output_type": "execute_result",
          "data": {
            "text/plain": [
              "<matplotlib.collections.PathCollection at 0x7fde4d963910>"
            ]
          },
          "metadata": {},
          "execution_count": 60
        },
        {
          "output_type": "display_data",
          "data": {
            "text/plain": [
              "<Figure size 640x480 with 1 Axes>"
            ],
            "image/png": "[encoded data removed]"
          },
          "metadata": {}
        }
      ]
    },
    {
      "cell_type": "code",
      "source": [
        "w"
      ],
      "metadata": {
        "id": "XhKHqzqNQquh"
      },
      "execution_count": null,
      "outputs": []
    }
  ]
}