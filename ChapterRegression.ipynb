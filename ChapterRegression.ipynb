{
  "nbformat": 4,
  "nbformat_minor": 0,
  "metadata": {
    "colab": {
      "provenance": [],
      "authorship_tag": "ABX9TyO6T1y4I8irBEiA7papUEOP",
      "include_colab_link": true
    },
    "kernelspec": {
      "name": "python3",
      "display_name": "Python 3"
    },
    "language_info": {
      "name": "python"
    }
  },
  "cells": [
    {
      "cell_type": "markdown",
      "metadata": {
        "id": "view-in-github",
        "colab_type": "text"
      },
      "source": [
        "<a href=\"https://colab.research.google.com/github/nurfnick/Operations_Research/blob/main/ChapterRegression.ipynb\" target=\"_parent\"><img src=\"https://colab.research.google.com/assets/colab-badge.svg\" alt=\"Open In Colab\"/></a>"
      ]
    },
    {
      "cell_type": "markdown",
      "source": [
        "# Regression"
      ],
      "metadata": {
        "id": "FY-rJNIGJc8a"
      }
    },
    {
      "cell_type": "markdown",
      "source": [
        "## Introduction\n",
        "Regression is a huge topic but we'll try to cover the basics here with the idea that you will use regression often in business settings and that all the details will not be needed.\n",
        "\n",
        "We will mostly focus on the Method of Least Squares here.  The idea is to make a prediction and to minimize the error in that prediction by minimizing the sum of the squares of that error:\n",
        "\n",
        "$$\n",
        "SSE = \\sum_{i=1}^n\\left(y_i-\\hat {y_i}\\right)^2\n",
        "$$\n",
        "\n"
      ],
      "metadata": {
        "id": "HsaTJ4tEJfSD"
      }
    },
    {
      "cell_type": "markdown",
      "source": [
        "## Derivation\n",
        "\n",
        "To derive the linear regression formula, we assume that $\\hat y$ is linear,\n",
        "$$\n",
        "\\hat y = \\beta_0 +\\beta_1 x\n",
        "$$\n",
        "\n",
        "Then we plug this into the sum of squares error and take the partial derivatives with respect to $\\beta_0$ and $\\beta_1$.  To minimize we then set those derivatives to zero and solve the system.\n",
        "\n",
        "$$\n",
        "\\nabla SSE(\\beta_0,\\beta_1) =\n",
        "\\left(\n",
        "\\sum -2(y_i-\\beta_0 - \\beta_1 x_i)\n",
        ",\n",
        "\\sum -2(y_i-\\beta_0 - \\beta_1 x_i)x_i\n",
        "\\right)\n",
        "$$\n",
        "\n",
        "Setting each of these to zero and simplifying the summations, we arrive at\n",
        "$$\n",
        "\\sum y_i = n\\beta_0 +\\beta_1\\sum x_i\n",
        "$$\n",
        "$$\n",
        "\\sum x_iy_i = \\beta_0\\sum x_i +\\beta_1\\sum x^2_i\n",
        "$$\n",
        "\n",
        "Eliminating and solving, we see that\n",
        "$$\n",
        "\\beta_1 = \\frac{n\\sum x_iy_i - \\sum x_i \\sum y_i}{n\\sum x_i^2 - (\\sum x_i)^2}\n",
        "$$\n",
        "\n",
        "and\n",
        "$$\n",
        "\\beta_0 = \\frac{\\sum y_i - \\beta_1\\sum x_i}n\n",
        "$$"
      ],
      "metadata": {
        "id": "5mAexp8MKjiA"
      }
    },
    {
      "cell_type": "code",
      "execution_count": null,
      "metadata": {
        "id": "-HH5pppHJcbJ"
      },
      "outputs": [],
      "source": [
        "\n"
      ]
    }
  ]
}