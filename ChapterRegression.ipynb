{
  "nbformat": 4,
  "nbformat_minor": 0,
  "metadata": {
    "colab": {
      "provenance": [],
      "authorship_tag": "ABX9TyNWZoiBv+YqxiwcGLCJrbNG",
      "include_colab_link": true
    },
    "kernelspec": {
      "name": "python3",
      "display_name": "Python 3"
    },
    "language_info": {
      "name": "python"
    }
  },
  "cells": [
    {
      "cell_type": "markdown",
      "metadata": {
        "id": "view-in-github",
        "colab_type": "text"
      },
      "source": [
        "<a href=\"https://colab.research.google.com/github/nurfnick/Operations_Research/blob/main/ChapterRegression.ipynb\" target=\"_parent\"><img src=\"https://colab.research.google.com/assets/colab-badge.svg\" alt=\"Open In Colab\"/></a>"
      ]
    },
    {
      "cell_type": "markdown",
      "source": [
        "# Regression"
      ],
      "metadata": {
        "id": "FY-rJNIGJc8a"
      }
    },
    {
      "cell_type": "markdown",
      "source": [
        "## Introduction\n",
        "Regression is a huge topic but we'll try to cover the basics here with the idea that you will use regression often in business settings and that all the details will not be needed.\n",
        "\n",
        "We will mostly focus on the Method of Least Squares here.  The idea is to make a prediction and to minimize the error in that prediction by minimizing the sum of the squares of that error:\n",
        "\n",
        "$$\n",
        "SSE = \\sum_{i=1}^n\\left(y_i-\\hat {y_i}\\right)^2\n",
        "$$\n",
        "\n"
      ],
      "metadata": {
        "id": "HsaTJ4tEJfSD"
      }
    },
    {
      "cell_type": "markdown",
      "source": [
        "## Derivation\n",
        "\n",
        "To derive the linear regression formula, we assume that $\\hat y$ is linear,\n",
        "$$\n",
        "\\hat y = \\beta_0 +\\beta_1 x\n",
        "$$\n",
        "\n",
        "Then we plug this into the sum of squares error and take the partial derivatives with respect to $\\beta_0$ and $\\beta_1$.  To minimize we then set those derivatives to zero and solve the system.\n",
        "\n",
        "$$\n",
        "\\nabla SSE(\\beta_0,\\beta_1) =\n",
        "\\left(\n",
        "\\sum -2(y_i-\\beta_0 - \\beta_1 x_i)\n",
        ",\n",
        "\\sum -2(y_i-\\beta_0 - \\beta_1 x_i)x_i\n",
        "\\right)\n",
        "$$\n",
        "\n",
        "Setting each of these to zero and simplifying the summations, we arrive at\n",
        "$$\n",
        "\\sum y_i = n\\beta_0 +\\beta_1\\sum x_i\n",
        "$$\n",
        "$$\n",
        "\\sum x_iy_i = \\beta_0\\sum x_i +\\beta_1\\sum x^2_i\n",
        "$$\n",
        "\n",
        "Eliminating and solving, we see that\n",
        "$$\n",
        "\\beta_1 = \\frac{n\\sum x_iy_i - \\sum x_i \\sum y_i}{n\\sum x_i^2 - (\\sum x_i)^2}\n",
        "$$\n",
        "\n",
        "and\n",
        "$$\n",
        "\\beta_0 = \\frac{\\sum y_i - \\beta_1\\sum x_i}n\n",
        "$$\n",
        "\n",
        "Some times these are written using the bar notation, $\\bar x = \\frac{\\sum x_i}n$\n",
        "\n",
        "$$\n",
        "\\beta_0 = \\bar y - \\beta_1\\bar x\n",
        "$$\n",
        "\n",
        "$$\n",
        "\\beta_1 = \\frac{\\bar{xy}-\\bar x\\bar y}{\\bar{x^2} - \\left(\\bar x\\right)^2}\n",
        "$$"
      ],
      "metadata": {
        "id": "5mAexp8MKjiA"
      }
    },
    {
      "cell_type": "markdown",
      "source": [
        "### Example\n",
        "\n",
        "Given the points $(0,5),(3,4),(7,8),(2,5)$, find the linear regression."
      ],
      "metadata": {
        "id": "O90_WEdGE92e"
      }
    },
    {
      "cell_type": "code",
      "source": [
        "x = [0,3,7,2]\n",
        "y = [5,4,8,5]\n",
        "n = len(x)\n",
        "\n",
        "meanx = sum(x)/n\n",
        "meany = sum(y)/n\n",
        "sumsquarex = 0\n",
        "for i in range(n):\n",
        "  sumsquarex += x[i]**2\n",
        "sumsquarex /= n\n",
        "\n",
        "xy = 0\n",
        "for i in range(n):\n",
        "  xy +=x[i]*y[i]\n",
        "xy/=n\n"
      ],
      "metadata": {
        "id": "YCa57uBTFPP2"
      },
      "execution_count": 6,
      "outputs": []
    },
    {
      "cell_type": "code",
      "source": [
        "b1 = (xy - meanx*meany)/(sumsquarex-meanx**2)\n",
        "b1"
      ],
      "metadata": {
        "id": "l7Q091EVGDnk",
        "outputId": "2b472ac1-abba-4e8a-80e0-22572146f8c6",
        "colab": {
          "base_uri": "https://localhost:8080/"
        }
      },
      "execution_count": 8,
      "outputs": [
        {
          "output_type": "execute_result",
          "data": {
            "text/plain": [
              "0.46153846153846156"
            ]
          },
          "metadata": {},
          "execution_count": 8
        }
      ]
    },
    {
      "cell_type": "code",
      "source": [
        "b0 = meany - b1*meanx\n",
        "b0"
      ],
      "metadata": {
        "id": "1c55oAKwGl9j",
        "outputId": "942d7b9c-164d-4897-ea6a-b2869637dcf3",
        "colab": {
          "base_uri": "https://localhost:8080/"
        }
      },
      "execution_count": 10,
      "outputs": [
        {
          "output_type": "execute_result",
          "data": {
            "text/plain": [
              "4.115384615384615"
            ]
          },
          "metadata": {},
          "execution_count": 10
        }
      ]
    },
    {
      "cell_type": "code",
      "source": [
        "def line(x):\n",
        "  return b1*x+b0\n",
        "\n",
        "import numpy as np\n",
        "import matplotlib.pyplot as plt\n",
        "\n",
        "xs = np.linspace(0,8,100)\n",
        "ys = line(xs)\n",
        "\n",
        "plt.plot(xs,ys)\n",
        "plt.scatter(x,y)"
      ],
      "metadata": {
        "id": "xMPH5zhPGub8",
        "outputId": "3bf60212-3958-468b-f1c0-27313d0fd43b",
        "colab": {
          "base_uri": "https://localhost:8080/",
          "height": 447
        }
      },
      "execution_count": 11,
      "outputs": [
        {
          "output_type": "execute_result",
          "data": {
            "text/plain": [
              "<matplotlib.collections.PathCollection at 0x795ed0c8b1f0>"
            ]
          },
          "metadata": {},
          "execution_count": 11
        },
        {
          "output_type": "display_data",
          "data": {
            "text/plain": [
              "<Figure size 640x480 with 1 Axes>"
            ],
            "image/png": "[encoded data removed]"
          },
          "metadata": {}
        }
      ]
    },
    {
      "cell_type": "markdown",
      "source": [
        "## Multiple Regression\n",
        "\n",
        "For multiple regression, we will ask that there is some linear transformation from $\\vec x$ to $y$.  So we want\n",
        "$$\n",
        "y = \\beta_1x_1 +\\beta_2x_2 +\\cdots +\\beta_n x_n\n",
        "$$\n",
        "\n",
        "We can accomplish this by considering all the $y$ in a column matrix and all the $x$ in a matrix then\n",
        "$$\n",
        "Y = X\\mathbf{\\beta}\n",
        "$$\n",
        "\n",
        "But we want to find the $\\mathbf{\\beta}$ that solve this equation.  We assume that $X$ is rank $n$, then $X^TX$ is invertible so\n",
        "$$\n",
        "X^TY = X^TX\\beta\n",
        "$$\n",
        "so\n",
        "$$\n",
        "\\beta = \\left(X^TX\\right)^{-1}X^TY\n",
        "$$"
      ],
      "metadata": {
        "id": "XCRujLZ6BneJ"
      }
    },
    {
      "cell_type": "code",
      "execution_count": null,
      "metadata": {
        "id": "-HH5pppHJcbJ"
      },
      "outputs": [],
      "source": [
        "\n"
      ]
    }
  ]
}