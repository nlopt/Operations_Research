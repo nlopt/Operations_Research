{
  "nbformat": 4,
  "nbformat_minor": 0,
  "metadata": {
    "colab": {
      "provenance": [],
      "authorship_tag": "ABX9TyOox2z1uZZtZV+Yg69uAZ2O",
      "include_colab_link": true
    },
    "kernelspec": {
      "name": "python3",
      "display_name": "Python 3"
    },
    "language_info": {
      "name": "python"
    }
  },
  "cells": [
    {
      "cell_type": "markdown",
      "metadata": {
        "id": "view-in-github",
        "colab_type": "text"
      },
      "source": [
        "<a href=\"https://colab.research.google.com/github/nurfnick/Operations_Research/blob/main/CalculusInPython.ipynb\" target=\"_parent\"><img src=\"https://colab.research.google.com/assets/colab-badge.svg\" alt=\"Open In Colab\"/></a>"
      ]
    },
    {
      "cell_type": "markdown",
      "source": [
        "# Calculus Optimizing in Python"
      ],
      "metadata": {
        "id": "U-Sjo3z3nPIX"
      }
    },
    {
      "cell_type": "code",
      "execution_count": 5,
      "metadata": {
        "id": "1-XPVDnmnOe0"
      },
      "outputs": [],
      "source": [
        "from sympy import *\n",
        "\n",
        "x,a = symbols('x, a')"
      ]
    },
    {
      "cell_type": "code",
      "source": [
        "f = x**a\n",
        "f"
      ],
      "metadata": {
        "colab": {
          "base_uri": "https://localhost:8080/",
          "height": 38
        },
        "id": "r5w2-wUBnbJG",
        "outputId": "ee648e7a-877a-4f55-f9b3-e348f16255dc"
      },
      "execution_count": 7,
      "outputs": [
        {
          "output_type": "execute_result",
          "data": {
            "text/plain": [
              "x**a"
            ],
            "text/latex": "$\\displaystyle x^{a}$"
          },
          "metadata": {},
          "execution_count": 7
        }
      ]
    },
    {
      "cell_type": "code",
      "source": [
        "f.diff(x)"
      ],
      "metadata": {
        "colab": {
          "base_uri": "https://localhost:8080/",
          "height": 51
        },
        "id": "On_e6bosnni_",
        "outputId": "189c041b-f6b7-4537-e91f-a428f3de355e"
      },
      "execution_count": 8,
      "outputs": [
        {
          "output_type": "execute_result",
          "data": {
            "text/plain": [
              "a*x**a/x"
            ],
            "text/latex": "$\\displaystyle \\frac{a x^{a}}{x}$"
          },
          "metadata": {},
          "execution_count": 8
        }
      ]
    },
    {
      "cell_type": "code",
      "source": [
        "f.diff(a)"
      ],
      "metadata": {
        "colab": {
          "base_uri": "https://localhost:8080/",
          "height": 38
        },
        "id": "lCsKoZXupSlp",
        "outputId": "cf84c5e0-a087-4921-84d0-5589756a9e9b"
      },
      "execution_count": 9,
      "outputs": [
        {
          "output_type": "execute_result",
          "data": {
            "text/plain": [
              "x**a*log(x)"
            ],
            "text/latex": "$\\displaystyle x^{a} \\log{\\left(x \\right)}$"
          },
          "metadata": {},
          "execution_count": 9
        }
      ]
    },
    {
      "cell_type": "code",
      "source": [
        "solve(f.diff(x).subs(a,1),x)"
      ],
      "metadata": {
        "colab": {
          "base_uri": "https://localhost:8080/"
        },
        "id": "-UVPQ0P0pV55",
        "outputId": "6c915db5-9a39-4a71-8094-e821e1a70684"
      },
      "execution_count": 16,
      "outputs": [
        {
          "output_type": "execute_result",
          "data": {
            "text/plain": [
              "[]"
            ]
          },
          "metadata": {},
          "execution_count": 16
        }
      ]
    },
    {
      "cell_type": "code",
      "source": [
        "f.subs(a,2)"
      ],
      "metadata": {
        "colab": {
          "base_uri": "https://localhost:8080/",
          "height": 38
        },
        "id": "lK9gHKlRpbms",
        "outputId": "3097ca60-a748-46e2-dc45-74c90172c471"
      },
      "execution_count": 13,
      "outputs": [
        {
          "output_type": "execute_result",
          "data": {
            "text/plain": [
              "x**2"
            ],
            "text/latex": "$\\displaystyle x^{2}$"
          },
          "metadata": {},
          "execution_count": 13
        }
      ]
    },
    {
      "cell_type": "code",
      "source": [],
      "metadata": {
        "id": "ZW2qyaFPpjQz"
      },
      "execution_count": 13,
      "outputs": []
    }
  ]
}