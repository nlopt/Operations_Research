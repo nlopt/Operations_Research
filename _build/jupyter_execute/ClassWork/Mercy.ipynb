{
 "cells": [
  {
   "cell_type": "markdown",
   "metadata": {
    "colab_type": "text",
    "id": "view-in-github"
   },
   "source": [
    "<a href=\"https://colab.research.google.com/github/nurfnick/Operations_Research/blob/main/Mercy.ipynb\" target=\"_parent\"><img src=\"https://colab.research.google.com/assets/colab-badge.svg\" alt=\"Open In Colab\"/></a>"
   ]
  },
  {
   "cell_type": "code",
   "execution_count": 6,
   "metadata": {
    "id": "IUhFyfPi_bum"
   },
   "outputs": [],
   "source": [
    "from sympy import *\n",
    "\n",
    "x,a,b = symbols('x,a,b')"
   ]
  },
  {
   "cell_type": "code",
   "execution_count": 7,
   "metadata": {
    "colab": {
     "base_uri": "https://localhost:8080/",
     "height": 41
    },
    "id": "3VP7519G_iHq",
    "outputId": "fe389226-ebcc-4b95-c662-810ca3fdb43a"
   },
   "outputs": [
    {
     "data": {
      "text/latex": [
       "$\\displaystyle x \\sqrt{a^{2} - x^{2}} + x \\sqrt{b^{2} - x^{2}}$"
      ],
      "text/plain": [
       "x*sqrt(a**2 - x**2) + x*sqrt(b**2 - x**2)"
      ]
     },
     "execution_count": 7,
     "metadata": {},
     "output_type": "execute_result"
    }
   ],
   "source": [
    "A = x*sqrt(a**2-x**2)+x*sqrt(b**2-x**2)\n",
    "\n",
    "A"
   ]
  },
  {
   "cell_type": "code",
   "execution_count": 8,
   "metadata": {
    "colab": {
     "base_uri": "https://localhost:8080/",
     "height": 58
    },
    "id": "bBddE2gz_v05",
    "outputId": "6be36762-0bac-4ae7-9c4c-ef8fe233179f"
   },
   "outputs": [
    {
     "data": {
      "text/latex": [
       "$\\displaystyle - \\frac{x^{2}}{\\sqrt{b^{2} - x^{2}}} - \\frac{x^{2}}{\\sqrt{a^{2} - x^{2}}} + \\sqrt{a^{2} - x^{2}} + \\sqrt{b^{2} - x^{2}}$"
      ],
      "text/plain": [
       "-x**2/sqrt(b**2 - x**2) - x**2/sqrt(a**2 - x**2) + sqrt(a**2 - x**2) + sqrt(b**2 - x**2)"
      ]
     },
     "execution_count": 8,
     "metadata": {},
     "output_type": "execute_result"
    }
   ],
   "source": [
    "A.diff(x)"
   ]
  },
  {
   "cell_type": "code",
   "execution_count": 9,
   "metadata": {
    "colab": {
     "base_uri": "https://localhost:8080/"
    },
    "id": "UELOmfCL_255",
    "outputId": "f4db8ece-14d1-4625-922d-23db2a0b683b"
   },
   "outputs": [
    {
     "data": {
      "text/plain": [
       "[-a*b*sqrt(1/(a**2 + b**2)), a*b*sqrt(1/(a**2 + b**2))]"
      ]
     },
     "execution_count": 9,
     "metadata": {},
     "output_type": "execute_result"
    }
   ],
   "source": [
    "solve(A.diff(x),x)"
   ]
  },
  {
   "cell_type": "code",
   "execution_count": null,
   "metadata": {
    "id": "eMmAhNvJBnDt"
   },
   "outputs": [],
   "source": []
  }
 ],
 "metadata": {
  "colab": {
   "authorship_tag": "ABX9TyPLrMLyvyDZWI41+zt+naBv",
   "include_colab_link": true,
   "provenance": []
  },
  "kernelspec": {
   "display_name": "Python 3",
   "name": "python3"
  },
  "language_info": {
   "name": "python"
  }
 },
 "nbformat": 4,
 "nbformat_minor": 0
}