{
 "cells": [
  {
   "cell_type": "markdown",
   "metadata": {
    "colab_type": "text",
    "id": "view-in-github"
   },
   "source": [
    "<a href=\"https://colab.research.google.com/github/nurfnick/Operations_Research/blob/main/PainAndSuffering.ipynb\" target=\"_parent\"><img src=\"https://colab.research.google.com/assets/colab-badge.svg\" alt=\"Open In Colab\"/></a>"
   ]
  },
  {
   "cell_type": "code",
   "execution_count": 1,
   "metadata": {
    "colab": {
     "base_uri": "https://localhost:8080/"
    },
    "id": "kXQ0dfdcfadd",
    "outputId": "75f3be9b-89bf-40d1-ecb1-b979d2596a9c"
   },
   "outputs": [
    {
     "data": {
      "text/plain": [
       "[1,\n",
       " 3,\n",
       " -9,\n",
       " 96,\n",
       " -728,\n",
       " 5889,\n",
       " -47011,\n",
       " 376238,\n",
       " -3009690,\n",
       " 24077815,\n",
       " -192622125,\n",
       " 1540977516,\n",
       " -12327819468,\n",
       " 98622556573,\n",
       " -788980451559,\n",
       " 6311843613722,\n",
       " -50494748908270,\n",
       " 403957991267955,\n",
       " -3231663930141521,\n",
       " 25853311441134648]"
      ]
     },
     "execution_count": 1,
     "metadata": {},
     "output_type": "execute_result"
    }
   ],
   "source": [
    "def pain(n):\n",
    "  if n ==0:\n",
    "    return 1\n",
    "  elif n==1:\n",
    "    return 3\n",
    "  else:\n",
    "    return n**2-7*pain(n-1)+8*pain(n-2)\n",
    "\n",
    "[pain(i) for i in range(20)]\n"
   ]
  },
  {
   "cell_type": "code",
   "execution_count": null,
   "metadata": {
    "id": "60cMlnQaf73k"
   },
   "outputs": [],
   "source": []
  }
 ],
 "metadata": {
  "colab": {
   "authorship_tag": "ABX9TyOhUaVAYoaENq6bEcedFp71",
   "include_colab_link": true,
   "provenance": []
  },
  "kernelspec": {
   "display_name": "Python 3",
   "name": "python3"
  },
  "language_info": {
   "name": "python"
  }
 },
 "nbformat": 4,
 "nbformat_minor": 0
}