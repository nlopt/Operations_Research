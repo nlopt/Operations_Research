{
 "cells": [
  {
   "cell_type": "markdown",
   "metadata": {
    "colab_type": "text",
    "id": "view-in-github"
   },
   "source": [
    "<a href=\"https://colab.research.google.com/github/nurfnick/Operations_Research/blob/main/ClassWork81723.ipynb\" target=\"_parent\"><img src=\"https://colab.research.google.com/assets/colab-badge.svg\" alt=\"Open In Colab\"/></a>"
   ]
  },
  {
   "cell_type": "markdown",
   "metadata": {
    "id": "WjeXy9O48g9p"
   },
   "source": [
    "# ClassWork 8/17/23 Operations Research"
   ]
  },
  {
   "cell_type": "markdown",
   "metadata": {
    "id": "I-EedqEo8mlL"
   },
   "source": [
    "Solve\n",
    "\n",
    "$$\n",
    "20 = \\frac{x^2}{x-5}\n",
    "$$"
   ]
  },
  {
   "cell_type": "code",
   "execution_count": 1,
   "metadata": {
    "id": "LfJqmxN68gBu"
   },
   "outputs": [],
   "source": [
    "def RightHandSide(x):\n",
    "  return x**2/(x-5)"
   ]
  },
  {
   "cell_type": "code",
   "execution_count": 2,
   "metadata": {
    "colab": {
     "base_uri": "https://localhost:8080/"
    },
    "id": "U1O9HSbt89DF",
    "outputId": "dea62810-1e67-4a8c-a47c-7ca417a6490d"
   },
   "outputs": [
    {
     "data": {
      "text/plain": [
       "24.5"
      ]
     },
     "execution_count": 2,
     "metadata": {},
     "output_type": "execute_result"
    }
   ],
   "source": [
    "RightHandSide(7)"
   ]
  },
  {
   "cell_type": "code",
   "execution_count": 3,
   "metadata": {
    "colab": {
     "base_uri": "https://localhost:8080/"
    },
    "id": "rujsaHm69Bke",
    "outputId": "15c1e154-b30a-4b15-ab31-4401f72252d4"
   },
   "outputs": [
    {
     "data": {
      "text/plain": [
       "21.77777777777778"
      ]
     },
     "execution_count": 3,
     "metadata": {},
     "output_type": "execute_result"
    }
   ],
   "source": [
    "RightHandSide(14)"
   ]
  },
  {
   "cell_type": "code",
   "execution_count": 7,
   "metadata": {
    "colab": {
     "base_uri": "https://localhost:8080/"
    },
    "id": "SYTH8kiM9Dbt",
    "outputId": "b5da763c-6118-4bdf-aaa2-22e224f2360e"
   },
   "outputs": [
    {
     "name": "stdout",
     "output_type": "stream",
     "text": [
      "6 36.0\n",
      "7 24.5\n",
      "8 21.333333333333332\n",
      "9 20.25\n",
      "10 20.0\n",
      "11 20.166666666666668\n",
      "12 20.571428571428573\n",
      "13 21.125\n",
      "14 21.77777777777778\n",
      "15 22.5\n",
      "16 23.272727272727273\n",
      "17 24.083333333333332\n",
      "18 24.923076923076923\n",
      "19 25.785714285714285\n",
      "20 26.666666666666668\n",
      "21 27.5625\n",
      "22 28.470588235294116\n",
      "23 29.38888888888889\n",
      "24 30.31578947368421\n",
      "25 31.25\n",
      "26 32.19047619047619\n",
      "27 33.13636363636363\n",
      "28 34.08695652173913\n",
      "29 35.041666666666664\n",
      "30 36.0\n",
      "31 36.96153846153846\n",
      "32 37.925925925925924\n",
      "33 38.892857142857146\n",
      "34 39.86206896551724\n",
      "35 40.833333333333336\n",
      "36 41.806451612903224\n",
      "37 42.78125\n",
      "38 43.75757575757576\n",
      "39 44.73529411764706\n",
      "40 45.714285714285715\n",
      "41 46.69444444444444\n",
      "42 47.67567567567568\n",
      "43 48.6578947368421\n",
      "44 49.64102564102564\n",
      "45 50.625\n",
      "46 51.609756097560975\n",
      "47 52.595238095238095\n",
      "48 53.58139534883721\n",
      "49 54.56818181818182\n",
      "50 55.55555555555556\n",
      "51 56.54347826086956\n",
      "52 57.53191489361702\n",
      "53 58.520833333333336\n",
      "54 59.51020408163265\n",
      "55 60.5\n",
      "56 61.490196078431374\n",
      "57 62.48076923076923\n",
      "58 63.471698113207545\n",
      "59 64.46296296296296\n",
      "60 65.45454545454545\n",
      "61 66.44642857142857\n",
      "62 67.43859649122807\n",
      "63 68.43103448275862\n",
      "64 69.42372881355932\n",
      "65 70.41666666666667\n",
      "66 71.40983606557377\n",
      "67 72.40322580645162\n",
      "68 73.39682539682539\n",
      "69 74.390625\n",
      "70 75.38461538461539\n",
      "71 76.37878787878788\n",
      "72 77.3731343283582\n",
      "73 78.36764705882354\n",
      "74 79.3623188405797\n",
      "75 80.35714285714286\n",
      "76 81.35211267605634\n",
      "77 82.34722222222223\n",
      "78 83.34246575342466\n",
      "79 84.33783783783784\n",
      "80 85.33333333333333\n",
      "81 86.32894736842105\n",
      "82 87.32467532467533\n",
      "83 88.32051282051282\n",
      "84 89.31645569620254\n",
      "85 90.3125\n",
      "86 91.30864197530865\n",
      "87 92.3048780487805\n",
      "88 93.3012048192771\n",
      "89 94.29761904761905\n",
      "90 95.29411764705883\n",
      "91 96.29069767441861\n",
      "92 97.28735632183908\n",
      "93 98.2840909090909\n",
      "94 99.28089887640449\n",
      "95 100.27777777777777\n",
      "96 101.27472527472527\n",
      "97 102.27173913043478\n",
      "98 103.26881720430107\n",
      "99 104.26595744680851\n",
      "100 105.26315789473684\n"
     ]
    }
   ],
   "source": [
    "for i in range(6,101):\n",
    "  print(i,RightHandSide(i))"
   ]
  },
  {
   "cell_type": "code",
   "execution_count": 8,
   "metadata": {
    "colab": {
     "base_uri": "https://localhost:8080/"
    },
    "id": "UxCCoA9W9RwY",
    "outputId": "3c120355-1e7c-40d4-e65b-1f6da7642258"
   },
   "outputs": [
    {
     "data": {
      "text/plain": [
       "True"
      ]
     },
     "execution_count": 8,
     "metadata": {},
     "output_type": "execute_result"
    }
   ],
   "source": [
    "RightHandSide(10) == 20"
   ]
  },
  {
   "cell_type": "code",
   "execution_count": 9,
   "metadata": {
    "colab": {
     "base_uri": "https://localhost:8080/"
    },
    "id": "knlSSwCi9rr4",
    "outputId": "761f829e-ec9a-47a9-ca6d-680c75af5831"
   },
   "outputs": [
    {
     "name": "stdout",
     "output_type": "stream",
     "text": [
      "-100 -95.23809523809524\n",
      "-99 -94.24038461538461\n",
      "-98 -93.24271844660194\n",
      "-97 -92.24509803921569\n",
      "-96 -91.24752475247524\n",
      "-95 -90.25\n",
      "-94 -89.25252525252525\n",
      "-93 -88.25510204081633\n",
      "-92 -87.25773195876289\n",
      "-91 -86.26041666666667\n",
      "-90 -85.26315789473684\n",
      "-89 -84.26595744680851\n",
      "-88 -83.26881720430107\n",
      "-87 -82.27173913043478\n",
      "-86 -81.27472527472527\n",
      "-85 -80.27777777777777\n",
      "-84 -79.28089887640449\n",
      "-83 -78.2840909090909\n",
      "-82 -77.28735632183908\n",
      "-81 -76.29069767441861\n",
      "-80 -75.29411764705883\n",
      "-79 -74.29761904761905\n",
      "-78 -73.3012048192771\n",
      "-77 -72.3048780487805\n",
      "-76 -71.30864197530865\n",
      "-75 -70.3125\n",
      "-74 -69.31645569620254\n",
      "-73 -68.32051282051282\n",
      "-72 -67.32467532467533\n",
      "-71 -66.32894736842105\n",
      "-70 -65.33333333333333\n",
      "-69 -64.33783783783784\n",
      "-68 -63.342465753424655\n",
      "-67 -62.34722222222222\n",
      "-66 -61.352112676056336\n",
      "-65 -60.357142857142854\n",
      "-64 -59.36231884057971\n",
      "-63 -58.36764705882353\n",
      "-62 -57.37313432835821\n",
      "-61 -56.378787878787875\n",
      "-60 -55.38461538461539\n",
      "-59 -54.390625\n",
      "-58 -53.3968253968254\n",
      "-57 -52.403225806451616\n",
      "-56 -51.40983606557377\n",
      "-55 -50.416666666666664\n",
      "-54 -49.42372881355932\n",
      "-53 -48.43103448275862\n",
      "-52 -47.43859649122807\n",
      "-51 -46.44642857142857\n",
      "-50 -45.45454545454545\n",
      "-49 -44.46296296296296\n",
      "-48 -43.471698113207545\n",
      "-47 -42.48076923076923\n",
      "-46 -41.490196078431374\n",
      "-45 -40.5\n",
      "-44 -39.51020408163265\n",
      "-43 -38.520833333333336\n",
      "-42 -37.53191489361702\n",
      "-41 -36.54347826086956\n",
      "-40 -35.55555555555556\n",
      "-39 -34.56818181818182\n",
      "-38 -33.58139534883721\n",
      "-37 -32.595238095238095\n",
      "-36 -31.609756097560975\n",
      "-35 -30.625\n",
      "-34 -29.641025641025642\n",
      "-33 -28.657894736842106\n",
      "-32 -27.675675675675677\n",
      "-31 -26.694444444444443\n",
      "-30 -25.714285714285715\n",
      "-29 -24.735294117647058\n",
      "-28 -23.757575757575758\n",
      "-27 -22.78125\n",
      "-26 -21.806451612903224\n",
      "-25 -20.833333333333332\n",
      "-24 -19.862068965517242\n",
      "-23 -18.892857142857142\n",
      "-22 -17.925925925925927\n",
      "-21 -16.96153846153846\n",
      "-20 -16.0\n",
      "-19 -15.041666666666666\n",
      "-18 -14.08695652173913\n",
      "-17 -13.136363636363637\n",
      "-16 -12.19047619047619\n",
      "-15 -11.25\n",
      "-14 -10.31578947368421\n",
      "-13 -9.38888888888889\n",
      "-12 -8.470588235294118\n",
      "-11 -7.5625\n",
      "-10 -6.666666666666667\n",
      "-9 -5.785714285714286\n",
      "-8 -4.923076923076923\n",
      "-7 -4.083333333333333\n",
      "-6 -3.272727272727273\n",
      "-5 -2.5\n",
      "-4 -1.7777777777777777\n",
      "-3 -1.125\n",
      "-2 -0.5714285714285714\n",
      "-1 -0.16666666666666666\n",
      "0 -0.0\n",
      "1 -0.25\n",
      "2 -1.3333333333333333\n",
      "3 -4.5\n",
      "4 -16.0\n"
     ]
    }
   ],
   "source": [
    "for i in range(-100,5):\n",
    "  print(i,RightHandSide(i))"
   ]
  },
  {
   "cell_type": "code",
   "execution_count": 16,
   "metadata": {
    "id": "HzppeOLo-s4Z"
   },
   "outputs": [],
   "source": [
    "import numpy as np\n",
    "\n",
    "x = np.linspace(0,25,999)\n",
    "y = RightHandSide(x)"
   ]
  },
  {
   "cell_type": "code",
   "execution_count": 22,
   "metadata": {
    "id": "SeanRRneAJCL"
   },
   "outputs": [],
   "source": [
    "twenties = np.ones(len(x))*20"
   ]
  },
  {
   "cell_type": "code",
   "execution_count": 25,
   "metadata": {
    "colab": {
     "base_uri": "https://localhost:8080/",
     "height": 453
    },
    "id": "Hc4dCRlG_KkW",
    "outputId": "7122ca12-4a6f-400c-c8bd-d1cafe70b6d4"
   },
   "outputs": [
    {
     "data": {
      "text/plain": [
       "(0.0, 25.0)"
      ]
     },
     "execution_count": 25,
     "metadata": {},
     "output_type": "execute_result"
    },
    {
     "data": {
      "image/png": "[encoded data removed]",
      "text/plain": [
       "<Figure size 640x480 with 1 Axes>"
      ]
     },
     "metadata": {
      "filenames": {
       "image/png": "C:\\Users\\njacob\\OneDrive - East Central University\\Documents\\GitHub\\Operations_Research\\_build\\jupyter_execute\\ClassWork\\ClassWork81723_11_1.png"
      }
     },
     "output_type": "display_data"
    }
   ],
   "source": [
    "import matplotlib.pyplot as plt\n",
    "\n",
    "plt.plot(x,y)\n",
    "plt.plot(x,twenties)\n",
    "plt.ylim([0,25])"
   ]
  },
  {
   "cell_type": "markdown",
   "metadata": {
    "id": "wpVbfnFmLXaT"
   },
   "source": [
    "## Dropping Balls from a Building"
   ]
  },
  {
   "cell_type": "code",
   "execution_count": 26,
   "metadata": {
    "id": "-kTTtv20_VCD"
   },
   "outputs": [],
   "source": [
    "def sumNParts(n):\n",
    "  return n*(n+1)/2"
   ]
  },
  {
   "cell_type": "code",
   "execution_count": 27,
   "metadata": {
    "colab": {
     "base_uri": "https://localhost:8080/"
    },
    "id": "g3HlcEKVKYa7",
    "outputId": "7237d258-5a1e-4601-f033-6be05e8d333a"
   },
   "outputs": [
    {
     "name": "stdout",
     "output_type": "stream",
     "text": [
      "0 0.0\n",
      "1 1.0\n",
      "2 3.0\n",
      "3 6.0\n",
      "4 10.0\n",
      "5 15.0\n",
      "6 21.0\n",
      "7 28.0\n",
      "8 36.0\n",
      "9 45.0\n",
      "10 55.0\n",
      "11 66.0\n",
      "12 78.0\n",
      "13 91.0\n",
      "14 105.0\n",
      "15 120.0\n",
      "16 136.0\n",
      "17 153.0\n",
      "18 171.0\n",
      "19 190.0\n",
      "20 210.0\n",
      "21 231.0\n",
      "22 253.0\n",
      "23 276.0\n",
      "24 300.0\n"
     ]
    }
   ],
   "source": [
    "for i in range(25):\n",
    "  print(i,sumNParts(i))"
   ]
  },
  {
   "cell_type": "code",
   "execution_count": null,
   "metadata": {
    "id": "FgPA3Y-9Kf9S"
   },
   "outputs": [],
   "source": []
  }
 ],
 "metadata": {
  "colab": {
   "authorship_tag": "ABX9TyPVKQtlYD0cUQ+pEWhUQNh8",
   "include_colab_link": true,
   "provenance": []
  },
  "kernelspec": {
   "display_name": "Python 3",
   "name": "python3"
  },
  "language_info": {
   "name": "python"
  }
 },
 "nbformat": 4,
 "nbformat_minor": 0
}