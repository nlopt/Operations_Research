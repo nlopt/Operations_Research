{
 "cells": [
  {
   "cell_type": "markdown",
   "metadata": {
    "colab_type": "text",
    "id": "view-in-github"
   },
   "source": [
    "<a href=\"https://colab.research.google.com/github/nurfnick/Operations_Research/blob/main/AstrosSuck.ipynb\" target=\"_parent\"><img src=\"https://colab.research.google.com/assets/colab-badge.svg\" alt=\"Open In Colab\"/></a>"
   ]
  },
  {
   "cell_type": "code",
   "execution_count": null,
   "metadata": {
    "id": "ol0xlyE9GuaE"
   },
   "outputs": [],
   "source": [
    "\n",
    "\n",
    "def S(n):\n",
    "  if n==0:\n",
    "    return 1\n",
    "  else:\n",
    "    return S(n-1)+2*n+1\n"
   ]
  },
  {
   "cell_type": "code",
   "execution_count": null,
   "metadata": {
    "id": "4EwP86n-QfwF"
   },
   "outputs": [],
   "source": [
    "slist =[1]\n",
    "def SM(n):\n",
    "  if len(slist)>n:\n",
    "    return slist[n]\n",
    "  else:\n",
    "    for i in range(len(slist),n+1):\n",
    "      slist.append(slist[i-1]+2*i+1)\n",
    "    return slist[n]\n"
   ]
  },
  {
   "cell_type": "code",
   "execution_count": null,
   "metadata": {
    "colab": {
     "base_uri": "https://localhost:8080/"
    },
    "id": "_fv7bu9sSLa_",
    "outputId": "3500756e-1f7a-4848-8d2e-e859b381190f"
   },
   "outputs": [
    {
     "data": {
      "text/plain": [
       "[1, 4, 9, 16]"
      ]
     },
     "execution_count": 12,
     "metadata": {},
     "output_type": "execute_result"
    }
   ],
   "source": [
    "slist"
   ]
  },
  {
   "cell_type": "code",
   "execution_count": null,
   "metadata": {
    "colab": {
     "base_uri": "https://localhost:8080/"
    },
    "id": "Ryvz7AoSSVrs",
    "outputId": "694f25d5-daf2-4782-e61c-a47e96d7c316"
   },
   "outputs": [
    {
     "data": {
      "text/plain": [
       "441"
      ]
     },
     "execution_count": 13,
     "metadata": {},
     "output_type": "execute_result"
    }
   ],
   "source": [
    "SM(20)"
   ]
  },
  {
   "cell_type": "code",
   "execution_count": null,
   "metadata": {
    "colab": {
     "base_uri": "https://localhost:8080/"
    },
    "id": "gTgcTLH8SYtW",
    "outputId": "a6c5de92-e245-46fc-b387-a02f21c12cde"
   },
   "outputs": [
    {
     "data": {
      "text/plain": [
       "[1,\n",
       " 4,\n",
       " 9,\n",
       " 16,\n",
       " 25,\n",
       " 36,\n",
       " 49,\n",
       " 64,\n",
       " 81,\n",
       " 100,\n",
       " 121,\n",
       " 144,\n",
       " 169,\n",
       " 196,\n",
       " 225,\n",
       " 256,\n",
       " 289,\n",
       " 324,\n",
       " 361,\n",
       " 400,\n",
       " 441]"
      ]
     },
     "execution_count": 14,
     "metadata": {},
     "output_type": "execute_result"
    }
   ],
   "source": [
    "slist"
   ]
  },
  {
   "cell_type": "code",
   "execution_count": null,
   "metadata": {
    "colab": {
     "base_uri": "https://localhost:8080/"
    },
    "id": "dr7JRl-OOikW",
    "outputId": "94a7bcb1-a019-4118-ab68-047e82e4bb9f"
   },
   "outputs": [
    {
     "data": {
      "text/plain": [
       "441"
      ]
     },
     "execution_count": 5,
     "metadata": {},
     "output_type": "execute_result"
    }
   ],
   "source": [
    "S(20)"
   ]
  },
  {
   "cell_type": "code",
   "execution_count": null,
   "metadata": {
    "colab": {
     "base_uri": "https://localhost:8080/"
    },
    "id": "_kz36B2lOkoG",
    "outputId": "0e700a05-6e88-4e18-d3d2-053de2952285"
   },
   "outputs": [
    {
     "data": {
      "text/plain": [
       "441"
      ]
     },
     "execution_count": 6,
     "metadata": {},
     "output_type": "execute_result"
    }
   ],
   "source": [
    "21**2"
   ]
  },
  {
   "cell_type": "code",
   "execution_count": null,
   "metadata": {
    "colab": {
     "base_uri": "https://localhost:8080/"
    },
    "id": "AtQJjzhFO2rj",
    "outputId": "4c6ea84f-cb2c-4a1b-f945-abe9e763e3a6"
   },
   "outputs": [
    {
     "data": {
      "text/plain": [
       "[1,\n",
       " 4,\n",
       " 9,\n",
       " 16,\n",
       " 25,\n",
       " 36,\n",
       " 49,\n",
       " 64,\n",
       " 81,\n",
       " 100,\n",
       " 121,\n",
       " 144,\n",
       " 169,\n",
       " 196,\n",
       " 225,\n",
       " 256,\n",
       " 289,\n",
       " 324,\n",
       " 361,\n",
       " 400,\n",
       " 441]"
      ]
     },
     "execution_count": 7,
     "metadata": {},
     "output_type": "execute_result"
    }
   ],
   "source": [
    "[S(i) for i in range(21)]"
   ]
  },
  {
   "cell_type": "code",
   "execution_count": null,
   "metadata": {
    "colab": {
     "base_uri": "https://localhost:8080/"
    },
    "id": "ytXFxV2_O-n3",
    "outputId": "2c19606b-7195-4861-e8c8-4b5f061c7f70"
   },
   "outputs": [
    {
     "data": {
      "text/plain": [
       "0.3520000000000001"
      ]
     },
     "execution_count": 15,
     "metadata": {},
     "output_type": "execute_result"
    }
   ],
   "source": [
    ".4**2+2*.4**2*.6"
   ]
  },
  {
   "cell_type": "code",
   "execution_count": null,
   "metadata": {
    "id": "BC0RlQTlURrG"
   },
   "outputs": [],
   "source": [
    "def RangersWin(n,m):\n",
    "  if n==0:\n",
    "    return 1\n",
    "  elif  m==0:\n",
    "    return 0\n",
    "  else:\n",
    "     return RangersWin(n-1,m)*0.4 + RangersWin(n,m-1)*0.6"
   ]
  },
  {
   "cell_type": "code",
   "execution_count": null,
   "metadata": {
    "colab": {
     "base_uri": "https://localhost:8080/"
    },
    "id": "GlEHK3QdU7-e",
    "outputId": "a4c239f9-73e6-40ea-b60c-67d6ec062b9e"
   },
   "outputs": [
    {
     "data": {
      "text/plain": [
       "0.4"
      ]
     },
     "execution_count": 29,
     "metadata": {},
     "output_type": "execute_result"
    }
   ],
   "source": [
    "RangersWin(1,1)"
   ]
  },
  {
   "cell_type": "code",
   "execution_count": null,
   "metadata": {
    "colab": {
     "base_uri": "https://localhost:8080/"
    },
    "id": "_FxW2RPlU-nO",
    "outputId": "738eefb8-399d-4aa0-e5d9-1f39a39bd572"
   },
   "outputs": [
    {
     "data": {
      "text/plain": [
       "0.35200000000000004"
      ]
     },
     "execution_count": 31,
     "metadata": {},
     "output_type": "execute_result"
    }
   ],
   "source": [
    "RangersWin(2,2)"
   ]
  },
  {
   "cell_type": "code",
   "execution_count": null,
   "metadata": {
    "colab": {
     "base_uri": "https://localhost:8080/"
    },
    "id": "LLisM8oFVBDt",
    "outputId": "d504b1fc-4690-4aa8-f7ab-1d91f2fba080"
   },
   "outputs": [
    {
     "data": {
      "text/plain": [
       "0.28979200000000005"
      ]
     },
     "execution_count": 32,
     "metadata": {},
     "output_type": "execute_result"
    }
   ],
   "source": [
    "RangersWin(4,4)"
   ]
  },
  {
   "cell_type": "code",
   "execution_count": null,
   "metadata": {
    "id": "GLxFdoVBWNP1"
   },
   "outputs": [],
   "source": [
    "bills = [1,2,5,10,20,50,100]\n",
    "\n",
    "n = len(bills)\n",
    "\n",
    "def countTheBills(bills,n,sum):\n",
    "  if sum == 0:\n",
    "    return 1\n",
    "  elif n<=0:\n",
    "    return 0\n",
    "  elif sum <0:\n",
    "    return 0\n",
    "  else:\n",
    "    return countTheBills(bills,n, sum- bills[n-1]) + countTheBills(bills, n-1,sum)"
   ]
  },
  {
   "cell_type": "code",
   "execution_count": null,
   "metadata": {
    "colab": {
     "base_uri": "https://localhost:8080/"
    },
    "id": "WfbetcEjeEPG",
    "outputId": "03a44a55-7cdc-4eb9-9994-80017b62e986"
   },
   "outputs": [
    {
     "data": {
      "text/plain": [
       "4563"
      ]
     },
     "execution_count": 7,
     "metadata": {},
     "output_type": "execute_result"
    }
   ],
   "source": [
    "countTheBills(bills, n, 100)"
   ]
  },
  {
   "cell_type": "markdown",
   "metadata": {
    "id": "MiQ3aPKViMBt"
   },
   "source": [
    "##Rod Cutting\n",
    "\n",
    "\n"
   ]
  },
  {
   "cell_type": "code",
   "execution_count": 51,
   "metadata": {
    "id": "eoVRbaHkeKIG"
   },
   "outputs": [],
   "source": [
    "p = [0,1,5,8,9,10,17,17,20,24,30]"
   ]
  },
  {
   "cell_type": "code",
   "execution_count": 52,
   "metadata": {
    "id": "Jd07MLgTiJ5H"
   },
   "outputs": [],
   "source": [
    "def RodCutting(p,l):\n",
    "  if l==0:\n",
    "    return 0\n",
    "  else:\n",
    "   return max(p[i]+RodCutting(p,l-i) for i in range(1,l+1))"
   ]
  },
  {
   "cell_type": "code",
   "execution_count": 53,
   "metadata": {
    "colab": {
     "base_uri": "https://localhost:8080/"
    },
    "id": "wQuKkSy7j9TI",
    "outputId": "dbb7353d-c007-4ad7-87ce-892ff602ba2e"
   },
   "outputs": [
    {
     "data": {
      "text/plain": [
       "30"
      ]
     },
     "execution_count": 53,
     "metadata": {},
     "output_type": "execute_result"
    }
   ],
   "source": [
    "RodCutting(p,10)"
   ]
  },
  {
   "cell_type": "code",
   "execution_count": 101,
   "metadata": {
    "id": "CBCpbRrSkAc2"
   },
   "outputs": [],
   "source": [
    "r = [0]\n",
    "\n",
    "def RodCutMemo(p,r,l):\n",
    "  if len(r)>l:\n",
    "    return r[l]\n",
    "  else:\n",
    "    for j in range(len(r),l+1):\n",
    "      r.append(max(p[i]+RodCutMemo(p,r,j-i) for i in range(1,j+1)))\n",
    "    return r[l]"
   ]
  },
  {
   "cell_type": "code",
   "execution_count": 102,
   "metadata": {
    "colab": {
     "base_uri": "https://localhost:8080/"
    },
    "id": "rD8bMhVhuCxz",
    "outputId": "9bb55847-f7bc-4c4b-e288-4b6123d3f757"
   },
   "outputs": [
    {
     "data": {
      "text/plain": [
       "13"
      ]
     },
     "execution_count": 102,
     "metadata": {},
     "output_type": "execute_result"
    }
   ],
   "source": [
    "RodCutMemo(p,r,5)"
   ]
  },
  {
   "cell_type": "code",
   "execution_count": 103,
   "metadata": {
    "colab": {
     "base_uri": "https://localhost:8080/"
    },
    "id": "BxoHkCL4uGy8",
    "outputId": "64d83c24-6952-4f4f-95ab-44835f851e2b"
   },
   "outputs": [
    {
     "data": {
      "text/plain": [
       "[0, 1, 5, 8, 10, 13]"
      ]
     },
     "execution_count": 103,
     "metadata": {},
     "output_type": "execute_result"
    }
   ],
   "source": [
    "r"
   ]
  },
  {
   "cell_type": "code",
   "execution_count": null,
   "metadata": {
    "id": "kGtsB8ifxllG"
   },
   "outputs": [],
   "source": []
  }
 ],
 "metadata": {
  "colab": {
   "authorship_tag": "ABX9TyOAmJRrll3WB5UfByEwYzIO",
   "include_colab_link": true,
   "provenance": []
  },
  "kernelspec": {
   "display_name": "Python 3",
   "name": "python3"
  },
  "language_info": {
   "name": "python"
  }
 },
 "nbformat": 4,
 "nbformat_minor": 0
}