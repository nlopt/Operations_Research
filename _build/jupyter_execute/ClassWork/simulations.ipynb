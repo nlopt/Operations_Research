{
 "cells": [
  {
   "cell_type": "markdown",
   "metadata": {
    "colab_type": "text",
    "id": "view-in-github"
   },
   "source": [
    "<a href=\"https://colab.research.google.com/github/nurfnick/Operations_Research/blob/main/ClassWork/simulations.ipynb\" target=\"_parent\"><img src=\"https://colab.research.google.com/assets/colab-badge.svg\" alt=\"Open In Colab\"/></a>"
   ]
  },
  {
   "cell_type": "code",
   "execution_count": 1,
   "metadata": {
    "id": "fcofw4Ziqzs3"
   },
   "outputs": [],
   "source": [
    "import random\n",
    "\n",
    "random.seed(42)"
   ]
  },
  {
   "cell_type": "code",
   "execution_count": null,
   "metadata": {
    "colab": {
     "base_uri": "https://localhost:8080/"
    },
    "id": "U5TigorEq2Yg",
    "outputId": "aaf90a0b-f849-404e-fdc2-7bd614597e27"
   },
   "outputs": [
    {
     "data": {
      "text/plain": [
       "5"
      ]
     },
     "execution_count": 42,
     "metadata": {},
     "output_type": "execute_result"
    }
   ],
   "source": [
    "random.choice([1,2,3,4,5,6])"
   ]
  },
  {
   "cell_type": "code",
   "execution_count": null,
   "metadata": {
    "id": "R6Jtfu8rrA3o"
   },
   "outputs": [],
   "source": [
    "l = []\n",
    "\n",
    "for i in range(1000):\n",
    "  l.append(random.choice([1,2,3,4,5,6]))"
   ]
  },
  {
   "cell_type": "code",
   "execution_count": null,
   "metadata": {
    "colab": {
     "base_uri": "https://localhost:8080/",
     "height": 448
    },
    "id": "b9OP87yp9jnA",
    "outputId": "095a1d80-f769-4e9e-908f-842c4e4aab37"
   },
   "outputs": [
    {
     "data": {
      "text/plain": [
       "<matplotlib.patches.StepPatch at 0x7d077d73e920>"
      ]
     },
     "execution_count": 16,
     "metadata": {},
     "output_type": "execute_result"
    },
    {
     "data": {
      "image/png": "[encoded data removed]",
      "text/plain": [
       "<Figure size 640x480 with 1 Axes>"
      ]
     },
     "metadata": {
      "filenames": {
       "image/png": "C:\\Users\\njacob\\OneDrive - East Central University\\Documents\\GitHub\\Operations_Research\\_build\\jupyter_execute\\ClassWork\\simulations_4_1.png"
      }
     },
     "output_type": "display_data"
    }
   ],
   "source": [
    "import numpy\n",
    "import matplotlib.pyplot as plt\n",
    "\n",
    "label, vals = numpy.histogram(l,6)\n",
    "plt.stairs(label, vals)"
   ]
  },
  {
   "cell_type": "code",
   "execution_count": null,
   "metadata": {
    "colab": {
     "base_uri": "https://localhost:8080/",
     "height": 501
    },
    "id": "4e6HBGDE-EDp",
    "outputId": "bd0b0359-88ff-4005-8d93-7d3a77d3cb04"
   },
   "outputs": [
    {
     "data": {
      "text/plain": [
       "(array([178., 186., 163., 155., 145., 173.]),\n",
       " array([1.        , 1.83333333, 2.66666667, 3.5       , 4.33333333,\n",
       "        5.16666667, 6.        ]),\n",
       " <BarContainer object of 6 artists>)"
      ]
     },
     "execution_count": 18,
     "metadata": {},
     "output_type": "execute_result"
    },
    {
     "data": {
      "image/png": "[encoded data removed]",
      "text/plain": [
       "<Figure size 640x480 with 1 Axes>"
      ]
     },
     "metadata": {
      "filenames": {
       "image/png": "C:\\Users\\njacob\\OneDrive - East Central University\\Documents\\GitHub\\Operations_Research\\_build\\jupyter_execute\\ClassWork\\simulations_5_1.png"
      }
     },
     "output_type": "display_data"
    }
   ],
   "source": [
    "plt.hist(l,6)"
   ]
  },
  {
   "cell_type": "code",
   "execution_count": null,
   "metadata": {
    "colab": {
     "base_uri": "https://localhost:8080/"
    },
    "id": "ZlQrUt2br6d7",
    "outputId": "651ba7b8-6fbf-4282-8035-49909070c8a0"
   },
   "outputs": [
    {
     "data": {
      "text/plain": [
       "3.422"
      ]
     },
     "execution_count": 19,
     "metadata": {},
     "output_type": "execute_result"
    }
   ],
   "source": [
    "sum(l)/len(l)"
   ]
  },
  {
   "cell_type": "code",
   "execution_count": null,
   "metadata": {
    "colab": {
     "base_uri": "https://localhost:8080/"
    },
    "id": "uTzhvJcOr7RC",
    "outputId": "aa650cde-30b5-4988-d413-e13896e43b49"
   },
   "outputs": [
    {
     "data": {
      "text/plain": [
       "3"
      ]
     },
     "execution_count": 54,
     "metadata": {},
     "output_type": "execute_result"
    }
   ],
   "source": [
    "random.choices([1,2,3,4,5,6],[1,1,1,1,1,2])[0]"
   ]
  },
  {
   "cell_type": "code",
   "execution_count": null,
   "metadata": {
    "colab": {
     "base_uri": "https://localhost:8080/"
    },
    "id": "tLQ-wu2wtK0I",
    "outputId": "9c800cdb-a1bb-4d14-e613-00d953135f5c"
   },
   "outputs": [
    {
     "data": {
      "text/plain": [
       "4.508"
      ]
     },
     "execution_count": 8,
     "metadata": {},
     "output_type": "execute_result"
    }
   ],
   "source": [
    "l = []\n",
    "\n",
    "for i in range(1000):\n",
    "  l.append(random.choices([1,2,3,4,5,6],[.1,.1,.1,.1,.1,.5])[0])\n",
    "\n",
    "sum(l)/len(l)"
   ]
  },
  {
   "cell_type": "code",
   "execution_count": 5,
   "metadata": {
    "id": "fVzzHNU-tjO1"
   },
   "outputs": [],
   "source": [
    "vater = [1,1,1]\n",
    "\n",
    "def doTheyGetOff(listOfVater):\n",
    "  for i in range(len(listOfVater)):\n",
    "    if listOfVater[i] == 1:\n",
    "      if random.random()>0.5:\n",
    "        listOfVater[i] = 0\n",
    "  return listOfVater\n",
    "\n"
   ]
  },
  {
   "cell_type": "code",
   "execution_count": 21,
   "metadata": {
    "id": "rbLg21y_gYW5"
   },
   "outputs": [],
   "source": [
    "vater = [1,1,1]\n",
    "howManyTimes = []\n",
    "\n",
    "for i in range(10000):\n",
    "  vater = [1,1,1]\n",
    "  times = 0\n",
    "  while sum(vater)!=0:\n",
    "    vater = doTheyGetOff(vater)\n",
    "    times +=1\n",
    "  howManyTimes.append(times)"
   ]
  },
  {
   "cell_type": "code",
   "execution_count": 22,
   "metadata": {
    "colab": {
     "base_uri": "https://localhost:8080/"
    },
    "id": "sHLXO51AgZwx",
    "outputId": "8d76bfd8-e49d-4e28-be1c-39b38422ed5b"
   },
   "outputs": [
    {
     "data": {
      "text/plain": [
       "3.1435"
      ]
     },
     "execution_count": 22,
     "metadata": {},
     "output_type": "execute_result"
    }
   ],
   "source": [
    "import numpy\n",
    "numpy.mean(howManyTimes)"
   ]
  },
  {
   "cell_type": "code",
   "execution_count": null,
   "metadata": {
    "id": "z-x0xSyThaB0"
   },
   "outputs": [],
   "source": []
  }
 ],
 "metadata": {
  "colab": {
   "authorship_tag": "ABX9TyOhSW7S62KrDIojKWK4CbiR",
   "include_colab_link": true,
   "provenance": []
  },
  "kernelspec": {
   "display_name": "Python 3",
   "name": "python3"
  },
  "language_info": {
   "name": "python"
  }
 },
 "nbformat": 4,
 "nbformat_minor": 0
}