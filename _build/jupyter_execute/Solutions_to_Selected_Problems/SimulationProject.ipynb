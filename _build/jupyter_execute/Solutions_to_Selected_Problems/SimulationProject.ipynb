{
 "cells": [
  {
   "cell_type": "markdown",
   "metadata": {
    "colab_type": "text",
    "id": "view-in-github"
   },
   "source": [
    "<a href=\"https://colab.research.google.com/github/nurfnick/Operations_Research/blob/main/Solutions_to_Selected_Problems/SimulationProject.ipynb\" target=\"_parent\"><img src=\"https://colab.research.google.com/assets/colab-badge.svg\" alt=\"Open In Colab\"/></a>"
   ]
  },
  {
   "cell_type": "markdown",
   "metadata": {
    "id": "DyS8R-7sNWVp"
   },
   "source": [
    "# Solutions to Simulation Project"
   ]
  },
  {
   "cell_type": "code",
   "execution_count": 2,
   "metadata": {
    "colab": {
     "base_uri": "https://localhost:8080/"
    },
    "id": "zVyGjZFHNVc9",
    "outputId": "fb6c7b91-4169-43cc-d93f-e47ad5fe6868"
   },
   "outputs": [
    {
     "data": {
      "text/plain": [
       "10"
      ]
     },
     "execution_count": 2,
     "metadata": {},
     "output_type": "execute_result"
    }
   ],
   "source": [
    "import random\n",
    "\n",
    "random.choices([10,9],[9,1])[0]"
   ]
  },
  {
   "cell_type": "markdown",
   "metadata": {
    "id": "wpyL5dEWNr5X"
   },
   "source": [
    "Let's do it a bunch"
   ]
  },
  {
   "cell_type": "code",
   "execution_count": 3,
   "metadata": {
    "id": "KkAVPYezNmfp"
   },
   "outputs": [],
   "source": [
    "cho = []\n",
    "\n",
    "for i in range(1000):\n",
    "  cho.append(random.choices([10,9],[9,1])[0])"
   ]
  },
  {
   "cell_type": "code",
   "execution_count": 5,
   "metadata": {
    "colab": {
     "base_uri": "https://localhost:8080/"
    },
    "id": "1TqqGqUqN47q",
    "outputId": "88dd91cb-810d-4840-9ebb-a49ec4b809df"
   },
   "outputs": [
    {
     "data": {
      "text/plain": [
       "9.896"
      ]
     },
     "execution_count": 5,
     "metadata": {},
     "output_type": "execute_result"
    }
   ],
   "source": [
    "sum(cho)/len(cho)"
   ]
  },
  {
   "cell_type": "markdown",
   "metadata": {
    "id": "KFVNovugO44i"
   },
   "source": [
    "I meant for you to use a simple binomial approach.  With success being $\\frac1{10}$ Let's see how I might simulate that."
   ]
  },
  {
   "cell_type": "code",
   "execution_count": 7,
   "metadata": {
    "colab": {
     "base_uri": "https://localhost:8080/"
    },
    "id": "NI3aPmz6N8BL",
    "outputId": "42cf7ff0-c7c6-4c09-acca-b925f9cb8536"
   },
   "outputs": [
    {
     "data": {
      "text/plain": [
       "0"
      ]
     },
     "execution_count": 7,
     "metadata": {},
     "output_type": "execute_result"
    }
   ],
   "source": [
    "random.choices([1,0],[1,9])[0]"
   ]
  },
  {
   "cell_type": "code",
   "execution_count": 10,
   "metadata": {
    "id": "MRHYESViPPoc"
   },
   "outputs": [],
   "source": [
    "numtests = []\n",
    "for i in range(1000):\n",
    "  test = []\n",
    "  while sum(test) ==0:\n",
    "    test.append(random.choices([1,0],[1,9])[0])\n",
    "  numtests.append(len(test))"
   ]
  },
  {
   "cell_type": "code",
   "execution_count": 12,
   "metadata": {
    "colab": {
     "base_uri": "https://localhost:8080/"
    },
    "id": "TyZ3OysGPqI5",
    "outputId": "d825151f-1589-40ac-e563-2baf78705eb3"
   },
   "outputs": [
    {
     "data": {
      "text/plain": [
       "9.975"
      ]
     },
     "execution_count": 12,
     "metadata": {},
     "output_type": "execute_result"
    }
   ],
   "source": [
    "sum(numtests)/len(numtests)"
   ]
  },
  {
   "cell_type": "code",
   "execution_count": 17,
   "metadata": {
    "colab": {
     "base_uri": "https://localhost:8080/"
    },
    "id": "2c-6OXUTP05n",
    "outputId": "1d8c5601-8329-4408-d0b8-b05f071abc99"
   },
   "outputs": [
    {
     "data": {
      "text/plain": [
       "9"
      ]
     },
     "execution_count": 17,
     "metadata": {},
     "output_type": "execute_result"
    }
   ],
   "source": [
    "test.index(1)"
   ]
  },
  {
   "cell_type": "code",
   "execution_count": 27,
   "metadata": {
    "colab": {
     "base_uri": "https://localhost:8080/"
    },
    "id": "d2VTdmw0QvNB",
    "outputId": "5493503e-d241-40e4-c6da-e33eb9df24c9"
   },
   "outputs": [
    {
     "data": {
      "text/plain": [
       "[10, 9, 10, 10, 10, 10, 10, 10, 10, 10]"
      ]
     },
     "execution_count": 27,
     "metadata": {},
     "output_type": "execute_result"
    }
   ],
   "source": [
    "rs = [10,10,10,10,10,10,10,10,10,9]\n",
    "random.shuffle(rs)\n",
    "rs"
   ]
  },
  {
   "cell_type": "code",
   "execution_count": 30,
   "metadata": {
    "colab": {
     "base_uri": "https://localhost:8080/"
    },
    "id": "vl0LHOyZQ5BP",
    "outputId": "3d44dbc3-584a-4c6f-c99d-fdf304b0e3a4"
   },
   "outputs": [
    {
     "data": {
      "text/plain": [
       "2"
      ]
     },
     "execution_count": 30,
     "metadata": {},
     "output_type": "execute_result"
    }
   ],
   "source": [
    "rs.index(9)+1"
   ]
  },
  {
   "cell_type": "code",
   "execution_count": 34,
   "metadata": {
    "id": "Sotpea4JQ_oI"
   },
   "outputs": [],
   "source": [
    "pos = []\n",
    "\n",
    "for i in range(1000):\n",
    "  random.shuffle(rs)\n",
    "  pos.append(rs.index(9)+1)"
   ]
  },
  {
   "cell_type": "code",
   "execution_count": 35,
   "metadata": {
    "colab": {
     "base_uri": "https://localhost:8080/"
    },
    "id": "9_NNlvcvRjGY",
    "outputId": "7a794b4e-d006-4f8d-e96b-d4273df27e33"
   },
   "outputs": [
    {
     "data": {
      "text/plain": [
       "5.379"
      ]
     },
     "execution_count": 35,
     "metadata": {},
     "output_type": "execute_result"
    }
   ],
   "source": [
    "sum(pos)/len(pos)"
   ]
  },
  {
   "cell_type": "code",
   "execution_count": null,
   "metadata": {
    "id": "r3vvsxphRlYO"
   },
   "outputs": [],
   "source": []
  }
 ],
 "metadata": {
  "colab": {
   "authorship_tag": "ABX9TyPYIF8u/qzvbHCNXsh/jbI+",
   "include_colab_link": true,
   "provenance": []
  },
  "kernelspec": {
   "display_name": "Python 3",
   "name": "python3"
  },
  "language_info": {
   "name": "python"
  }
 },
 "nbformat": 4,
 "nbformat_minor": 0
}