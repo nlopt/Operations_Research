{
 "cells": [
  {
   "cell_type": "markdown",
   "metadata": {
    "colab_type": "text",
    "id": "view-in-github"
   },
   "source": [
    "<a href=\"https://colab.research.google.com/github/nurfnick/Operations_Research/blob/main/RecursionAssignment.ipynb\" target=\"_parent\"><img src=\"https://colab.research.google.com/assets/colab-badge.svg\" alt=\"Open In Colab\"/></a>"
   ]
  },
  {
   "cell_type": "markdown",
   "metadata": {
    "id": "gxO997rzUWoK"
   },
   "source": [
    "# Recursion Assignment\n",
    "\n",
    "Solve the recursion\n",
    "$$\n",
    "f(n) = 7f(n-1)-10f(n-2)\\quad f(0) = 1\\quad f(1)=3\n",
    "$$\n",
    "\n",
    "1. Using mathematical method taught in class to get analytic equation.  Type up details and program function\n",
    "2. Using dynamic programming.\n",
    "3. Using dynamic programming and memoization.\n",
    "4. Compare the results of each function.  Discuss the advantages and disadvantages of each method.  Consider difficulty of solving and the time it would take to get the 1000 entry of the sequence in each of the three solutions."
   ]
  },
  {
   "cell_type": "code",
   "execution_count": null,
   "metadata": {
    "id": "mxuJ44JFUVog"
   },
   "outputs": [],
   "source": []
  }
 ],
 "metadata": {
  "colab": {
   "authorship_tag": "ABX9TyOrdJi6kU7d5Rz82KRChOFR",
   "include_colab_link": true,
   "provenance": []
  },
  "kernelspec": {
   "display_name": "Python 3",
   "name": "python3"
  },
  "language_info": {
   "name": "python"
  }
 },
 "nbformat": 4,
 "nbformat_minor": 0
}