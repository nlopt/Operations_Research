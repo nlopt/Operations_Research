{
 "cells": [
  {
   "cell_type": "markdown",
   "metadata": {
    "colab_type": "text",
    "id": "view-in-github"
   },
   "source": [
    "<a href=\"https://colab.research.google.com/github/nurfnick/Operations_Research/blob/main/LPAssignment.ipynb\" target=\"_parent\"><img src=\"https://colab.research.google.com/assets/colab-badge.svg\" alt=\"Open In Colab\"/></a>"
   ]
  },
  {
   "cell_type": "markdown",
   "metadata": {
    "id": "31GxmqsFEuzW"
   },
   "source": [
    "# Linear Programming Assignment"
   ]
  },
  {
   "cell_type": "markdown",
   "metadata": {
    "id": "xWsxg3k-EzBs"
   },
   "source": [
    "## Redo a WeBWorK Question Using Python"
   ]
  },
  {
   "cell_type": "markdown",
   "metadata": {
    "id": "eLQofNfAGgoS"
   },
   "source": [
    "Consider WW Set 03 Problem 3.  Using python, do the following:\n",
    "1. Copy your problem here.\n",
    "1. Find corner points.  \n",
    "2. Graph feasible set.\n",
    "3. Find the corner that maximizes the objective function $P = 3x+2y$.\n",
    "4. Introduce slack variables, find the corner points again."
   ]
  },
  {
   "cell_type": "markdown",
   "metadata": {
    "id": "OwGWpGToIx-L"
   },
   "source": [
    "## Redo a WeBWorK Question Using Python"
   ]
  },
  {
   "cell_type": "markdown",
   "metadata": {
    "id": "H7uUoaW6Ix-O"
   },
   "source": [
    "Consider WW Set 04 Problem 6.  Using python, do the following:\n",
    "1. Write the equations that describe the problem completely using $\\LaTeX$ encoding.   \n",
    "1. Find corner points.  \n",
    "2. Graph feasible set.\n",
    "3. Find the corner that maximizes the objective function.\n",
    "4. Introduce slack variables, find the corner points again."
   ]
  },
  {
   "cell_type": "code",
   "execution_count": null,
   "metadata": {
    "id": "mKfm4CHVIx-Q"
   },
   "outputs": [],
   "source": []
  },
  {
   "cell_type": "code",
   "execution_count": null,
   "metadata": {
    "id": "w8ip_AnaIx-R"
   },
   "outputs": [],
   "source": []
  }
 ],
 "metadata": {
  "colab": {
   "authorship_tag": "ABX9TyN5OKGkCJfvG1OH05tuxkuQ",
   "include_colab_link": true,
   "provenance": []
  },
  "kernelspec": {
   "display_name": "Python 3",
   "name": "python3"
  },
  "language_info": {
   "name": "python"
  }
 },
 "nbformat": 4,
 "nbformat_minor": 0
}