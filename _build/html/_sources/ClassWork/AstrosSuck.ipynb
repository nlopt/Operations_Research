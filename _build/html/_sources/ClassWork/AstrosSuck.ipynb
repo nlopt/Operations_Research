{
  "nbformat": 4,
  "nbformat_minor": 0,
  "metadata": {
    "colab": {
      "provenance": [],
      "authorship_tag": "ABX9TyOAmJRrll3WB5UfByEwYzIO",
      "include_colab_link": true
    },
    "kernelspec": {
      "name": "python3",
      "display_name": "Python 3"
    },
    "language_info": {
      "name": "python"
    }
  },
  "cells": [
    {
      "cell_type": "markdown",
      "metadata": {
        "id": "view-in-github",
        "colab_type": "text"
      },
      "source": [
        "<a href=\"https://colab.research.google.com/github/nurfnick/Operations_Research/blob/main/AstrosSuck.ipynb\" target=\"_parent\"><img src=\"https://colab.research.google.com/assets/colab-badge.svg\" alt=\"Open In Colab\"/></a>"
      ]
    },
    {
      "cell_type": "code",
      "execution_count": null,
      "metadata": {
        "id": "ol0xlyE9GuaE"
      },
      "outputs": [],
      "source": [
        "\n",
        "\n",
        "def S(n):\n",
        "  if n==0:\n",
        "    return 1\n",
        "  else:\n",
        "    return S(n-1)+2*n+1\n"
      ]
    },
    {
      "cell_type": "code",
      "source": [
        "slist =[1]\n",
        "def SM(n):\n",
        "  if len(slist)>n:\n",
        "    return slist[n]\n",
        "  else:\n",
        "    for i in range(len(slist),n+1):\n",
        "      slist.append(slist[i-1]+2*i+1)\n",
        "    return slist[n]\n"
      ],
      "metadata": {
        "id": "4EwP86n-QfwF"
      },
      "execution_count": null,
      "outputs": []
    },
    {
      "cell_type": "code",
      "source": [
        "slist"
      ],
      "metadata": {
        "colab": {
          "base_uri": "https://localhost:8080/"
        },
        "id": "_fv7bu9sSLa_",
        "outputId": "3500756e-1f7a-4848-8d2e-e859b381190f"
      },
      "execution_count": null,
      "outputs": [
        {
          "output_type": "execute_result",
          "data": {
            "text/plain": [
              "[1, 4, 9, 16]"
            ]
          },
          "metadata": {},
          "execution_count": 12
        }
      ]
    },
    {
      "cell_type": "code",
      "source": [
        "SM(20)"
      ],
      "metadata": {
        "colab": {
          "base_uri": "https://localhost:8080/"
        },
        "id": "Ryvz7AoSSVrs",
        "outputId": "694f25d5-daf2-4782-e61c-a47e96d7c316"
      },
      "execution_count": null,
      "outputs": [
        {
          "output_type": "execute_result",
          "data": {
            "text/plain": [
              "441"
            ]
          },
          "metadata": {},
          "execution_count": 13
        }
      ]
    },
    {
      "cell_type": "code",
      "source": [
        "slist"
      ],
      "metadata": {
        "colab": {
          "base_uri": "https://localhost:8080/"
        },
        "id": "gTgcTLH8SYtW",
        "outputId": "a6c5de92-e245-46fc-b387-a02f21c12cde"
      },
      "execution_count": null,
      "outputs": [
        {
          "output_type": "execute_result",
          "data": {
            "text/plain": [
              "[1,\n",
              " 4,\n",
              " 9,\n",
              " 16,\n",
              " 25,\n",
              " 36,\n",
              " 49,\n",
              " 64,\n",
              " 81,\n",
              " 100,\n",
              " 121,\n",
              " 144,\n",
              " 169,\n",
              " 196,\n",
              " 225,\n",
              " 256,\n",
              " 289,\n",
              " 324,\n",
              " 361,\n",
              " 400,\n",
              " 441]"
            ]
          },
          "metadata": {},
          "execution_count": 14
        }
      ]
    },
    {
      "cell_type": "code",
      "source": [
        "S(20)"
      ],
      "metadata": {
        "colab": {
          "base_uri": "https://localhost:8080/"
        },
        "id": "dr7JRl-OOikW",
        "outputId": "94a7bcb1-a019-4118-ab68-047e82e4bb9f"
      },
      "execution_count": null,
      "outputs": [
        {
          "output_type": "execute_result",
          "data": {
            "text/plain": [
              "441"
            ]
          },
          "metadata": {},
          "execution_count": 5
        }
      ]
    },
    {
      "cell_type": "code",
      "source": [
        "21**2"
      ],
      "metadata": {
        "colab": {
          "base_uri": "https://localhost:8080/"
        },
        "id": "_kz36B2lOkoG",
        "outputId": "0e700a05-6e88-4e18-d3d2-053de2952285"
      },
      "execution_count": null,
      "outputs": [
        {
          "output_type": "execute_result",
          "data": {
            "text/plain": [
              "441"
            ]
          },
          "metadata": {},
          "execution_count": 6
        }
      ]
    },
    {
      "cell_type": "code",
      "source": [
        "[S(i) for i in range(21)]"
      ],
      "metadata": {
        "colab": {
          "base_uri": "https://localhost:8080/"
        },
        "id": "AtQJjzhFO2rj",
        "outputId": "4c6ea84f-cb2c-4a1b-f945-abe9e763e3a6"
      },
      "execution_count": null,
      "outputs": [
        {
          "output_type": "execute_result",
          "data": {
            "text/plain": [
              "[1,\n",
              " 4,\n",
              " 9,\n",
              " 16,\n",
              " 25,\n",
              " 36,\n",
              " 49,\n",
              " 64,\n",
              " 81,\n",
              " 100,\n",
              " 121,\n",
              " 144,\n",
              " 169,\n",
              " 196,\n",
              " 225,\n",
              " 256,\n",
              " 289,\n",
              " 324,\n",
              " 361,\n",
              " 400,\n",
              " 441]"
            ]
          },
          "metadata": {},
          "execution_count": 7
        }
      ]
    },
    {
      "cell_type": "code",
      "source": [
        ".4**2+2*.4**2*.6"
      ],
      "metadata": {
        "colab": {
          "base_uri": "https://localhost:8080/"
        },
        "id": "ytXFxV2_O-n3",
        "outputId": "2c19606b-7195-4861-e8c8-4b5f061c7f70"
      },
      "execution_count": null,
      "outputs": [
        {
          "output_type": "execute_result",
          "data": {
            "text/plain": [
              "0.3520000000000001"
            ]
          },
          "metadata": {},
          "execution_count": 15
        }
      ]
    },
    {
      "cell_type": "code",
      "source": [
        "def RangersWin(n,m):\n",
        "  if n==0:\n",
        "    return 1\n",
        "  elif  m==0:\n",
        "    return 0\n",
        "  else:\n",
        "     return RangersWin(n-1,m)*0.4 + RangersWin(n,m-1)*0.6"
      ],
      "metadata": {
        "id": "BC0RlQTlURrG"
      },
      "execution_count": null,
      "outputs": []
    },
    {
      "cell_type": "code",
      "source": [
        "RangersWin(1,1)"
      ],
      "metadata": {
        "colab": {
          "base_uri": "https://localhost:8080/"
        },
        "id": "GlEHK3QdU7-e",
        "outputId": "a4c239f9-73e6-40ea-b60c-67d6ec062b9e"
      },
      "execution_count": null,
      "outputs": [
        {
          "output_type": "execute_result",
          "data": {
            "text/plain": [
              "0.4"
            ]
          },
          "metadata": {},
          "execution_count": 29
        }
      ]
    },
    {
      "cell_type": "code",
      "source": [
        "RangersWin(2,2)"
      ],
      "metadata": {
        "colab": {
          "base_uri": "https://localhost:8080/"
        },
        "id": "_FxW2RPlU-nO",
        "outputId": "738eefb8-399d-4aa0-e5d9-1f39a39bd572"
      },
      "execution_count": null,
      "outputs": [
        {
          "output_type": "execute_result",
          "data": {
            "text/plain": [
              "0.35200000000000004"
            ]
          },
          "metadata": {},
          "execution_count": 31
        }
      ]
    },
    {
      "cell_type": "code",
      "source": [
        "RangersWin(4,4)"
      ],
      "metadata": {
        "colab": {
          "base_uri": "https://localhost:8080/"
        },
        "id": "LLisM8oFVBDt",
        "outputId": "d504b1fc-4690-4aa8-f7ab-1d91f2fba080"
      },
      "execution_count": null,
      "outputs": [
        {
          "output_type": "execute_result",
          "data": {
            "text/plain": [
              "0.28979200000000005"
            ]
          },
          "metadata": {},
          "execution_count": 32
        }
      ]
    },
    {
      "cell_type": "code",
      "source": [
        "bills = [1,2,5,10,20,50,100]\n",
        "\n",
        "n = len(bills)\n",
        "\n",
        "def countTheBills(bills,n,sum):\n",
        "  if sum == 0:\n",
        "    return 1\n",
        "  elif n<=0:\n",
        "    return 0\n",
        "  elif sum <0:\n",
        "    return 0\n",
        "  else:\n",
        "    return countTheBills(bills,n, sum- bills[n-1]) + countTheBills(bills, n-1,sum)"
      ],
      "metadata": {
        "id": "GLxFdoVBWNP1"
      },
      "execution_count": null,
      "outputs": []
    },
    {
      "cell_type": "code",
      "source": [
        "countTheBills(bills, n, 100)"
      ],
      "metadata": {
        "colab": {
          "base_uri": "https://localhost:8080/"
        },
        "id": "WfbetcEjeEPG",
        "outputId": "03a44a55-7cdc-4eb9-9994-80017b62e986"
      },
      "execution_count": null,
      "outputs": [
        {
          "output_type": "execute_result",
          "data": {
            "text/plain": [
              "4563"
            ]
          },
          "metadata": {},
          "execution_count": 7
        }
      ]
    },
    {
      "cell_type": "markdown",
      "source": [
        "##Rod Cutting\n",
        "\n",
        "\n"
      ],
      "metadata": {
        "id": "MiQ3aPKViMBt"
      }
    },
    {
      "cell_type": "code",
      "source": [
        "p = [0,1,5,8,9,10,17,17,20,24,30]"
      ],
      "metadata": {
        "id": "eoVRbaHkeKIG"
      },
      "execution_count": 51,
      "outputs": []
    },
    {
      "cell_type": "code",
      "source": [
        "def RodCutting(p,l):\n",
        "  if l==0:\n",
        "    return 0\n",
        "  else:\n",
        "   return max(p[i]+RodCutting(p,l-i) for i in range(1,l+1))"
      ],
      "metadata": {
        "id": "Jd07MLgTiJ5H"
      },
      "execution_count": 52,
      "outputs": []
    },
    {
      "cell_type": "code",
      "source": [
        "RodCutting(p,10)"
      ],
      "metadata": {
        "colab": {
          "base_uri": "https://localhost:8080/"
        },
        "id": "wQuKkSy7j9TI",
        "outputId": "dbb7353d-c007-4ad7-87ce-892ff602ba2e"
      },
      "execution_count": 53,
      "outputs": [
        {
          "output_type": "execute_result",
          "data": {
            "text/plain": [
              "30"
            ]
          },
          "metadata": {},
          "execution_count": 53
        }
      ]
    },
    {
      "cell_type": "code",
      "source": [
        "r = [0]\n",
        "\n",
        "def RodCutMemo(p,r,l):\n",
        "  if len(r)>l:\n",
        "    return r[l]\n",
        "  else:\n",
        "    for j in range(len(r),l+1):\n",
        "      r.append(max(p[i]+RodCutMemo(p,r,j-i) for i in range(1,j+1)))\n",
        "    return r[l]"
      ],
      "metadata": {
        "id": "CBCpbRrSkAc2"
      },
      "execution_count": 101,
      "outputs": []
    },
    {
      "cell_type": "code",
      "source": [
        "RodCutMemo(p,r,5)"
      ],
      "metadata": {
        "id": "rD8bMhVhuCxz",
        "outputId": "9bb55847-f7bc-4c4b-e288-4b6123d3f757",
        "colab": {
          "base_uri": "https://localhost:8080/"
        }
      },
      "execution_count": 102,
      "outputs": [
        {
          "output_type": "execute_result",
          "data": {
            "text/plain": [
              "13"
            ]
          },
          "metadata": {},
          "execution_count": 102
        }
      ]
    },
    {
      "cell_type": "code",
      "source": [
        "r"
      ],
      "metadata": {
        "id": "BxoHkCL4uGy8",
        "outputId": "64d83c24-6952-4f4f-95ab-44835f851e2b",
        "colab": {
          "base_uri": "https://localhost:8080/"
        }
      },
      "execution_count": 103,
      "outputs": [
        {
          "output_type": "execute_result",
          "data": {
            "text/plain": [
              "[0, 1, 5, 8, 10, 13]"
            ]
          },
          "metadata": {},
          "execution_count": 103
        }
      ]
    },
    {
      "cell_type": "code",
      "source": [],
      "metadata": {
        "id": "kGtsB8ifxllG"
      },
      "execution_count": null,
      "outputs": []
    }
  ]
}