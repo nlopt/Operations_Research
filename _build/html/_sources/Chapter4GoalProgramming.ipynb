{
  "nbformat": 4,
  "nbformat_minor": 0,
  "metadata": {
    "colab": {
      "name": "Untitled30.ipynb",
      "provenance": [],
      "toc_visible": true,
      "include_colab_link": true
    },
    "kernelspec": {
      "name": "python3",
      "display_name": "Python 3"
    },
    "language_info": {
      "name": "python"
    }
  },
  "cells": [
    {
      "cell_type": "markdown",
      "metadata": {
        "id": "view-in-github",
        "colab_type": "text"
      },
      "source": [
        "<a href=\"https://colab.research.google.com/github/nurfnick/Operations_Research/blob/main/Chapter4GoalProgramming.ipynb\" target=\"_parent\"><img src=\"https://colab.research.google.com/assets/colab-badge.svg\" alt=\"Open In Colab\"/></a>"
      ]
    },
    {
      "cell_type": "markdown",
      "metadata": {
        "id": "i_4QVqdV96a6"
      },
      "source": [
        "# **Goal Programming**"
      ]
    },
    {
      "cell_type": "markdown",
      "metadata": {
        "id": "n0AD_VXnYiKq"
      },
      "source": [
        "# **Introduction**\n",
        "\n",
        "Goal Programming is a modification and extension of linear programming, Goal Programming extends the linear programming formulation to accommodate mathematical programming with multiple objectives\n",
        "It is a branch of multi-objective optimization and is based under multi-criteria decision-making analysis (MCDMA). This is an optimization programming to handle multiple,\n",
        "normally conflicting objective measures. Measures are given a goal or target value to be achieved.\n",
        "Unwanted deviations from this set of target values are then minimized in an achievement function.\n",
        "This can be a vector or a weighted sum dependent on the goal programming variant used.\n",
        "\n",
        "## **Types of Goal Programming models.**\n",
        "\n",
        "In Goal Programming there are two basic models: the preemptive (lexicographic) model and the non-preemptive (Archimedean) model.\n",
        "\n",
        "In the pre-emptive model, goals are ranked according to their priorities. The goals at a certain priority level are considered to be infinitely more important than the goals at the next level. In this model the problem is optimized one goal at a time so that the optimal value of the higher-ranking goal is not compromised by lower ranking goal.\n",
        "\n",
        "In the non-preemptive model, all the goals are of comparably equal importance, but in non-preemptive model the constraints have certain upper and lower limits and as long as the solution is within those limits it is considered optimal.\n",
        "\n",
        "\n",
        "\n",
        "## **Steps of Goal Programming.**\n",
        "\n",
        "Goal programming is used to perform three types of analysis:\n",
        "1. Determine the required resources to achieve a desired set of objectives.\n",
        "2. Determine the degree of attainment of the goals with the available resources.\n",
        "3. Providing the best satisfying solution under a varying number of resources and priorities of\n",
        "the goals."
      ]
    },
    {
      "cell_type": "markdown",
      "metadata": {
        "id": "rIUEoiT4bPk6"
      },
      "source": [
        "#**Why Goal Programming?**\n",
        "Goal Programming is used to solve problems in real life that have several objectives, for example if a healthcare company only focuses on providing top-quality healthcare the profit for the company might not be what they expected or if a publishing company spends too much time in making an error free book the release date might be pushed beyond the initial date, so focusing on only one objective can affect the goal that is important to an organization, Goal Programming can simultaneously take into account several objectives and provide an optimal solution which can help achieve the desired goal."
      ]
    },
    {
      "cell_type": "markdown",
      "metadata": {
        "id": "DVKCnmI8UBTG"
      },
      "source": [
        "# **History of Goal Programming.**\n",
        "\n",
        "\n",
        "\n",
        "The history of Goal Programming goes back to the years after the end of the 2nd world war when the industrial world was facing depression, though it wasn’t officially called Goal Programming then, industrialists were trying out various models which was successfully solving their problems and they soon learnt that this mathematical technique could be easily applied to solve industrial problems. Goal Programming was used to minimize the cost of production, increase the productivity, and use the available resources carefully and for healthy industrial growth. After that various model of Goal Programming were developed to solve industrial problems, so we can say that industries played an important role in the development of Goal Programming. Goal Programming was first used by Charnes, Cooper and Ferguson in 1955, but officially the name Goal Programming was mentioned in 1961 in a text by Charnes and Cooper.\n",
        "\n",
        "The first engineering application of Goal Programming was used for design and placement of the antennas on the second stage of the Saturn V rocket in 1962, which was used to launch the Apollo space capsule that landed the first men on the moon.\n"
      ]
    },
    {
      "cell_type": "markdown",
      "metadata": {
        "id": "5GgWvxZMYjTU"
      },
      "source": [
        "#**Why Goal Programming is different than linear programming?**\n",
        "Goal Programming is a problem related programming which focuses on multicriteria decision making which implies more than one objective. Somewhat, it has similarities to Linear Programming and can also be solved using Simplex method, Python or Lingo. \n",
        "\n",
        "The difference is that while the Linear Programming works on an objective function to be optimized, subjects to absolute constraints, the Goal Programming operates on more objective functions with priorities, whose goals can be reached to a greater or lesser extent. For this reason, the GP model is more flexible than LP one, aiming at a satisfactory solution rather than optimizing (Sikha, 2018).A goal programming (GP) model deals with goals simultaneously that are of concern to a decision maker. While a Linear Programming model consists of constraints and a single objective function to be maximized or minimized (Nesticò,2020).\n",
        ". For ex: We have a problem where in linear programming our solution would have been: minimize cost but in Goal Programming we can have two(conflicting) objectives such as: minimize cost and do not produce excess one or maybe three(conflicting) objectives.\n",
        "\n"
      ]
    },
    {
      "cell_type": "markdown",
      "metadata": {
        "id": "DGC5WaH4Y98C"
      },
      "source": [
        "# **Problems/Solutions**\n",
        "Following are few solved problems regarding Goal Programming.\n"
      ]
    },
    {
      "cell_type": "markdown",
      "metadata": {
        "id": "EjhJMZN3qlsc"
      },
      "source": [
        "##1) Advertising Company.\n",
        "Suppose a company is considering three forms of advertising: Television($X_1$), Radio($X_2$), and internet ($X_3$). Each television spot costs \\$3000 to run and reaches 1,000 new potential customers; each radio spot costs \\$800 to run and reaches 500 new customers; and each internet ad costs \\$250 to run and reaches 200 new customers.\n",
        "Let’s say the company has three goals (not a single like LP)\n",
        "\n",
        "\n",
        "*   **Goal 1: Spend no more than $25,000 on advertising.**\n",
        "\n",
        "\n",
        "*   **Goal 2: Reach at least 30,000 new potential customers.**\n",
        "\n",
        "\n",
        "* **Goal 3: Run at least 10 television spots.**"
      ]
    },
    {
      "cell_type": "markdown",
      "metadata": {
        "id": "KR_uQi3QERdc"
      },
      "source": [
        "\n",
        "\n",
        "##Solution:\n",
        "\n",
        "We can make constraints for the following conditions:\n",
        "\n",
        "\n",
        "\\begin{equation}\n",
        "\\left\\{\n",
        "  \\begin{array}{l}\n",
        "3000X_1 + 800X_2 + 250X_3 \\leq 25000\\\\\n",
        "1000X_1 + 500X_2 + 200X_3 \\leq 30000\\\\\n",
        "X_1 \\leq 10\n",
        "\\end{array}\n",
        "\\right.\n",
        "\\end{equation}\n",
        " \n",
        " If we look at the third equation, it contradicts with the first equation and the problem will be unsolvable . So, the problem couldn't be solved through this approach. That's why we have to use Goal Programming for this problem. So, we will suppose new variables for further :\n",
        "\n",
        " **$U_i$ = the amount by which L.H.S falls short of its R.H.S Value.**\n",
        " \n",
        " **$E_i$ = the amount by which L.H.S exceeds its R.H.S value.**\n",
        "  \n",
        "  So, now we can write our equations as:\n",
        "\n",
        "\\begin{equation}\n",
        "\\left\\{\n",
        "  \\begin{array}{l}\n",
        "3000X_1 + 800X_2 + 250X_3 + U_1 - E_1 = 25000\\\\\n",
        "1000X_1 + 500X_2 + 200X_3 + U_2 - E_2 = 30000\\\\   \n",
        "X_1 + U_3 - E_3 = 10\\\\\n",
        "X_1,X_2,X_3,U_1,U_2,U_3,E_1,E_2,E_3 \\geq 0\n",
        "  \\end{array}\n",
        "\\right.\n",
        "\\end{equation}\n",
        "\n",
        "Now we will arrange it in matrix form for our our python using simplex:\n",
        "\n",
        "$$\n",
        "\\left[\\begin{array}{ccccccccc|c}\n",
        " 3000 &  800 & 250 & 1 & -1 & 0 & 0 & 0 & 0 &       25000\\\\\n",
        "   1000 &  500 & 200 & 0 &  0 & 1 &-1 & 0& 0 &       30000\\\\ \n",
        "   1   &    0&    0&    0 &  0  & 0 &  0 & 1 &-1&   10 \n",
        "   \\end{array}\n",
        "   \\right]\n",
        "   $$\n",
        " \n",
        " But this will not be enough , we will need a new objective so:\n",
        "\n",
        "Let’s suppose management determines that each extra dollar spent on advertising above \\$ 25,000 \n",
        "costs the company \n",
        "\\$1 and that the company suffers a loss of \n",
        "\\$ 5 for each potential customers not reached below the goal of \n",
        "\\$ 30,000 and each television spot below 10 is worth 100 times each dollar over the budget. i.e\n",
        "\n",
        "\n",
        "*   **Goal 4: Minimize** \n",
        "\n",
        "$$E_1 + 5U_2 + 100U_3$$\n",
        "\n",
        "Now, we got our variables and our goal, so we will use python to find out the best value for our problem\n"
      ]
    },
    {
      "cell_type": "code",
      "metadata": {
        "id": "mbMCC1ZMZAHk"
      },
      "source": [
        "\n",
        "import numpy as np  #import numpy as np package for array\n",
        "\n",
        "from scipy.optimize import linprog  #import linprog from scipy.optimize for linear solving\n",
        "\n"
      ],
      "execution_count": null,
      "outputs": []
    },
    {
      "cell_type": "code",
      "metadata": {
        "id": "2dFWHQGOrFoj"
      },
      "source": [
        "Minimize = [0,0,0,0,1,5,0,100,0]  ##Array listed as [X1,X2,X3,U1,E1,U2,E2,U3,E3]\n",
        "                             ## objective[Minimize=E1+5U2+100E3]\n",
        "\n",
        "Points = [[3000,800,250,1,-1,0,0,0,0], # Left hand values of matrix respectively represented in arrays.\n",
        "          [1000,500,200,0,0,1,-1,0,0],\n",
        "          [1,0,0,0,0,0,0,1,-1]]\n",
        "Value =[25000,                           #R.H.S values listed respectively in arrays.\n",
        "         30000,      \n",
        "         10]         "
      ],
      "execution_count": null,
      "outputs": []
    },
    {
      "cell_type": "code",
      "metadata": {
        "id": "IbmSi8dx1Fhf"
      },
      "source": [
        "opt = linprog (c=Minimize,\n",
        "              A_eq=Points, b_eq=Value, bounds=None,\n",
        "               method=\"revised simplex\")\n"
      ],
      "execution_count": null,
      "outputs": []
    },
    {
      "cell_type": "code",
      "metadata": {
        "colab": {
          "base_uri": "https://localhost:8080/"
        },
        "id": "bOFdB5b5QI6v",
        "outputId": "be67c023-2745-45ee-eda6-c4bbb65b44c5"
      },
      "source": [
        "np.float64(opt.x)  # Best solution for variables."
      ],
      "execution_count": null,
      "outputs": [
        {
          "output_type": "execute_result",
          "data": {
            "text/plain": [
              "array([0.00e+00, 0.00e+00, 1.50e+02, 0.00e+00, 1.25e+04, 0.00e+00,\n",
              "       0.00e+00, 1.00e+01, 0.00e+00])"
            ]
          },
          "metadata": {},
          "execution_count": 4
        }
      ]
    },
    {
      "cell_type": "code",
      "metadata": {
        "id": "VmaT1M784bEl",
        "colab": {
          "base_uri": "https://localhost:8080/"
        },
        "outputId": "6a4db0d4-c784-4557-ad5a-b8cfd781b3ca"
      },
      "source": [
        "np.round(opt.fun,decimals=3)  # Best Solution for minimize function"
      ],
      "execution_count": null,
      "outputs": [
        {
          "output_type": "execute_result",
          "data": {
            "text/plain": [
              "13500.0"
            ]
          },
          "metadata": {},
          "execution_count": 5
        }
      ]
    },
    {
      "cell_type": "markdown",
      "metadata": {
        "id": "3LNLkQ6OTu-3"
      },
      "source": [
        "So,if the manufacturer gets 150 internet spots, \\$12,500 dollars over the budget for television spots and 10 less television spots, they will have to spend the minimum amount of \\$13,500 over budget to reach their desired goal."
      ]
    },
    {
      "cell_type": "markdown",
      "metadata": {
        "id": "a1m9z3f22Jol"
      },
      "source": [
        "##2) Two Mines \n",
        "The Two Mines Company own two different mines that produce an ore which, after being crushed, is graded into three classes: high, medium and low-grade. The company has contracted to provide a smelting plant with 12 tons of high-grade, 8 tons of medium-grade and 24 tons of low-grade ore per week. The two mines have different operating characteristics as detailed below. \n",
        "\n",
        "Mine X cost \\$180 per day to produce 6 , 3, 4 tons/day of High, Medium and low ores respectively.\n",
        "Mine Y costs \\$160 per day to produce 1, 1, 6 tons/day of High,Medium and Low ores respectively.\n",
        "\n",
        "How many Days per week should each mine be operated to fulfill the smelting plant contract?\n",
        "\n",
        "Now, if we go through linear programming , our solutions will produce 13.14 tonnes of high-grade per week, while our contract is only for 12 tonnes. So, we will have to deal with the excess. That's where we will have two (conflicting) objectives, and hence a path for goal programming. \n",
        "\n",
        "Now, as our objective changes,we have following goals:\n",
        "\n",
        "**Goal 1: Minimize cost**\n",
        "\n",
        "**Goal 2: Do not produce excess ore.**\n",
        "\n"
      ]
    },
    {
      "cell_type": "markdown",
      "metadata": {
        "id": "NKjY-dlC4xp0"
      },
      "source": [
        "##**Solution**:"
      ]
    },
    {
      "cell_type": "markdown",
      "metadata": {
        "id": "iR81CjXn47VE"
      },
      "source": [
        "We have two objectives:    \n",
        "**Goal 1: minimize cost**\n",
        "\n",
        "**Goal 2: Do not produce excess ore**\n",
        "\n",
        "Now, we have following constraints:     \n",
        "$$ 6x + y \\geq 12$$\n",
        "$$3x + y \\geq 8$$\n",
        "$$ 4x + 6y \\geq 24$$\n",
        "$$ x \\leq 5$$\n",
        "$$y \\leq 5$$\n",
        "$$ x,y \\geq 0$$\n",
        "$$180x + 160y \\leq 800$$\n",
        "But, These constraints will not be enough to continue:          \n",
        "We will suppose two variables which will lead to our budget/production/quantity over or under .\n",
        "\n",
        "$U_i$= Downward deviation\n",
        "\n",
        "$E_i$= Upward deviation\n",
        "\n",
        "Our new equations will be:  \n",
        "$$180x+160y + U_1 - E_1 = 800$$ \n",
        "\n",
        "$$6x + y - E_2 = 12$$\n",
        "\n",
        "$$3x+y - E_3 = 8$$\n",
        "\n",
        "$$4x+6y - E_4 = 24$$\n",
        "\n",
        "The management has decided to weight the variables and provide us with a new objective.\n",
        "i.e  \n",
        "**Minimize**:     \n",
        "$$3.125E_1 - 2.5U_1 + 333.333E_2 + 125E_3 +12.5E_4$$\n",
        "\n",
        "We have,\n",
        "$$x\\leq 5$$\n",
        "$$y\\leq5$$\n",
        "$$x,y,U_i,E_i\\geq0$$\n",
        "\n",
        "Now, having all this information, we can solve our problem using python:"
      ]
    },
    {
      "cell_type": "code",
      "metadata": {
        "id": "P4-aQAsb-etT"
      },
      "source": [
        "import numpy as np  #import numpy as np package for array\n",
        "\n",
        "from scipy.optimize import linprog  #import linprog from scipy.optimize for linear solving\n"
      ],
      "execution_count": null,
      "outputs": []
    },
    {
      "cell_type": "code",
      "metadata": {
        "id": "rpusV2R--gEf"
      },
      "source": [
        "obj = [0,0,-2.5,3.125,0,333.333,0,125,0,12.5]  ##Array listed as [x,y,U1,E1,U2,E2,U3,E3,U4,E4]\n",
        "                             ## objective[Minimize=3.125E1-2.5U1+333.333E2+125E3+12.5E4]\n",
        "\n",
        "lhs_eq = [[180,160,1,-1,0,0,0,0,0,0], # Left hand values of matrix respectively represented in arrays.\n",
        "          [6,1,0,0,0,-1,0,0,0,0],\n",
        "          [3,1,0,0,0,0,0,-1,0,0],\n",
        "          [4,6,0,0,0,0,0,0,0,-1]]\n",
        "rhs_eq =[800,                           #R.H.S values listed respectively in arrays.\n",
        "         12,      \n",
        "         8,\n",
        "        24]   "
      ],
      "execution_count": null,
      "outputs": []
    },
    {
      "cell_type": "code",
      "metadata": {
        "id": "CrZguyxu-f2o"
      },
      "source": [
        "Boundupto = [(0,5),    # Bound the variables x,y <= 5 and x,y, U1 , E1, U2, E2, U3, E3,U4,E4 >= 0\n",
        "       (0,5),\n",
        "       (0,float(\"inf\")),\n",
        "       (0,float(\"inf\")),\n",
        "       (0,float(\"inf\")),\n",
        "       (0,float(\"inf\")),\n",
        "       (0,float(\"inf\")),\n",
        "       (0,float(\"inf\")),\n",
        "       (0,float(\"inf\")),\n",
        "       (0,float(\"inf\"))]"
      ],
      "execution_count": null,
      "outputs": []
    },
    {
      "cell_type": "code",
      "metadata": {
        "id": "zKm2LNek-foA"
      },
      "source": [
        "opt1 = linprog(c=obj, A_eq=lhs_eq, b_eq=rhs_eq, bounds=Boundupto, method=\"revised simplex\")"
      ],
      "execution_count": null,
      "outputs": []
    },
    {
      "cell_type": "code",
      "metadata": {
        "id": "ZhifNY7k-fU0",
        "colab": {
          "base_uri": "https://localhost:8080/"
        },
        "outputId": "c9f97223-78c5-4d30-a709-8b165208bf78"
      },
      "source": [
        "np.float64(opt1.x) # Best solution for variables."
      ],
      "execution_count": null,
      "outputs": [
        {
          "output_type": "execute_result",
          "data": {
            "text/plain": [
              "array([1.6, 3.2, 0. , 0. , 0. , 0.8, 0. , 0. , 0. , 1.6])"
            ]
          },
          "metadata": {},
          "execution_count": 252
        }
      ]
    },
    {
      "cell_type": "code",
      "metadata": {
        "id": "BXgasTIgB3IG",
        "colab": {
          "base_uri": "https://localhost:8080/"
        },
        "outputId": "d2456dc7-e680-4163-e7c9-a75fefb8ab10"
      },
      "source": [
        "np.round(opt1.fun,decimals=3)  # Best Solution for minimize function"
      ],
      "execution_count": null,
      "outputs": [
        {
          "output_type": "execute_result",
          "data": {
            "text/plain": [
              "286.666"
            ]
          },
          "metadata": {},
          "execution_count": 253
        }
      ]
    },
    {
      "cell_type": "markdown",
      "metadata": {
        "id": "M_DEpVpeJnms"
      },
      "source": [
        "According to this solution, x= 1.6 and y=3.2 has cost equal to the cost goal of 800. But we over-produce higher grade ore ($E_2=0.8$), and also over produced low-grade ore ($E_4=1.6$).\n",
        "\n",
        "The advantage of using python here is that , we can use it to investigate our problem and adjust if needed.\n",
        "Now, Let's suppose the management made a little change to their objective and we have:    \n",
        "**Minimize:**\n",
        "\n",
        "$$3.125E_1 - 2.5U_1 + 416.667 E_2 + 125E_3 + 12.5 E_4$$"
      ]
    },
    {
      "cell_type": "code",
      "metadata": {
        "id": "AGmtPgBRN4_f"
      },
      "source": [
        "import numpy as np  #import numpy as np package for array\n",
        "\n",
        "from scipy.optimize import linprog  #import linprog from scipy.optimize for linear solving"
      ],
      "execution_count": null,
      "outputs": []
    },
    {
      "cell_type": "code",
      "metadata": {
        "id": "WWbLMdNPIgcC"
      },
      "source": [
        "obj1 = [0,0,-2.5,3.125,0,416.667,0,125,0,12.5]  ##Array listed as [x,y,U1,E1,U2,E2,U3,E3,U4,E4]\n",
        "                             ## objective[Minimize=3.125E1-2.5U1+416.667E2+125E3+12.5E4]\n",
        "\n",
        "lhs_eq1 = [[180,160,1,-1,0,0,0,0,0,0], # Left hand values of matrix respectively represented in arrays.\n",
        "          [6,1,0,0,0,-1,0,0,0,0],\n",
        "          [3,1,0,0,0,0,0,-1,0,0],\n",
        "          [4,6,0,0,0,0,0,0,0,-1]]\n",
        "rhs_eq1 =[800,                           #R.H.S values listed respectively in arrays.\n",
        "         12,      \n",
        "         8,\n",
        "        24] "
      ],
      "execution_count": null,
      "outputs": []
    },
    {
      "cell_type": "code",
      "metadata": {
        "id": "MdxedfWVItfb"
      },
      "source": [
        "opt2 = linprog(c=obj1, A_eq=lhs_eq1, b_eq=rhs_eq1, bounds=Boundupto, method=\"revised simplex\")"
      ],
      "execution_count": null,
      "outputs": []
    },
    {
      "cell_type": "code",
      "metadata": {
        "id": "scAwSIstIu_C",
        "colab": {
          "base_uri": "https://localhost:8080/"
        },
        "outputId": "7667d5f3-0d11-4baf-bbcc-8b587c9c698c"
      },
      "source": [
        "np.float64(opt2.x) # Best solution for variables."
      ],
      "execution_count": null,
      "outputs": [
        {
          "output_type": "execute_result",
          "data": {
            "text/plain": [
              "array([ 1.33333333,  4.        ,  0.        , 80.        ,  0.        ,\n",
              "        0.        ,  0.        ,  0.        ,  0.        ,  5.33333333])"
            ]
          },
          "metadata": {},
          "execution_count": 242
        }
      ]
    },
    {
      "cell_type": "code",
      "metadata": {
        "id": "ZnjIydbRIy_g",
        "colab": {
          "base_uri": "https://localhost:8080/"
        },
        "outputId": "49ba0b07-90d2-460f-86ad-ce0131353738"
      },
      "source": [
        "np.round(opt2.fun,decimals=3)  # Best Solution for minimize function"
      ],
      "execution_count": null,
      "outputs": [
        {
          "output_type": "execute_result",
          "data": {
            "text/plain": [
              "316.667"
            ]
          },
          "metadata": {},
          "execution_count": 243
        }
      ]
    },
    {
      "cell_type": "markdown",
      "metadata": {
        "id": "pH7_sG3PK_dl"
      },
      "source": [
        "Now, watching at new results, we avoid production of high-grade ore but acheived production of more low-grade ore and also rise in total cost of ($E_1=80$).\n",
        "Irrespective of what solution management prefer it is clear that Goal Programming provides them with a flexible tool to investigate the effect of differing weightings as they attempt to find a solution that satisfies their conflicting objectives."
      ]
    },
    {
      "cell_type": "markdown",
      "metadata": {
        "id": "qPPn9_hbBlHV"
      },
      "source": [
        "\n",
        "\n",
        "**NOTE:** \n",
        "Previous problems we solved were solved using non-preemptive method. The following problem will be solved using Preemptive method, which has slightly different approach and divide its problems into priority level. Through which, Priority 1 is the major goal or priority while others descend as their respective priority numbers."
      ]
    },
    {
      "cell_type": "markdown",
      "metadata": {
        "id": "kZK6RngNowBm"
      },
      "source": [
        "##3)The Cycle Company/Pre-emptive Method.\n",
        "\n",
        "   A Cycle Company is planning next month’s production of its two bicycles: its B2 tandem bicycle built for two and its S10 single-rider 10-speed model. Both models use the same seats and tires. Management has been informed that 2000 seats,1000 gear assemblies (only the S10 requires a gear assembly), and 2400 tires are available next month for production. On the average, it takes two hours to produce a B2 and three hours to produce a S10 bicycle. The accounting department estimates that each B2 yields a profit of \\$40 and each S10 yields a profit of \\$100. \n",
        "Management has set the following prioritized goals:\n",
        "\n",
        "\n",
        "**Priority 1: Fulfill a contract for 400 B2 bicycle that is promised to deliver to vendors in Ocean City, Maryland, next month.**\n",
        "\n",
        "**Priority 2: Produce at least 1000 total bicycles during the month.**\n",
        "\n",
        "**Priority 3:**\n",
        "\n",
        "**(1)\tAchieve at least \\$100,000 profit for the month**\n",
        "\n",
        "**(2)\tUse no more than 1600 labor-hours during the month.**\n",
        "\n",
        "\n",
        "**Each \\$1000 short of the \\$100,000 goal is considered 30 times as important as utilizing an extra labor-hour.**\n",
        "\n",
        "**Priority 4: The company is developing a new cycle, so it would like to have:**\n",
        "\n",
        "**(1)\tAt least 200 tires left over at the end of the month.**\n",
        "\n",
        "**(2)\tAt least 100 gear assemblies left over at the end of the month.**\n",
        "\n",
        "\n",
        "**Each leftover gear assembly is deemed twice as important as a leftover tire.\n",
        "Management wants to determine the production schedule that best meets its prioritized objectives.**"
      ]
    },
    {
      "cell_type": "markdown",
      "metadata": {
        "id": "iuQ_ki9mo7wh"
      },
      "source": [
        "##**Solution:**"
      ]
    },
    {
      "cell_type": "markdown",
      "metadata": {
        "id": "SK4ezk5B7mt4"
      },
      "source": [
        "\n",
        "\n",
        "\n",
        "\n",
        "\n",
        "\n",
        "Management at the following Cycle Company wishes to:\n",
        "\n",
        "•\tDetermine next month’s production quantities of B2 and S10 bicycles.\n",
        "\n",
        "•\tAvoid exceeding expected availabilities of seats, gear assemblies, and tires.\n",
        "\n",
        "•\tCome as close as possible to meeting its priority 1 goal first (production of 400 B2 cycles).\n",
        "\n",
        "•\tMeet its priority 2 goal (Production of 1000 cycles total) as closely as possible without disturbing the optimal level of its priority 1 goal.\n",
        "\n",
        "•\tMeet as closely as possible its priority 3 goals ($100,000 in profit, utilization of no more than 1600 man-hours) without disturbing the optimal levels of its priority 1 and 2 goals.\n",
        "\n",
        "•\tMeet as closely as possible its priority 4 goals (200 leftover tires and 100 leftover gear assemblies) in a ratio of 1:2 without disturbing the optimal levels of its priority 1,2 and 3 goals.\n",
        "\n",
        "**Decision Variables/Functional Constraints:**\n",
        "\n",
        "The decision variables for this model are:\n",
        "\n",
        "$X_1$: the number of B2s to be produced next month\n",
        "\n",
        "$X_2$: the number of S10s to be produced next month\n",
        "\n",
        "\n",
        "**Functional / nonnegativity constraints**\n",
        "\n",
        "The functional constraints are:\n",
        "\n",
        "$2X_1 + X_2 \\leq 2000$ Seats\n",
        "\n",
        "$X_2 \\leq 1000$ Gear Assemblies\n",
        "\n",
        "$2X_1 + 2X_2 \\leq 2400$ Tires\n",
        "\n",
        "$X_1, X_2 \\geq 0$ Nonnegativity\n",
        "\n",
        "**Goal Equations**\n",
        "\n",
        "The goal equations for the four priority levels are:\n",
        "\n",
        "**Priority 1: (Goal 1) Production of at least 400 B2 cycles:**\n",
        "\n",
        "$$X_1+U_1-E_1=400$$\n",
        "\n",
        "**Priority 2: (Goal 2) Production of at least 1000 total cycles:**\n",
        "\n",
        "$$X_1+X_2+U_2-E_2=1000$$\n",
        "\n",
        "**Priority 3: (Goal 3) Profit of at least $100,000:**\n",
        "\n",
        "$$0.04X_1+0.10X_2+U_3-E_3=100$$\n",
        "\n",
        "**(Goal 4):Use a maximum of 1600 labor-hours:**\n",
        "\n",
        "$$2X_1+3X_2+U_4-E_4=1600$$\n",
        "          \n",
        "              \n",
        "**Priority 4: (Goal 5) Hence, at least 200 leftover tires (this is equivalent to using no more than 2200 tires):**\n",
        "\n",
        "$$2X_1+2X_2+U_5-E_5=2200$$\n",
        "\n",
        "**(Goal 6): Hence at least 100 leftover gear assemblies (this is equivalent to using no more than 900 gear assemblies):**\n",
        "\n",
        " $$X_2+U_6-E_6=900$$\n",
        "\n",
        "**Priority level objectives:**\n",
        "\n",
        "The detrimental deviations, respectively are:\n",
        "\n",
        "Priority 1: Underachieving 400 B2s ($U_1$)\n",
        "\n",
        "Priority 2: Underachieving a 1000 production level ($U_2$)\n",
        "\n",
        "Priority 3: Underachieving a \\$100,000 profit ($U_3$)\n",
        "\n",
        "Using more than 1600 labor-hours ($E_4$)\n",
        "\n",
        "Priority 4: Using more than 2200 tires ($E_5$)\n",
        "\n",
        "Using more than 900 gear assemblies ($E_6$)\n",
        "\n",
        "Thus, the corresponding priority objectives are:\n",
        "\n",
        "**Priority 1: Minimize $$V_1=U_1$$**\n",
        "\n",
        "**Priority 2: Minimize $$V_2=U_2$$**\n",
        "\n",
        "**Priority 3: Minimize $$V_3=30U_3+E_4$$**\n",
        "\n",
        "**Priority 4: Minimize $$V_4=E_5+2E_6$$**\n",
        "\n"
      ]
    },
    {
      "cell_type": "markdown",
      "metadata": {
        "id": "g1J0lT6zobqa"
      },
      "source": [
        "Now,  that we have our constraints, goals and priorities, we can use python to get an optimal solution for our problem."
      ]
    },
    {
      "cell_type": "code",
      "metadata": {
        "id": "UnxEEjc0Jv9w"
      },
      "source": [
        "import numpy as np  #import numpy as np package for array\n",
        "\n",
        "from scipy.optimize import linprog  #import linprog from scipy.optimize for linear solving\n",
        "\n"
      ],
      "execution_count": null,
      "outputs": []
    },
    {
      "cell_type": "markdown",
      "metadata": {
        "id": "mRKkOXJHPR0V"
      },
      "source": [
        "**Priority 1:**"
      ]
    },
    {
      "cell_type": "code",
      "metadata": {
        "id": "4MA0BdKcJvx4"
      },
      "source": [
        "Minimize1 = [0,0,1,0]  ##Array listed as [X1,X2,U1,U2]\n",
        "                             ## objective[Priority 1 Minimize=(V1 = U1)]\n",
        "Point1ub = [[2,1,0,0],  ##L.H.S of functional constraints.\n",
        "           [0,1,0,0],\n",
        "            [2,2,0,0]]\n",
        "\n",
        "Value1ub = [[2000],         #R.H.S of functional constraints.\n",
        "               [1000],\n",
        "               [2400]]           \n",
        "Point1 = [1,0,1,-1], # Left hand values of [Goal 1 : X1 + U1 - E1]\n",
        "         \n",
        "Value1 = [400]                         #R.H.S value of Goal 1.  "
      ],
      "execution_count": null,
      "outputs": []
    },
    {
      "cell_type": "code",
      "metadata": {
        "id": "vmbgPyggJvVP"
      },
      "source": [
        "result = linprog(c=Minimize1, A_ub=Point1ub, b_ub=Value1ub, A_eq=Point1, b_eq=Value1, bounds=None, method=\"revised simplex\") #Code for performing simplex method on following constraints.\n"
      ],
      "execution_count": null,
      "outputs": []
    },
    {
      "cell_type": "code",
      "metadata": {
        "colab": {
          "base_uri": "https://localhost:8080/"
        },
        "id": "ZImaBWQzLAoT",
        "outputId": "90b14961-0354-4d05-8253-4d14468a746d"
      },
      "source": [
        "np.round(result.x,decimals=3) #optimal value for (X1,X2,U2,E2)."
      ],
      "execution_count": null,
      "outputs": [
        {
          "output_type": "execute_result",
          "data": {
            "text/plain": [
              "array([400.,   0.,   0.,   0.])"
            ]
          },
          "metadata": {},
          "execution_count": 255
        }
      ]
    },
    {
      "cell_type": "code",
      "metadata": {
        "colab": {
          "base_uri": "https://localhost:8080/"
        },
        "id": "aMmuF0DVLALG",
        "outputId": "416ca5bd-1b5e-4f47-edc8-9bf355f0aaa2"
      },
      "source": [
        "np.round(result.fun,decimals=3) #Value of V1."
      ],
      "execution_count": null,
      "outputs": [
        {
          "output_type": "execute_result",
          "data": {
            "text/plain": [
              "0.0"
            ]
          },
          "metadata": {},
          "execution_count": 256
        }
      ]
    },
    {
      "cell_type": "markdown",
      "metadata": {
        "id": "ReVkGgu8PVh7"
      },
      "source": [
        "**Priority 2:**"
      ]
    },
    {
      "cell_type": "code",
      "metadata": {
        "id": "aoLA2Lx4LZ8L"
      },
      "source": [
        "Minimize2 = [0,0,0,0,1,0]  ##Array listed as [X1,X2,U1,E2,U2,E2]\n",
        "                             ## objective[Priority 2: Minimize (V2 = U2)]\n",
        "Point2ub = [[2,1,0,0,0,0],  #L.H.S of functional constraints\n",
        "          [0,1,0,0,0,0],\n",
        "          [2,2,0,0,0,0]]\n",
        "Value2ub = [[2000],      #R.H.S of functional constraints.\n",
        "          [1000],\n",
        "          [2400]]            #Since we have to put priority 1 at best to find the best solution for priority 2.\n",
        "Point2 = [[1,0,1,-1,0,0],   #L.H.S of Goal 1: X1 + U1 - E1\n",
        "          [1,1,0,0,1,-1],      #L.H.S of Goal 2: X1 + X2 + U2 - E2\n",
        "          [0,0,1,0,0,0]]       #L.H.S of Priority 1: (V1=U1)\n",
        "        \n",
        "         \n",
        "Value2 = [400,            #R.H.S of Respectively values.\n",
        "          1000,\n",
        "          0]    "
      ],
      "execution_count": null,
      "outputs": []
    },
    {
      "cell_type": "code",
      "metadata": {
        "id": "bz0sQ-qAP8Xd"
      },
      "source": [
        "result2 = linprog(c=Minimize2, A_ub=Point2ub, b_ub=Value2ub, A_eq=Point2, b_eq=Value2, bounds=None , method=\"revised simplex\") #Code for performing simplex method on following constraints."
      ],
      "execution_count": null,
      "outputs": []
    },
    {
      "cell_type": "code",
      "metadata": {
        "colab": {
          "base_uri": "https://localhost:8080/"
        },
        "id": "jNTPXlKAQDmG",
        "outputId": "bacddbe0-ba41-4664-b8c3-7d2a981203c7"
      },
      "source": [
        "np.round(result2.x,decimals=3)  #Optimal values of (X1,X2,U1,E1,U2,E2)"
      ],
      "execution_count": null,
      "outputs": [
        {
          "output_type": "execute_result",
          "data": {
            "text/plain": [
              "array([400., 600.,   0.,   0.,   0.,   0.])"
            ]
          },
          "metadata": {},
          "execution_count": 262
        }
      ]
    },
    {
      "cell_type": "code",
      "metadata": {
        "colab": {
          "base_uri": "https://localhost:8080/"
        },
        "id": "L-HbyhYwQKuF",
        "outputId": "155d0516-09df-418f-960d-ba9d82997b16"
      },
      "source": [
        "np.round(result2.fun,decimals=3) #Value for V2."
      ],
      "execution_count": null,
      "outputs": [
        {
          "output_type": "execute_result",
          "data": {
            "text/plain": [
              "0.0"
            ]
          },
          "metadata": {},
          "execution_count": 263
        }
      ]
    },
    {
      "cell_type": "markdown",
      "metadata": {
        "id": "dJjKSWA0PZfj"
      },
      "source": [
        "**Priority 3:**"
      ]
    },
    {
      "cell_type": "code",
      "metadata": {
        "id": "9nh-LTSkUtNf"
      },
      "source": [
        "Minimize3 = [0,0,0,0,0,0,30,0,0,1]  ##Array listed as [X1,X2,U1,E1,U2,E2,U3,E3,U4,E4]\n",
        "                             ## objective[Priority 3: Minimize=(V3 = 30U3 + E4)]\n",
        "\n",
        "Point3ub = [[2,1,0,0,0,0,0,0,0,0], #L.H.S of functional constraints.\n",
        "          [0,1,0,0,0,0,0,0,0,0],\n",
        "          [2,2,0,0,0,0,0,0,0,0]]\n",
        "\n",
        "Value3ub = [[2000],                  #R.H.S of functional constraints.\n",
        "          [1000],\n",
        "          [2400]]\n",
        "                                         #Since we have to put priority 1 and priority 2 at best to find the best solution for priority 3.\n",
        "Point3 = [[1,0,1,-1,0,0,0,0,0,0],       #L.H.S of Goal 1: X1 + U1 - E1\n",
        "          [1,1,0,0,1,-1,0,0,0,0],        #L.H.S of Goal 2: X1 + X2 + U2 - E2 \n",
        "          [0.04,0.10,0,0,0,0,1,-1,0,0],   #L.H.S of Goal 3: 0.04X1 + 0.10X2 + U3 - E3\n",
        "          [2,3,0,0,0,0,0,0,1,-1],          #L.H.S of Goal 4: 2X1 + 3X2 + U4 - E4\n",
        "          [0,0,1,0,0,0,0,0,0,0],          #L.H.S of Priority 1: (U1)\n",
        "          [0,0,0,0,1,0,0,0,0,0]           #L.H.S of Priority 2: (U2)\n",
        "          ]\n",
        "          \n",
        "         \n",
        "Value3 = [400,\n",
        "          1000,\n",
        "          100,             #R.H.S of respective goals and priorities.\n",
        "          1600,\n",
        "          0,\n",
        "          0]  "
      ],
      "execution_count": null,
      "outputs": []
    },
    {
      "cell_type": "code",
      "metadata": {
        "id": "8uVi7XtuXRCV"
      },
      "source": [
        "result3 = linprog(c=Minimize3, A_ub=Point3ub, b_ub=Value3ub, A_eq=Point3, b_eq=Value3, bounds=None , method=\"revised simplex\") #Code for performing simplex method on following constraints."
      ],
      "execution_count": null,
      "outputs": []
    },
    {
      "cell_type": "code",
      "metadata": {
        "colab": {
          "base_uri": "https://localhost:8080/"
        },
        "id": "TkPBpzMtXkqF",
        "outputId": "b33b616d-9008-4dd9-fe0d-047919db06d2"
      },
      "source": [
        "np.round(result3.x,decimals=3) #Value for [X1,X2,U1,E1,U2,E2,U3,E3,U4,E4]"
      ],
      "execution_count": null,
      "outputs": [
        {
          "output_type": "execute_result",
          "data": {
            "text/plain": [
              "array([  0.   , 533.333, 400.   ,   0.   , 466.667,   0.   ,  46.667,\n",
              "         0.   ,   0.   ,   0.   ])"
            ]
          },
          "metadata": {},
          "execution_count": 268
        }
      ]
    },
    {
      "cell_type": "code",
      "metadata": {
        "colab": {
          "base_uri": "https://localhost:8080/"
        },
        "id": "iJc9Mn5_U5r6",
        "outputId": "38b89164-a395-4602-9d5d-279a0860164f"
      },
      "source": [
        "np.round(result3.fun,decimals=3) #value for V3."
      ],
      "execution_count": null,
      "outputs": [
        {
          "output_type": "execute_result",
          "data": {
            "text/plain": [
              "1400.0"
            ]
          },
          "metadata": {},
          "execution_count": 269
        }
      ]
    },
    {
      "cell_type": "markdown",
      "metadata": {
        "id": "Fv_apXXiPedv"
      },
      "source": [
        "**Priority 4:**"
      ]
    },
    {
      "cell_type": "code",
      "metadata": {
        "id": "BsqDXAOlYPlM"
      },
      "source": [
        "Minimize4 = [0,0,0,0,0,0,0,0,0,0,0,1,0,2]  ##Array listed as [X1,X2,U1,E1,U2,E2,U3,E3,U4,E4,U5,E5,U6,E6]\n",
        "                             ## objective[Priority 4:Minimize(V4 = E5 + 2E6 ]\n",
        "Point4ub = [[2,1,0,0,0,0,0,0,0,0,0,0,0,0],  #L.H.S of functional constraints.\n",
        "          [0,1,0,0,0,0,0,0,0,0,0,0,0,0],\n",
        "          [2,2,0,0,0,0,0,0,0,0,0,0,0,0]]\n",
        "Value4ub = [[2000],                          #R.H.S of functional constraints.\n",
        "          [1000],\n",
        "          [2400]]\n",
        "                                               #Since we have to put priority 1,2 and 3 at best to find the best solution for priority 4.\n",
        "Point4 = [[1,0,1,-1,0,0,0,0,0,0,0,0,0,0],      #L.H.S of Goal 1: X1 + U1 - E1\n",
        "          [1,1,0,0,1,-1,0,0,0,0,0,0,0,0],      #L.H.S of Goal 2: X1 + X2 + U2 - E2\n",
        "          [0.04,0.10,0,0,0,0,1,-1,0,0,0,0,0,0],  #L.H.S of Goal 3: 0.04X1 + 0.10X2 + U3 - E3\n",
        "          [2,3,0,0,0,0,0,0,1,-1,0,0,0,0],         #L.H.S of Goal 4: 2X1 + 3X2 + U4 - E4\n",
        "          [2,2,0,0,0,0,0,0,0,0,1,-1,0,0],         #L.H.S of Goal 5: 2X1 + 2X2 + U5 - E5\n",
        "          [0,1,0,0,0,0,0,0,0,0,0,0,1,-1],          #L.H.S of Goal 6: X2 + U6 - E6\n",
        "          [0,0,1,0,0,0,0,0,0,0,0,0,0,0],          #L.H.S of Priority 1: (U1) \n",
        "          [0,0,0,0,1,0,0,0,0,0,0,0,0,0],           #L.H.S of Priority 2: (U2)\n",
        "          [0,0,0,0,0,0,30,0,0,1,0,0,0,0]]          #L.H.S of Priority 3: (30U3 + E4)\n",
        "          # Left hand values of matrix respectively represented in arrays.\n",
        "         \n",
        "Value4 = [400,\n",
        "          1000,\n",
        "          100,\n",
        "          1600,\n",
        "          2200,\n",
        "          900,            ##R.H.S of respective goals and priorities.\n",
        "          0,\n",
        "          0,\n",
        "          1400]  "
      ],
      "execution_count": null,
      "outputs": []
    },
    {
      "cell_type": "code",
      "metadata": {
        "id": "zoCSy-HXYPZw"
      },
      "source": [
        "result4 = linprog(c=Minimize4, A_ub=Point4ub, b_ub=Value4ub, A_eq=Point4, b_eq=Value4, bounds=None , method=\"revised simplex\") ##Code for performing simplex method on following constraints."
      ],
      "execution_count": null,
      "outputs": []
    },
    {
      "cell_type": "code",
      "metadata": {
        "colab": {
          "base_uri": "https://localhost:8080/"
        },
        "id": "NcImYPW5YOtd",
        "outputId": "d42802c7-cae2-4ef7-bbba-ebf08ed3ab89"
      },
      "source": [
        "np.round(result4.x,decimals=3) #Value for [X1,X2,U1,E1,U2,E2,U3,E3,U4,E4,U5,E5,U6,E6]"
      ],
      "execution_count": null,
      "outputs": [
        {
          "output_type": "execute_result",
          "data": {
            "text/plain": [
              "array([ 400.   ,  600.   ,    0.   ,    0.   ,    0.   ,    0.   ,\n",
              "         13.333,    0.   ,    0.   , 1000.   ,  200.   ,    0.   ,\n",
              "        300.   ,    0.   ])"
            ]
          },
          "metadata": {},
          "execution_count": 259
        }
      ]
    },
    {
      "cell_type": "code",
      "metadata": {
        "colab": {
          "base_uri": "https://localhost:8080/"
        },
        "id": "k7f7Gl6yYOeB",
        "outputId": "1b680292-7218-4c7b-c9e2-3e33b0b4504b"
      },
      "source": [
        "np.round(result4.fun,decimals=3) #Value of V4."
      ],
      "execution_count": null,
      "outputs": [
        {
          "output_type": "execute_result",
          "data": {
            "text/plain": [
              "0.0"
            ]
          },
          "metadata": {},
          "execution_count": 260
        }
      ]
    },
    {
      "cell_type": "markdown",
      "metadata": {
        "id": "H_H7_MOWgtbC"
      },
      "source": [
        "So, for the optimal solution of budget overload remaining zero, the number of 400 Model B2 bicycles and 600 Model S10 bicycles should be manufactured."
      ]
    },
    {
      "cell_type": "markdown",
      "metadata": {
        "id": "g4UmwkpEpXSW"
      },
      "source": [
        "#**Solve the Following problems:**"
      ]
    },
    {
      "cell_type": "markdown",
      "metadata": {
        "id": "ayRLyGVHWVe5"
      },
      "source": [
        "**Problem 1:**\n",
        "\n",
        "Suppose a company is considering manufacturing three forms of products: Television$(X_1)$, Radio$(X_2)$, and Tablets$(X_3)$. Each television manufacturing costs \\$300 to run and sells to 10,000 new potential customers each week; each radio manufacturing costs \\$80 to run and sells to 5,000 new customers; and each tablet manufacturing costs \\$100 to run and sells to 2,000 new customers. The company has three goals:\n",
        "\n",
        "\n",
        "•Goal 1: Spend no more than $20,000 on manufacturing.\n",
        "\n",
        "•\tGoal 2: Reach at least 35,000 new potential customers.\n",
        "\n",
        "• Goal 3: Sell at least 100 televisions.\n",
        "\n",
        "\n",
        "\n",
        "\n"
      ]
    },
    {
      "cell_type": "markdown",
      "metadata": {
        "id": "f-eJYAGlr4a7"
      },
      "source": [
        "**Problem 2:**\n",
        "\n",
        "The New England Cycle Company is planning next month’s production of its two bicycles: its Q2 tandem bicycle built for two and its A10 single-rider 10-speed model. Both models use the same seats and tires. Management has been informed that 1000 seats, 500 gear assemblies (only the A10 requires a gear assembly), and 1200 tires are available next month for production. On the average, it takes two hours to produce a Q2 and three hours to produce a A10 bicycle. The accounting department estimates that each Q2 yields a profit of \\\\$20 and each A10 yields a profit of \\$50. \n",
        "\n",
        "Management has set the following prioritized goals:\n",
        "\n",
        "Priority 1: Fulfill a contract for 200 Q2 bicycle that is promised to deliver to vendors in Ocean City, Maryland, next month.\n",
        "\n",
        "Priority 2: Produce at least 5000 total bicycles during the month.\n",
        "\n",
        "Priority 3:\n",
        "(1)\tAchieve at least \\$50,000 profit for the month.\n",
        "\n",
        "(2)\tUse no more than 1600 labor-hours during the month.\n",
        "\n",
        "Each $500 short of the \\$50,000 goal is considered 30 times as important as utilizing an extra labor-hour.\n",
        "\n",
        "Priority 4: The company is developing a new cycle, so it would like to have:\n",
        "(1)\tAt least 100 tires left over at the end of the month.\n",
        "\n",
        "(2)\tAt least 50 gear assemblies left over at the end of the month.\n",
        "\n",
        "Each leftover gear assembly is deemed twice as important as a leftover tire.\n",
        "Management wants to determine the production schedule that best meets its prioritized objectives.\n"
      ]
    },
    {
      "cell_type": "markdown",
      "metadata": {
        "id": "Y0M9NKdPs9T4"
      },
      "source": [
        "**Problem 3:**\n",
        "\n",
        "The Two Mines Company own two different mines that produce an ore which, after being crushed, is graded into three classes: high, medium and low-grade. The company has contracted to provide a smelting plant with 6 tons of high-grade, 4 tons of medium-grade and 12 tons of low-grade ore per week. The two mines have different operating characteristics as detailed below. \n",
        "\n",
        "Mine X cost \\$90 per day to produce 3 , 1.5, 2 tons/day of High, Medium and low ores respectively.\n",
        "Mine Y costs \\$80 per day to produce 0.5, 0.5, 3 tons/day of High,Medium and Low ores respectively.\n",
        "\n",
        "How many Days per week should each mine be operated to fulfill the smelting plant contract? \n",
        "\n",
        "Now, as our objective changes,we have following goals:\n",
        "\n",
        "Goal 1: Minimize cost\n",
        "\n",
        "Goal 2: Do not produce excess ore."
      ]
    },
    {
      "cell_type": "markdown",
      "metadata": {
        "id": "p5rKVqmFUNRy"
      },
      "source": [
        "**Problem 4:**\n",
        "\n",
        "A mine company owns two different mines that produce an ore which, after being crushed, is graded into three classes: high, medium, and low-grade. The company has contracted to provide a smelting plant with 13 tons of high-grade, 9 tons of medium-grade and 25 tons of low-grade ore per week. How many days per week should each mine be operated to fulfil the smelting plant contract? The two mines have different operating characteristics as detailed below.\n",
        "\n",
        "Mine X cost \\$190 per day to produce 7, 4, 5 tons/day of High, Medium and low ores respectively.\n",
        "\n",
        "Mine Y costs \\$170 per day to produce 2, 2, 7 tons/day of High,Medium and Low ores respectively.\n",
        "\n",
        "Goal 1: Minimize cost.\n",
        "\n",
        "Goal 2: Do not produce excess ore."
      ]
    },
    {
      "cell_type": "markdown",
      "metadata": {
        "id": "rQPni6c1s8GL"
      },
      "source": [
        "**Problem 5:**\n",
        "\n",
        "A company produces two products, where the labor and profit are:\n",
        "![Pro1.PNG](data:image/png;base64,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)\n",
        "\n",
        "\n",
        "The company incurs a penalty of \\$2 for each dollar it falls short of the profit. A \\$3 penalty is incurred for\n",
        "each hour of overtime, and a \\$2 penalty is incurred for each hour of labor that is not used. A penalty of\n",
        "\\$6/unit is assessed for any shortfall in meeting demand.\n",
        "\n",
        "Goal 1: Avoid underutilization of labor.\n",
        "\n",
        " Goal 2: Meet demand for product 1.\n",
        "\n",
        " Goal 3: Meet demand for product 2.\n",
        "\n",
        " Goal 4: Do not use any overtime.\n"
      ]
    },
    {
      "cell_type": "markdown",
      "metadata": {
        "id": "GcAlnUncTxkt"
      },
      "source": [
        "**Problem 6:**\n",
        "\n",
        "A company wants to achieve 3 goals for the best output of the 3 products. For Product 1, the company has 40 employees for Labor with 2 tons of raw material to make a profit of \\$5 million. For Product 2, the company has 30 employees for Labor with 4 tons of raw material to make a profit of \\$8 million. For Product 3, the company has 20 employees for Labor with 3 tons of raw material to make a profit of \\$4 million.\n",
        "\n",
        "GOALS:\n",
        "\n",
        "1.Have 100 or less employees of Labor;Anything more will result a penalty of 5.\n",
        "\n",
        "2.Have exactly 10 tons of raw material;If it is below 10 tons, the penalty is 8. If it is above, the penalty is 12.\n",
        "\n",
        "3.Make a profit of at least $30 million;Anything lower will result a penalty of 15."
      ]
    },
    {
      "cell_type": "markdown",
      "metadata": {
        "id": "5RbXJk6bWVaJ"
      },
      "source": [
        "**Problem 7:**\n",
        "\n",
        "Microcom is a growth-oriented firm which establishes monthly performance goals for its sales force. Microcom determines that the sales force has a maximum available hours per month for visits of 640 hours. Further, it is estimated that each visit to a potential new client requires 3 hours and each visit to a current client requires 2 hours.\n",
        "\n",
        "GOALS:\n",
        "\n",
        "1)Contact at least 200 current clients.\n",
        "\n",
        "2)Contact at least 120 new clients.\n",
        "\n",
        "OVERACHIEVING GOALS WILL NOT BE PENALIZED"
      ]
    },
    {
      "cell_type": "markdown",
      "metadata": {
        "id": "LDDwnI0GXUPV"
      },
      "source": [
        "**Problem 8:**\n",
        "\n",
        "Alpha company produces two kinds of fancy products, pen holder and paper tray. Production of either of them requires 1 hr production capacity in the plant. The plant has a maximum production capacity of 12 hrs per week. The maximum number of pen holders and paper trays that can be sold are 7 and 10 respectively. The gross margin from the sales of pen holder is \\$0.9 and  \\$0.45 for a paper tray. The overtime hours should not exceed 3 hrs per week if required. The plant manager has set the following goals in order of importance: \n",
        "\n",
        "Priority 1:He wants to avoid any under-utilization of production capacity.\n",
        "\n",
        "Priority 2: He wants to limit the overtime hours to 3 hrs.\n",
        "\n",
        "Priority 3: He wants to sell as many pen holders and paper trays as possible. Since the gross margin from the sale of a pen holder is set at twice the amount of the profit from a paper tray, the manager has twice as much desire to achieve the sales goal for pen holders as for paper trays.\n",
        "\n",
        " Priority 4:The manager wishes to minimize the overtime operation of the plant as much as possible.\n",
        "\n",
        "\n",
        "\n"
      ]
    },
    {
      "cell_type": "markdown",
      "metadata": {
        "id": "TX5wu9PkYZSh"
      },
      "source": [
        "**Problem 9:**\n",
        "\n",
        "A hotel is constructing three different sizes of conference room, they are:\n",
        "\n",
        "\n",
        "![pro2.PNG](data:image/png;base64,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)\n",
        "\n",
        "\n",
        "Goal 1: The construction should include 5 small conference rooms.\n",
        "\n",
        "Goal 2: The construction should include 10 medium conference rooms.\n",
        "\n",
        "Goal 3: The construction should include 15 large conference rooms.\n",
        "\n",
        "Goal 4: The construction should consist of 25,000 square feet.\n",
        "\n",
        "Goal 5: The construction cost should be less than $1,000,000.\n",
        "\n",
        "\n"
      ]
    },
    {
      "cell_type": "markdown",
      "metadata": {
        "id": "3c_RKO7-ZK39"
      },
      "source": [
        "**Problem 10:**\n",
        "\n",
        "Harrison Electric produces two products popular with home renovators, old fashioned chandeliers and ceiling fans. Both chandeliers and fans require a two-step production process involving wiring and assembly. It takes about 2 hrs to wire a chandelier and 3 hrs to wire a fan. Final assembly of the chandelier and fan require 6 and 5 hrs respectively. The production capability is such that only 12 hrs of wiring and 30 hrs of assembly time are available. Each chandelier produced nets the firm \\$7 and each fan \\$6. The Harrison’s management wants to achieve the following goals with the given priorities: \n",
        "\n",
        " Priority1: Reach a profit as much above \\$30 as possible. \n",
        "\n",
        " Priority2: Fully use wiring department hours available. \n",
        "\n",
        "Priority3: Avoid assembly department overtime. \n",
        "\n",
        "Priority4: Produce at-least 7 ceiling fans.\n"
      ]
    },
    {
      "cell_type": "markdown",
      "metadata": {
        "id": "GeXj0pReHGlL"
      },
      "source": [
        "#**Project Idea:**\n",
        "\n",
        " \n",
        "**Important:** After storming through this whole chapter, you might have some answers or questions that you might have been thinking of. So, here are some questions , you can try to solve after:\n",
        "\n",
        "##**Questions:**\n",
        "\n",
        "a] From Solution 1:\n",
        "\n",
        "1.  After computing, what was the optimal solution of sells for televisions, radios, and tablets?\n",
        "2.   Has the company achieved the goal of spending $25,000 or less? if not, how much did the company spend?\n",
        "3. Do you think that the quality of products affects the number of new potential customers? Explain.\n",
        "4. If this problem was converted into a linear programming problem, and you wanted to find the optimal solution of new potential buyers, could you solve for it? If yes, solve for the optimal solution with the information above.\n",
        "\n",
        "b] Why is Goal Programming important?\n",
        "\n",
        "\n",
        "c] What is the main difference between Goal Programming and Linear Programming?\n",
        "\n",
        "\n",
        "d] Can you solve a Linear Programming problem using the steps to solve a Goal Programming problem? Why, or why not?\n",
        "\n",
        "\n",
        "e] When is the appropriate time you use Goal Programming?\n",
        "\n",
        "\n",
        "f] In Goal Programming, the upper and lower limits (or constraints) are\n",
        "important into finding the optimal solutions. What happens when something does not obey the constraints? Can we still find the optimal solutions?"
      ]
    },
    {
      "cell_type": "markdown",
      "metadata": {
        "id": "EMXZSYpaf5_r"
      },
      "source": [
        "##**NOTE:**\n",
        "\n",
        "We have tried to learn a little bit about Goal Programming here, but for some wanderers this material will not be enough. As the world of Goal Programming is wide and vast. If you want to learn more about Goal Programming, you can follow any references given below, or search in the internet."
      ]
    },
    {
      "cell_type": "markdown",
      "metadata": {
        "id": "fb2uZl1q_LR_"
      },
      "source": [
        "#References\n",
        "\n",
        "•\tAntonio Nesticò, C. E. (2020). **An Economic Model for Selecting Urban-Scale Projects.** Springer, Cham.\n",
        "\n",
        "•\tJha, P. (n.d.). **Goal Programming.** Retrieved from \"http://du.ac.in/du/uploads/departments/Operational%20Research/25042020_Goal%20Programming.pdf\"\n",
        "\n",
        "•\tSikha, T. (2018). **Comparison between Goal Programming and other Linear Programming Methods.**\n",
        "\n",
        "•\t **Nonlinear Models:Dynamic ,Goal, and Linear Programming.** ”https://www.ams.jhu.edu/~castello/625.414/Handouts/GoalProg.pdf”\n",
        "\n",
        "•\tMirko Stojiljkovic. **Hands-On Linear Programming: Optimization With Python**;  \" https://realpython.com/linear-programming-pyth\"\n",
        "\n",
        "•\tDusseldorp, V. and Ralph, A., 1976. **Applications of Goal Programming to Education.** [ebook] Phoenix, AZ. Available at: “https://www.science.gov/topicpages/g/goal+programming+theoretical.html”\n",
        "\n",
        "•\tDan Dan, E. and Desmond .O., 2013. **GOAL PROGRAMMING: - An Application To Budgetary Allocation Of An Institution Of Higher Learning.** [ebook] Available at: https://www.researchgate.net \n",
        "\n",
        "•\thttp://web.tecnico.ulisboa.pt/mcasquilho/acad/or/ftp/GP_TwoMinesConverted.pdf\n",
        "\n",
        "•\t**Goal Programming Example**\"http://people.whitman.edu/~hundledr/courses/M339F15/M339/Sect04_16_Beamer.pdf\"\n",
        "\n",
        "•\t**Smart Energy Operations Research Lab (SEORL):** http://binghamton.edu/seorl\n",
        "\n",
        "\n",
        "\n"
      ]
    },
    {
      "cell_type": "markdown",
      "metadata": {
        "id": "C8i0wsUKijeP"
      },
      "source": [
        "### Authors"
      ]
    },
    {
      "cell_type": "markdown",
      "metadata": {
        "id": "rajid0PdipzE"
      },
      "source": [
        "Principal authors of this chapter were: \n",
        "[Arun Gyawali](https://github.com/arungyaw),[Khaji Butler](https://github.com/khajibutler),[Utshav Hamal](https://github.com/utsham)"
      ]
    }
  ]
}