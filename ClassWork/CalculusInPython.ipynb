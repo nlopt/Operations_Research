{
  "nbformat": 4,
  "nbformat_minor": 0,
  "metadata": {
    "colab": {
      "provenance": [],
      "authorship_tag": "ABX9TyPjTsjrX3kFpiZQSRxS4Ubx",
      "include_colab_link": true
    },
    "kernelspec": {
      "name": "python3",
      "display_name": "Python 3"
    },
    "language_info": {
      "name": "python"
    }
  },
  "cells": [
    {
      "cell_type": "markdown",
      "metadata": {
        "id": "view-in-github",
        "colab_type": "text"
      },
      "source": [
        "<a href=\"https://colab.research.google.com/github/nurfnick/Operations_Research/blob/main/CalculusInPython.ipynb\" target=\"_parent\"><img src=\"https://colab.research.google.com/assets/colab-badge.svg\" alt=\"Open In Colab\"/></a>"
      ]
    },
    {
      "cell_type": "markdown",
      "source": [
        "# Calculus Optimizing in Python"
      ],
      "metadata": {
        "id": "U-Sjo3z3nPIX"
      }
    },
    {
      "cell_type": "code",
      "execution_count": 2,
      "metadata": {
        "id": "1-XPVDnmnOe0"
      },
      "outputs": [],
      "source": [
        "from sympy import *\n",
        "\n",
        "x,a = symbols('x, a')"
      ]
    },
    {
      "cell_type": "code",
      "source": [
        "f = a*log(a/x)-a+x\n",
        "f"
      ],
      "metadata": {
        "colab": {
          "base_uri": "https://localhost:8080/",
          "height": 48
        },
        "id": "r5w2-wUBnbJG",
        "outputId": "12f32831-8f5f-4ae6-88e1-ffbdb5225195"
      },
      "execution_count": 3,
      "outputs": [
        {
          "output_type": "execute_result",
          "data": {
            "text/plain": [
              "a*log(a/x) - a + x"
            ],
            "text/latex": "$\\displaystyle a \\log{\\left(\\frac{a}{x} \\right)} - a + x$"
          },
          "metadata": {},
          "execution_count": 3
        }
      ]
    },
    {
      "cell_type": "code",
      "source": [
        "f.diff(x)"
      ],
      "metadata": {
        "colab": {
          "base_uri": "https://localhost:8080/",
          "height": 47
        },
        "id": "On_e6bosnni_",
        "outputId": "b85d4527-f5f8-4305-82cf-7b895166a27d"
      },
      "execution_count": 4,
      "outputs": [
        {
          "output_type": "execute_result",
          "data": {
            "text/plain": [
              "-a/x + 1"
            ],
            "text/latex": "$\\displaystyle - \\frac{a}{x} + 1$"
          },
          "metadata": {},
          "execution_count": 4
        }
      ]
    },
    {
      "cell_type": "code",
      "source": [
        "f.diff(a)"
      ],
      "metadata": {
        "colab": {
          "base_uri": "https://localhost:8080/",
          "height": 48
        },
        "id": "lCsKoZXupSlp",
        "outputId": "da039649-21bc-4131-d3e6-98f14e109370"
      },
      "execution_count": 5,
      "outputs": [
        {
          "output_type": "execute_result",
          "data": {
            "text/plain": [
              "log(a/x)"
            ],
            "text/latex": "$\\displaystyle \\log{\\left(\\frac{a}{x} \\right)}$"
          },
          "metadata": {},
          "execution_count": 5
        }
      ]
    },
    {
      "cell_type": "code",
      "source": [
        "solve(f.diff(x),x)"
      ],
      "metadata": {
        "colab": {
          "base_uri": "https://localhost:8080/"
        },
        "id": "-UVPQ0P0pV55",
        "outputId": "dd7f0141-9b4c-48d7-81d9-8513a39a73aa"
      },
      "execution_count": 6,
      "outputs": [
        {
          "output_type": "execute_result",
          "data": {
            "text/plain": [
              "[a]"
            ]
          },
          "metadata": {},
          "execution_count": 6
        }
      ]
    },
    {
      "cell_type": "code",
      "source": [
        "f.subs(x,2)"
      ],
      "metadata": {
        "colab": {
          "base_uri": "https://localhost:8080/",
          "height": 48
        },
        "id": "lK9gHKlRpbms",
        "outputId": "370ff86e-d0f2-4dab-8d5d-e1df71643f96"
      },
      "execution_count": 9,
      "outputs": [
        {
          "output_type": "execute_result",
          "data": {
            "text/plain": [
              "a*log(a/2) - a + 2"
            ],
            "text/latex": "$\\displaystyle a \\log{\\left(\\frac{a}{2} \\right)} - a + 2$"
          },
          "metadata": {},
          "execution_count": 9
        }
      ]
    },
    {
      "cell_type": "code",
      "source": [],
      "metadata": {
        "id": "ZW2qyaFPpjQz"
      },
      "execution_count": null,
      "outputs": []
    }
  ]
}