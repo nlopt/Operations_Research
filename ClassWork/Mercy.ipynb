{
  "nbformat": 4,
  "nbformat_minor": 0,
  "metadata": {
    "colab": {
      "provenance": [],
      "authorship_tag": "ABX9TyPLrMLyvyDZWI41+zt+naBv",
      "include_colab_link": true
    },
    "kernelspec": {
      "name": "python3",
      "display_name": "Python 3"
    },
    "language_info": {
      "name": "python"
    }
  },
  "cells": [
    {
      "cell_type": "markdown",
      "metadata": {
        "id": "view-in-github",
        "colab_type": "text"
      },
      "source": [
        "<a href=\"https://colab.research.google.com/github/nurfnick/Operations_Research/blob/main/Mercy.ipynb\" target=\"_parent\"><img src=\"https://colab.research.google.com/assets/colab-badge.svg\" alt=\"Open In Colab\"/></a>"
      ]
    },
    {
      "cell_type": "code",
      "execution_count": 6,
      "metadata": {
        "id": "IUhFyfPi_bum"
      },
      "outputs": [],
      "source": [
        "from sympy import *\n",
        "\n",
        "x,a,b = symbols('x,a,b')"
      ]
    },
    {
      "cell_type": "code",
      "source": [
        "A = x*sqrt(a**2-x**2)+x*sqrt(b**2-x**2)\n",
        "\n",
        "A"
      ],
      "metadata": {
        "colab": {
          "base_uri": "https://localhost:8080/",
          "height": 41
        },
        "id": "3VP7519G_iHq",
        "outputId": "fe389226-ebcc-4b95-c662-810ca3fdb43a"
      },
      "execution_count": 7,
      "outputs": [
        {
          "output_type": "execute_result",
          "data": {
            "text/plain": [
              "x*sqrt(a**2 - x**2) + x*sqrt(b**2 - x**2)"
            ],
            "text/latex": "$\\displaystyle x \\sqrt{a^{2} - x^{2}} + x \\sqrt{b^{2} - x^{2}}$"
          },
          "metadata": {},
          "execution_count": 7
        }
      ]
    },
    {
      "cell_type": "code",
      "source": [
        "A.diff(x)"
      ],
      "metadata": {
        "colab": {
          "base_uri": "https://localhost:8080/",
          "height": 58
        },
        "id": "bBddE2gz_v05",
        "outputId": "6be36762-0bac-4ae7-9c4c-ef8fe233179f"
      },
      "execution_count": 8,
      "outputs": [
        {
          "output_type": "execute_result",
          "data": {
            "text/plain": [
              "-x**2/sqrt(b**2 - x**2) - x**2/sqrt(a**2 - x**2) + sqrt(a**2 - x**2) + sqrt(b**2 - x**2)"
            ],
            "text/latex": "$\\displaystyle - \\frac{x^{2}}{\\sqrt{b^{2} - x^{2}}} - \\frac{x^{2}}{\\sqrt{a^{2} - x^{2}}} + \\sqrt{a^{2} - x^{2}} + \\sqrt{b^{2} - x^{2}}$"
          },
          "metadata": {},
          "execution_count": 8
        }
      ]
    },
    {
      "cell_type": "code",
      "source": [
        "solve(A.diff(x),x)"
      ],
      "metadata": {
        "colab": {
          "base_uri": "https://localhost:8080/"
        },
        "id": "UELOmfCL_255",
        "outputId": "f4db8ece-14d1-4625-922d-23db2a0b683b"
      },
      "execution_count": 9,
      "outputs": [
        {
          "output_type": "execute_result",
          "data": {
            "text/plain": [
              "[-a*b*sqrt(1/(a**2 + b**2)), a*b*sqrt(1/(a**2 + b**2))]"
            ]
          },
          "metadata": {},
          "execution_count": 9
        }
      ]
    },
    {
      "cell_type": "code",
      "source": [],
      "metadata": {
        "id": "eMmAhNvJBnDt"
      },
      "execution_count": null,
      "outputs": []
    }
  ]
}