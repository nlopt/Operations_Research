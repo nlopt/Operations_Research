{
  "cells": [
    {
      "cell_type": "markdown",
      "metadata": {
        "id": "view-in-github",
        "colab_type": "text"
      },
      "source": [
        "<a href=\"https://colab.research.google.com/github/nurfnick/Operations_Research/blob/main/Chapters/Chapter02LinearProgramming.ipynb\" target=\"_parent\"><img src=\"https://colab.research.google.com/assets/colab-badge.svg\" alt=\"Open In Colab\"/></a>"
      ]
    },
    {
      "cell_type": "markdown",
      "metadata": {
        "id": "i_4QVqdV96a6"
      },
      "source": [
        "# Linear Programming\n",
        "\n",
        "\n",
        "\n"
      ]
    },
    {
      "cell_type": "markdown",
      "metadata": {
        "id": "woaZjkArTMAh"
      },
      "source": [
        "## Introduction\n",
        "\n",
        "\n",
        "\n",
        "\n"
      ]
    },
    {
      "cell_type": "markdown",
      "metadata": {
        "id": "n0AD_VXnYiKq"
      },
      "source": [
        "A local pillow company designs pillows especially for pregnant and nursing mothers.  There are two pillows that they produce referred here as large and small.  The large pillow requires six yards of fabric, one hour of sewing and eleven pounds of fill.  The small pillow requires seven yards of fabric, three hours of sewing and four pounds of fill.\n",
        "\n",
        "The manager, trying to keep all of this straight creates a table.\n",
        "\n",
        "|Pillow|Fabric|Sewing|Fill|\n",
        "|:------:|:------:|:------:|:----:|\n",
        "|Large |6     |1     |11   |\n",
        "|Small |7     |3     |4   |\n",
        "\n",
        "The manager being an astute business man, wants to limit inventory and labor.  Each week they can source 1370 yards of fabric and 1540 pounds of fill.  With a work crew that can do at most 540 hours of labour each week.  He adds this information to his table feeling very satisfied.\n",
        "\n",
        "|Pillow|Fabric|Sewing|Fill|\n",
        "|:------:|:------:|:------:|:----:|\n",
        "|Large |6     |1     |11   |\n",
        "|Small |7     |3     |4   |\n",
        "|Weekly Max| 1370|540|1540|\n",
        "\n",
        "Using some hueristics, the manager cranks out some pillows of each type every week.  One day an intrept intern asks, \"Are we maximizing our profit?\"  The large pillow sells for a $\\$ $3 profit, while the small pillow sells for a $\\$ $2 profit.  The intern adds this to the table but still does not know if they are maximizing profit.\n",
        "\n",
        "|Pillow|Fabric|Sewing|Fill|Profit|\n",
        "|:------:|:------:|:------:|:----:|:---:|\n",
        "|Large |6     |1     |11   |3\n",
        "|Small |7     |3     |4   |2\n",
        "|Weekly Max| 1370|540|1540|???\n",
        "\n",
        "The intern continues down this line of thought and comes up with a way to maximize the number of pillows produced.  They let $x$ be the number of large pillows and $y$ be the number of small pillows.  They create a system of inequalities:\n",
        "\n",
        "$$\n",
        "\\left\\{\n",
        "\\begin{array}{l}\n",
        "6x+7y\\leq 1370\\\\\n",
        "x+3y\\leq 540\\\\\n",
        "11x+4y\\leq 1540\n",
        "\\end{array}\n",
        "\\right.\n",
        "$$\n",
        "\n",
        "To graph this properly, we'll find the corner points."
      ]
    },
    {
      "cell_type": "code",
      "execution_count": 1,
      "metadata": {
        "colab": {
          "base_uri": "https://localhost:8080/"
        },
        "id": "X39A7NEyRKdt",
        "outputId": "41343264-65ac-4981-f0f1-f125cacf9a95"
      },
      "outputs": [
        {
          "output_type": "execute_result",
          "data": {
            "text/plain": [
              "array([ 30., 170.])"
            ]
          },
          "metadata": {},
          "execution_count": 1
        }
      ],
      "source": [
        "import numpy as np\n",
        "\n",
        "A = np.array([[6,7],[1,3],[11,4]])\n",
        "b = np.array([1370,540,1540])\n",
        "\n",
        "np.linalg.solve(A[0:2,:],b[0:2])"
      ]
    },
    {
      "cell_type": "code",
      "execution_count": 2,
      "metadata": {
        "colab": {
          "base_uri": "https://localhost:8080/"
        },
        "id": "p3YIV4RTU-_R",
        "outputId": "32cf5665-ad23-4e11-90bd-ec3b6256864b"
      },
      "outputs": [
        {
          "output_type": "execute_result",
          "data": {
            "text/plain": [
              "array([ 84.82758621, 151.72413793])"
            ]
          },
          "metadata": {},
          "execution_count": 2
        }
      ],
      "source": [
        "np.linalg.solve(A[1:3,:],b[1:3])"
      ]
    },
    {
      "cell_type": "code",
      "execution_count": 3,
      "metadata": {
        "colab": {
          "base_uri": "https://localhost:8080/"
        },
        "id": "VBS_jjUCVDKJ",
        "outputId": "c5ed797f-ff1c-4164-984f-10f1cad42588"
      },
      "outputs": [
        {
          "output_type": "execute_result",
          "data": {
            "text/plain": [
              "array([100., 110.])"
            ]
          },
          "metadata": {},
          "execution_count": 3
        }
      ],
      "source": [
        "np.linalg.solve(A[[0,2],:],b[[0,2]])"
      ]
    },
    {
      "cell_type": "markdown",
      "metadata": {
        "id": "0GbUkHE99XEH"
      },
      "source": [
        "Three lines will have three intersections $\\binom32=3$ We note that the intersection point of the first line and the third line is outside of the feasible region by the second line.  A graph of the feasible set is provided below."
      ]
    },
    {
      "cell_type": "code",
      "execution_count": 4,
      "metadata": {
        "colab": {
          "base_uri": "https://localhost:8080/",
          "height": 448
        },
        "id": "KhIcgYdm7VO_",
        "outputId": "f840b4bb-2d04-4610-9a80-ceb4f22e8d3c"
      },
      "outputs": [
        {
          "output_type": "execute_result",
          "data": {
            "text/plain": [
              "<matplotlib.collections.PolyCollection at 0x7d5898116bc0>"
            ]
          },
          "metadata": {},
          "execution_count": 4
        },
        {
          "output_type": "display_data",
          "data": {
            "text/plain": [
              "<Figure size 640x480 with 1 Axes>"
            ],
            "image/png": "[encoded data removed]"
          },
          "metadata": {}
        }
      ],
      "source": [
        "import matplotlib.pyplot as plt\n",
        "\n",
        "x1= np.arange(0,30,.1)\n",
        "x2= np.arange(30,100,.1)\n",
        "x3 = np.arange(100,140,.1)\n",
        "\n",
        "\n",
        "y1 = (540-1*x1)/3\n",
        "y2 = (1370-6*x2)/7\n",
        "y3 = (1540-11*x3)/4\n",
        "\n",
        "plt.plot(x1,y1, color = \"black\")\n",
        "plt.plot(x2,y2, color = \"black\")\n",
        "plt.plot(x3,y3, color = \"black\")\n",
        "plt.plot(x1,np.zeros(300),x2,np.zeros(700),x3,np.zeros(400), color = \"black\")\n",
        "plt.plot(np.zeros(1800),np.arange(0,180,.1),color = \"black\")\n",
        "plt.scatter(30,170, s = 100, color = \"black\")\n",
        "plt.scatter(100,110, s = 100, color = \"black\")\n",
        "plt.scatter(0,180, s = 100, color = \"black\")\n",
        "plt.scatter(140,0, s = 100, color = \"black\")\n",
        "plt.scatter(0,180, s = 100, color = \"black\")\n",
        "plt.scatter(0,0, s = 100, color = \"black\")\n",
        "plt.fill_between(x1,0,y1, color = \"yellow\")\n",
        "plt.fill_between(x2,0,y2, color = \"yellow\")\n",
        "plt.fill_between(x3,0,y3, color = \"yellow\")"
      ]
    },
    {
      "cell_type": "markdown",
      "metadata": {
        "id": "WSMdjBZs-Yeq"
      },
      "source": [
        "We should also note that there are corner points at the intersection of the vertical line $x = 0$ and the horizontal line $y=0$ including where those two lines intersect.  The $y$-intercept is found by solving for $y$ in the sewing equation when $x=0$.  The $x$-intercept is found by solving for $y$ in the fill equation when $y=0$."
      ]
    },
    {
      "cell_type": "markdown",
      "metadata": {
        "id": "Y_lVo6Lt-CV6"
      },
      "source": [
        "So the intern now knows that any point inside this region is what is possible in any given week!  Now we ask, how to maximize the profit?  Let's get an equation in terms of our set up!\n",
        "\n",
        "$$\n",
        "P= 3x+2y\n",
        "$$\n",
        "\n",
        "We can pick some values for $P$ and see what happens.  "
      ]
    },
    {
      "cell_type": "code",
      "execution_count": 5,
      "metadata": {
        "colab": {
          "base_uri": "https://localhost:8080/",
          "height": 433
        },
        "id": "612nWb9T_MxL",
        "outputId": "eac94206-462e-4420-cfef-e4a24954eb81"
      },
      "outputs": [
        {
          "output_type": "display_data",
          "data": {
            "text/plain": [
              "<Figure size 640x480 with 1 Axes>"
            ],
            "image/png": "[encoded data removed]"
          },
          "metadata": {}
        }
      ],
      "source": [
        "x1= np.arange(0,30,.1)\n",
        "x2= np.arange(30,100,.1)\n",
        "x3 = np.arange(100,140,.1)\n",
        "x4 = np.arange(0,70,.1)\n",
        "x5 = np.arange(0,100,.1)\n",
        "x6 = np.arange(0,130,.1)\n",
        "x7 = np.arange(0,160,.1)\n",
        "\n",
        "y1 = (540-1*x1)/3\n",
        "y2 = (1370-6*x2)/7\n",
        "y3 = (1540-11*x3)/4\n",
        "\n",
        "plt.plot(x1,y1, color = \"black\")\n",
        "plt.plot(x2,y2, color = \"black\")\n",
        "plt.plot(x3,y3, color = \"black\")\n",
        "plt.plot(x1,np.zeros(300),x2,np.zeros(700),x3,np.zeros(400), color = \"black\")\n",
        "plt.plot(np.zeros(1800),np.arange(0,180,.1),color = \"black\")\n",
        "plt.scatter(30,170, s = 100, color = \"black\")\n",
        "plt.scatter(100,110, s = 100, color = \"black\")\n",
        "plt.scatter(0,180, s = 100, color = \"black\")\n",
        "plt.scatter(140,0, s = 100, color = \"black\")\n",
        "plt.scatter(0,180, s = 100, color = \"black\")\n",
        "plt.scatter(0,0, s = 100, color = \"black\")\n",
        "plt.fill_between(x1,0,y1, color = \"yellow\")\n",
        "plt.fill_between(x2,0,y2, color = \"yellow\")\n",
        "plt.fill_between(x3,0,y3, color = \"yellow\")\n",
        "\n",
        "plt.plot(x4,(210-3*x4)/2,linestyle = \"dashed\", label = \"210\")\n",
        "plt.plot(x5,(300-3*x5)/2,linestyle = \"dashed\", label = \"300\")\n",
        "plt.plot(x6,(390-3*x6)/2,linestyle = \"dashed\", label = \"390\")\n",
        "plt.plot(x7,(480-3*x7)/2,linestyle = \"dashed\", label = \"480\")\n",
        "plt.legend()\n",
        "plt.show()\n"
      ]
    },
    {
      "cell_type": "markdown",
      "metadata": {
        "id": "RAF7lkyDAdIe"
      },
      "source": [
        "We can see that for each of the $P$ values I selected there are some options for the day.  We should also notice that the corner point looks like it will produce a line that just touches it!\n",
        "\n",
        "$$\n",
        "P = 3x + 2y = 3\\cdot100+2\\cdot110 = 520\n",
        "$$\n",
        "\n",
        "We'll graph that one and see!"
      ]
    },
    {
      "cell_type": "code",
      "execution_count": 6,
      "metadata": {
        "colab": {
          "base_uri": "https://localhost:8080/",
          "height": 430
        },
        "id": "H5LYHizLCoyG",
        "outputId": "e7ebe9c2-1eff-45d1-8656-eec157fa964f"
      },
      "outputs": [
        {
          "output_type": "display_data",
          "data": {
            "text/plain": [
              "<Figure size 640x480 with 1 Axes>"
            ],
            "image/png": "[encoded data removed]"
          },
          "metadata": {}
        }
      ],
      "source": [
        "x1= np.arange(0,30,.1)\n",
        "x2= np.arange(30,100,.1)\n",
        "x3 = np.arange(100,140,.1)\n",
        "x4 = np.arange(0,70,.1)\n",
        "x5 = np.arange(0,100,.1)\n",
        "x6 = np.arange(0,130,.1)\n",
        "x7 = np.arange(0,160,.1)\n",
        "\n",
        "y1 = (540-1*x1)/3\n",
        "y2 = (1370-6*x2)/7\n",
        "y3 = (1540-11*x3)/4\n",
        "\n",
        "plt.plot(x1,y1, color = \"black\")\n",
        "plt.plot(x2,y2, color = \"black\")\n",
        "plt.plot(x3,y3, color = \"black\")\n",
        "plt.plot(x1,np.zeros(300),x2,np.zeros(700),x3,np.zeros(400), color = \"black\")\n",
        "plt.plot(np.zeros(1800),np.arange(0,180,.1),color = \"black\")\n",
        "plt.scatter(30,170, s = 100, color = \"black\")\n",
        "plt.scatter(100,110, s = 100, color = \"black\")\n",
        "plt.scatter(0,180, s = 100, color = \"black\")\n",
        "plt.scatter(140,0, s = 100, color = \"black\")\n",
        "plt.scatter(0,180, s = 100, color = \"black\")\n",
        "plt.scatter(0,0, s = 100, color = \"black\")\n",
        "plt.fill_between(x1,0,y1, color = \"yellow\")\n",
        "plt.fill_between(x2,0,y2, color = \"yellow\")\n",
        "plt.fill_between(x3,0,y3, color = \"yellow\")\n",
        "\n",
        "\n",
        "plt.plot(x7,(520-3*x7)/2,linestyle = \"dashed\", label = \"520\")\n",
        "plt.legend()\n",
        "plt.show()"
      ]
    },
    {
      "cell_type": "markdown",
      "metadata": {
        "id": "9oQYb5KwC4Xg"
      },
      "source": [
        "Triuphantly the intern tells the boss that we can maximize profits by making 100 large pillows and 110 small pillows!"
      ]
    },
    {
      "cell_type": "markdown",
      "metadata": {
        "id": "DVKCnmI8UBTG"
      },
      "source": [
        "## Theory"
      ]
    },
    {
      "cell_type": "markdown",
      "metadata": {
        "id": "5GgWvxZMYjTU"
      },
      "source": [
        "The theory of linear programming can be stated in terms of the contraints and the objective function.  For a system of linear constraints and linear objective functions, the optimum values (minimum or maximum) will occur on the corner points of the feasible set described by the contraining function.\n",
        "\n",
        "If we consider that the feasible set of the constraining lines, it will create a polygon with sharp corners.  The linear objective function will cut through the polygon.  Any optimum point will be at one of the corners as the objective function just kisses the edge.\n",
        "\n",
        "Some care must be taken for unbounded feasible sets, an optimum solution may not be possible with the maximum (or minimum) going to infinity (negative infinity)."
      ]
    },
    {
      "cell_type": "markdown",
      "metadata": {
        "id": "e50CvtqOIkNT"
      },
      "source": [
        "### Slack"
      ]
    },
    {
      "cell_type": "markdown",
      "metadata": {
        "id": "1HE6EFgYDLBg"
      },
      "source": [
        "All of the inequalities in the constraint must be met but some will not be on their strict bounds.  This leaves **slack** in those inequalities.  Using our original problem as an example, we see that the sewing equation has some slack.  We could have done more sewing with the maximum profit $(100,110)$.\n",
        "\n",
        "$$\n",
        "x+3y = 100 +330 = 430\\leq 540\n",
        "$$\n",
        "\n",
        "The inequality is solved but 100 more hours of sewing are available each week.  This is slack in our solution.  "
      ]
    },
    {
      "cell_type": "markdown",
      "metadata": {
        "id": "qgqZjyObIljw"
      },
      "source": [
        "The previous problem can actually be restated in terms of slack with the inequalities replaced with equalities.  \n",
        "\n",
        "$$\n",
        "\\left\\{\n",
        "\\begin{array}{l}\n",
        "6x+7y+s_1 =  1370\\\\\n",
        "x+3y +s_2 = 540\\\\\n",
        "11x+4y+ s_3 =  1540\n",
        "\\end{array}\n",
        "\\right.\n",
        "$$\n",
        "\n",
        "In the optimum solution $s_2=110$ and $s_1=s_3=0$.  For the inequalities to continue to hold we must ask that $s_1,s_2,s_3\\geq 0$.\n",
        "\n",
        "Actually this insight gives us an alternative approach to solve linear programming problems.  If we restate the contraint in equation form with slack variables, we can formulate the theory as solutions to the system of equations with some of the slack variables set to zero.  Let's see that in action here.\n",
        "\n",
        "Since I have three equations, I'll be able to get a unique solution if I have three variables.  Currently I have 5, $x,y,s_1,s_2,s_3$.  If we set two of them equal to zero then we will be able to solve the system!\n",
        "\n"
      ]
    },
    {
      "cell_type": "code",
      "execution_count": 7,
      "metadata": {
        "colab": {
          "base_uri": "https://localhost:8080/",
          "height": 435
        },
        "id": "S4GhhdUyLt1P",
        "outputId": "b56e14f7-6dfe-41f6-c700-b6770e56a612"
      },
      "outputs": [
        {
          "output_type": "display_data",
          "data": {
            "text/plain": [
              "<Figure size 640x480 with 1 Axes>"
            ],
            "image/png": "[encoded data removed]"
          },
          "metadata": {}
        }
      ],
      "source": [
        "\n",
        "x = np.arange(0,550,.1)\n",
        "\n",
        "y1 = (540-1*x)/3\n",
        "y2 = (1370-6*x)/7\n",
        "y3 = (1540-11*x)/4\n",
        "\n",
        "plt.plot(x,y1, color = \"black\")\n",
        "plt.plot(x,y2, color = \"black\")\n",
        "plt.plot(x,y3, color = \"black\")\n",
        "plt.plot(x,np.zeros(5500), color = \"black\")\n",
        "plt.plot(np.zeros(5500),x, color = \"black\")\n",
        "plt.scatter(30,170, s = 100, color = \"black\")\n",
        "plt.scatter(100,110, s = 100, color = \"blue\")\n",
        "plt.scatter(140,0, s = 100, color = \"yellow\")\n",
        "plt.scatter(0,180, s = 100, color = \"orange\")\n",
        "plt.scatter(0,195.7, s = 100, color = \"pink\")\n",
        "plt.xlim([-1,550])\n",
        "plt.ylim([-1,400])\n",
        "\n",
        "\n",
        "plt.show()"
      ]
    },
    {
      "cell_type": "markdown",
      "metadata": {
        "id": "oz4uAcafLsnF"
      },
      "source": [
        "1. $x=y=0$ This is the orgin in my graph, each slack is it's value and we achieve no profit, $P = \\$0$\n",
        "2. $x = s_1 = 0$ This is the *pink* point that falls outside of the feasible set.\n",
        "3. $x= s_2 = 0$ This is the *orange* point falling inside the feasible set with a profit of $P = 180*2 = \\$360$\n",
        "4. $x = s_3 =0$\n",
        "5. $y = s_1 = 0$\n",
        "6. $y = s_2 = 0$\n",
        "7. $y = s_3 = 0$\n",
        "8. $s_1 = s_2 = 0$\n",
        "9. $s_1 = s_3 = 0$ This was the optimal *blue* point\n",
        "10. $s_2 = s_3 =0$ Intersection of lines outside the feasible set"
      ]
    },
    {
      "cell_type": "markdown",
      "metadata": {
        "id": "mgFjpaYlC50T"
      },
      "source": [
        "How do we know we got them all?  We had 5 variables $(x,y,s_1,s_2,s_3)$ and were trying to solve 3 equations.  So we were able to have $\\binom 52 = \\binom 53 =10$.  Let's write up a little program that evaluates each of these for us!"
      ]
    },
    {
      "cell_type": "markdown",
      "metadata": {
        "id": "NLphZsTwF9m6"
      },
      "source": [
        "Before we proceed, we should ask is there a quick way to tell if an intersection is outside of the feasible set.  Let's look at the *pink* point.  It has $x = s_1 = 0$  Let's ask python to solve that.\n",
        "\n",
        "I'll need to expand $A$ to include the slack variables.  Just remeber there will be a lot of zeros!  If I don't need $x$ and $s_1$, I'll only need the $y, s_2,$ and $s_3$ variables."
      ]
    },
    {
      "cell_type": "code",
      "execution_count": 8,
      "metadata": {
        "colab": {
          "base_uri": "https://localhost:8080/"
        },
        "id": "ejImnJw0GS0Y",
        "outputId": "e8b2be9f-1d7c-4774-85fa-c0c8999fd3cf"
      },
      "outputs": [
        {
          "output_type": "execute_result",
          "data": {
            "text/plain": [
              "array([[7, 0, 0],\n",
              "       [3, 1, 0],\n",
              "       [4, 0, 1]])"
            ]
          },
          "metadata": {},
          "execution_count": 8
        }
      ],
      "source": [
        "A = np.array([[6,7,1,0,0],[1,3,0,1,0],[11,4,0,0,1]])\n",
        "\n",
        "A[:,[1,3,4]]\n"
      ]
    },
    {
      "cell_type": "markdown",
      "metadata": {
        "id": "ycwo-MTfG9ln"
      },
      "source": [
        "Now I solve it with the original $b$."
      ]
    },
    {
      "cell_type": "code",
      "execution_count": 9,
      "metadata": {
        "colab": {
          "base_uri": "https://localhost:8080/"
        },
        "id": "PIQj63u8HCdH",
        "outputId": "9d2679cb-d982-4995-acf6-7145fa276090"
      },
      "outputs": [
        {
          "output_type": "execute_result",
          "data": {
            "text/plain": [
              "array([195.71428571, -47.14285714, 757.14285714])"
            ]
          },
          "metadata": {},
          "execution_count": 9
        }
      ],
      "source": [
        "np.linalg.solve(A[:,[1,3,4]],b)"
      ]
    },
    {
      "cell_type": "markdown",
      "metadata": {
        "id": "-I2-mbmWHJc_"
      },
      "source": [
        "The issue is that the second slack variable $s_2$ is negative!  The slack is about how much extra we have, if we don't have extra but used too much, we'll get negatives and that is not allowed.  Let's write a little code to reassemble our variables."
      ]
    },
    {
      "cell_type": "code",
      "execution_count": 10,
      "metadata": {
        "colab": {
          "base_uri": "https://localhost:8080/"
        },
        "id": "4N1kN-GGHnNW",
        "outputId": "3e09d072-8fee-4315-def4-d31d177548b8"
      },
      "outputs": [
        {
          "output_type": "execute_result",
          "data": {
            "text/plain": [
              "[0, 195.71428571428572, 0, -47.14285714285711, 757.1428571428572]"
            ]
          },
          "metadata": {},
          "execution_count": 10
        }
      ],
      "source": [
        "def buildFullList(indexref,solution):\n",
        "  newlist =[]\n",
        "  solutioncounter = 0\n",
        "  for j in range(5):\n",
        "    if j not in indexref:\n",
        "      newlist.append(0)\n",
        "    else:\n",
        "      newlist.append(solution[solutioncounter])\n",
        "      solutioncounter += 1\n",
        "  return newlist\n",
        "\n",
        "indexref = [1,3,4]\n",
        "solution = np.linalg.solve(A[:,[1,3,4]],b)\n",
        "\n",
        "allVariables = buildFullList(indexref,solution)\n",
        "\n",
        "allVariables"
      ]
    },
    {
      "cell_type": "markdown",
      "metadata": {
        "id": "DAA8uCw0H-Ix"
      },
      "source": [
        "Now I want to check for negatives!"
      ]
    },
    {
      "cell_type": "code",
      "execution_count": 11,
      "metadata": {
        "colab": {
          "base_uri": "https://localhost:8080/"
        },
        "id": "8G3-QYxHIDSu",
        "outputId": "135b3f54-a106-4ad0-f9b4-c87472d5dd01"
      },
      "outputs": [
        {
          "output_type": "execute_result",
          "data": {
            "text/plain": [
              "False"
            ]
          },
          "metadata": {},
          "execution_count": 11
        }
      ],
      "source": [
        "def testForFeasible(list1):\n",
        "  return all([i>=0 for i in list1])\n",
        "\n",
        "testForFeasible(allVariables)"
      ]
    },
    {
      "cell_type": "markdown",
      "metadata": {
        "id": "SlPDjpMHINJ-"
      },
      "source": [
        "We see this is not in the feasible set.  Let's do one more thing and compute the profit from this list.  I know this isn't possible but we'll need this function soon!"
      ]
    },
    {
      "cell_type": "code",
      "execution_count": 12,
      "metadata": {
        "colab": {
          "base_uri": "https://localhost:8080/"
        },
        "id": "oPzLj7UXFIiz",
        "outputId": "a22bf56d-12bd-447a-9937-43de596d6f41"
      },
      "outputs": [
        {
          "output_type": "execute_result",
          "data": {
            "text/plain": [
              "391.42857142857144"
            ]
          },
          "metadata": {},
          "execution_count": 12
        }
      ],
      "source": [
        "def profit(list):\n",
        "  return 3*list[0]+2*list[1]\n",
        "\n",
        "profit(allVariables)"
      ]
    },
    {
      "cell_type": "markdown",
      "metadata": {
        "id": "glBnuofFIf2W"
      },
      "source": [
        "Now I am going to put it all together and build a little table that looks at all 10 points in the order I presented them above."
      ]
    },
    {
      "cell_type": "code",
      "execution_count": 13,
      "metadata": {
        "id": "c73gmZSGDqfa"
      },
      "outputs": [],
      "source": [
        "index = [[i,j,k] for i in range(5) for j in range(i+1,5) for k in range(j+1,5)] #which variables are not zero\n",
        "d = {0:'large',1:'small',2:'slackFabric',3:'slackSewing',4:'slackfill'} #dictionary for keeping variable labels straight\n",
        "\n",
        "X = []\n",
        "for i in index:\n",
        "  solution = [round(i,5) for i in np.linalg.solve(A[:,i],b)]\n",
        "  list1 = buildFullList(i,solution)\n",
        "  X.append([(d[i[0]],d[i[1]],d[i[2]]),solution,profit(list1),testForFeasible(list1)])"
      ]
    },
    {
      "cell_type": "markdown",
      "metadata": {
        "id": "9vMZl4T-KEIp"
      },
      "source": [
        "I'll print the data in a nice table with headers"
      ]
    },
    {
      "cell_type": "code",
      "execution_count": 14,
      "metadata": {
        "colab": {
          "base_uri": "https://localhost:8080/",
          "height": 363
        },
        "id": "9__JVex1J_lW",
        "outputId": "abce4479-f727-4c9c-bf7b-f8beeba80d00"
      },
      "outputs": [
        {
          "output_type": "execute_result",
          "data": {
            "text/plain": [
              "                          Variables Used                            Solution  \\\n",
              "0            (large, small, slackFabric)   [84.82759, 151.72414, -201.03448]   \n",
              "1            (large, small, slackSewing)               [100.0, 110.0, 110.0]   \n",
              "2              (large, small, slackfill)                [30.0, 170.0, 530.0]   \n",
              "3      (large, slackFabric, slackSewing)               [140.0, 530.0, 400.0]   \n",
              "4        (large, slackFabric, slackfill)           [540.0, -1870.0, -4400.0]   \n",
              "5        (large, slackSewing, slackfill)  [228.33333, 311.66667, -971.66667]   \n",
              "6      (small, slackFabric, slackSewing)            [385.0, -1325.0, -615.0]   \n",
              "7        (small, slackFabric, slackfill)               [180.0, 110.0, 820.0]   \n",
              "8        (small, slackSewing, slackfill)   [195.71429, -47.14286, 757.14286]   \n",
              "9  (slackFabric, slackSewing, slackfill)             [1370.0, 540.0, 1540.0]   \n",
              "\n",
              "       Profit  In Feasible  \n",
              "0   557.93105        False  \n",
              "1   520.00000         True  \n",
              "2   430.00000         True  \n",
              "3   420.00000         True  \n",
              "4  1620.00000        False  \n",
              "5   684.99999        False  \n",
              "6   770.00000        False  \n",
              "7   360.00000         True  \n",
              "8   391.42858        False  \n",
              "9     0.00000         True  "
            ],
            "text/html": [
              "\n",
              "  <div id=\"df-70da7078-a75b-4c50-8325-79b11fe936cb\" class=\"colab-df-container\">\n",
              "    <div>\n",
              "<style scoped>\n",
              "    .dataframe tbody tr th:only-of-type {\n",
              "        vertical-align: middle;\n",
              "    }\n",
              "\n",
              "    .dataframe tbody tr th {\n",
              "        vertical-align: top;\n",
              "    }\n",
              "\n",
              "    .dataframe thead th {\n",
              "        text-align: right;\n",
              "    }\n",
              "</style>\n",
              "<table border=\"1\" class=\"dataframe\">\n",
              "  <thead>\n",
              "    <tr style=\"text-align: right;\">\n",
              "      <th></th>\n",
              "      <th>Variables Used</th>\n",
              "      <th>Solution</th>\n",
              "      <th>Profit</th>\n",
              "      <th>In Feasible</th>\n",
              "    </tr>\n",
              "  </thead>\n",
              "  <tbody>\n",
              "    <tr>\n",
              "      <th>0</th>\n",
              "      <td>(large, small, slackFabric)</td>\n",
              "      <td>[84.82759, 151.72414, -201.03448]</td>\n",
              "      <td>557.93105</td>\n",
              "      <td>False</td>\n",
              "    </tr>\n",
              "    <tr>\n",
              "      <th>1</th>\n",
              "      <td>(large, small, slackSewing)</td>\n",
              "      <td>[100.0, 110.0, 110.0]</td>\n",
              "      <td>520.00000</td>\n",
              "      <td>True</td>\n",
              "    </tr>\n",
              "    <tr>\n",
              "      <th>2</th>\n",
              "      <td>(large, small, slackfill)</td>\n",
              "      <td>[30.0, 170.0, 530.0]</td>\n",
              "      <td>430.00000</td>\n",
              "      <td>True</td>\n",
              "    </tr>\n",
              "    <tr>\n",
              "      <th>3</th>\n",
              "      <td>(large, slackFabric, slackSewing)</td>\n",
              "      <td>[140.0, 530.0, 400.0]</td>\n",
              "      <td>420.00000</td>\n",
              "      <td>True</td>\n",
              "    </tr>\n",
              "    <tr>\n",
              "      <th>4</th>\n",
              "      <td>(large, slackFabric, slackfill)</td>\n",
              "      <td>[540.0, -1870.0, -4400.0]</td>\n",
              "      <td>1620.00000</td>\n",
              "      <td>False</td>\n",
              "    </tr>\n",
              "    <tr>\n",
              "      <th>5</th>\n",
              "      <td>(large, slackSewing, slackfill)</td>\n",
              "      <td>[228.33333, 311.66667, -971.66667]</td>\n",
              "      <td>684.99999</td>\n",
              "      <td>False</td>\n",
              "    </tr>\n",
              "    <tr>\n",
              "      <th>6</th>\n",
              "      <td>(small, slackFabric, slackSewing)</td>\n",
              "      <td>[385.0, -1325.0, -615.0]</td>\n",
              "      <td>770.00000</td>\n",
              "      <td>False</td>\n",
              "    </tr>\n",
              "    <tr>\n",
              "      <th>7</th>\n",
              "      <td>(small, slackFabric, slackfill)</td>\n",
              "      <td>[180.0, 110.0, 820.0]</td>\n",
              "      <td>360.00000</td>\n",
              "      <td>True</td>\n",
              "    </tr>\n",
              "    <tr>\n",
              "      <th>8</th>\n",
              "      <td>(small, slackSewing, slackfill)</td>\n",
              "      <td>[195.71429, -47.14286, 757.14286]</td>\n",
              "      <td>391.42858</td>\n",
              "      <td>False</td>\n",
              "    </tr>\n",
              "    <tr>\n",
              "      <th>9</th>\n",
              "      <td>(slackFabric, slackSewing, slackfill)</td>\n",
              "      <td>[1370.0, 540.0, 1540.0]</td>\n",
              "      <td>0.00000</td>\n",
              "      <td>True</td>\n",
              "    </tr>\n",
              "  </tbody>\n",
              "</table>\n",
              "</div>\n",
              "    <div class=\"colab-df-buttons\">\n",
              "\n",
              "  <div class=\"colab-df-container\">\n",
              "    <button class=\"colab-df-convert\" onclick=\"convertToInteractive('df-70da7078-a75b-4c50-8325-79b11fe936cb')\"\n",
              "            title=\"Convert this dataframe to an interactive table.\"\n",
              "            style=\"display:none;\">\n",
              "\n",
              "  <svg xmlns=\"http://www.w3.org/2000/svg\" height=\"24px\" viewBox=\"0 -960 960 960\">\n",
              "    <path d=\"M120-120v-720h720v720H120Zm60-500h600v-160H180v160Zm220 220h160v-160H400v160Zm0 220h160v-160H400v160ZM180-400h160v-160H180v160Zm440 0h160v-160H620v160ZM180-180h160v-160H180v160Zm440 0h160v-160H620v160Z\"/>\n",
              "  </svg>\n",
              "    </button>\n",
              "\n",
              "  <style>\n",
              "    .colab-df-container {\n",
              "      display:flex;\n",
              "      gap: 12px;\n",
              "    }\n",
              "\n",
              "    .colab-df-convert {\n",
              "      background-color: #E8F0FE;\n",
              "      border: none;\n",
              "      border-radius: 50%;\n",
              "      cursor: pointer;\n",
              "      display: none;\n",
              "      fill: #1967D2;\n",
              "      height: 32px;\n",
              "      padding: 0 0 0 0;\n",
              "      width: 32px;\n",
              "    }\n",
              "\n",
              "    .colab-df-convert:hover {\n",
              "      background-color: #E2EBFA;\n",
              "      box-shadow: 0px 1px 2px rgba(60, 64, 67, 0.3), 0px 1px 3px 1px rgba(60, 64, 67, 0.15);\n",
              "      fill: #174EA6;\n",
              "    }\n",
              "\n",
              "    .colab-df-buttons div {\n",
              "      margin-bottom: 4px;\n",
              "    }\n",
              "\n",
              "    [theme=dark] .colab-df-convert {\n",
              "      background-color: #3B4455;\n",
              "      fill: #D2E3FC;\n",
              "    }\n",
              "\n",
              "    [theme=dark] .colab-df-convert:hover {\n",
              "      background-color: #434B5C;\n",
              "      box-shadow: 0px 1px 3px 1px rgba(0, 0, 0, 0.15);\n",
              "      filter: drop-shadow(0px 1px 2px rgba(0, 0, 0, 0.3));\n",
              "      fill: #FFFFFF;\n",
              "    }\n",
              "  </style>\n",
              "\n",
              "    <script>\n",
              "      const buttonEl =\n",
              "        document.querySelector('#df-70da7078-a75b-4c50-8325-79b11fe936cb button.colab-df-convert');\n",
              "      buttonEl.style.display =\n",
              "        google.colab.kernel.accessAllowed ? 'block' : 'none';\n",
              "\n",
              "      async function convertToInteractive(key) {\n",
              "        const element = document.querySelector('#df-70da7078-a75b-4c50-8325-79b11fe936cb');\n",
              "        const dataTable =\n",
              "          await google.colab.kernel.invokeFunction('convertToInteractive',\n",
              "                                                    [key], {});\n",
              "        if (!dataTable) return;\n",
              "\n",
              "        const docLinkHtml = 'Like what you see? Visit the ' +\n",
              "          '<a target=\"_blank\" href=https://colab.research.google.com/notebooks/data_table.ipynb>data table notebook</a>'\n",
              "          + ' to learn more about interactive tables.';\n",
              "        element.innerHTML = '';\n",
              "        dataTable['output_type'] = 'display_data';\n",
              "        await google.colab.output.renderOutput(dataTable, element);\n",
              "        const docLink = document.createElement('div');\n",
              "        docLink.innerHTML = docLinkHtml;\n",
              "        element.appendChild(docLink);\n",
              "      }\n",
              "    </script>\n",
              "  </div>\n",
              "\n",
              "\n",
              "<div id=\"df-dbfa1800-44fd-476f-90ab-c440c0a0e3ff\">\n",
              "  <button class=\"colab-df-quickchart\" onclick=\"quickchart('df-dbfa1800-44fd-476f-90ab-c440c0a0e3ff')\"\n",
              "            title=\"Suggest charts.\"\n",
              "            style=\"display:none;\">\n",
              "\n",
              "<svg xmlns=\"http://www.w3.org/2000/svg\" height=\"24px\"viewBox=\"0 0 24 24\"\n",
              "     width=\"24px\">\n",
              "    <g>\n",
              "        <path d=\"M19 3H5c-1.1 0-2 .9-2 2v14c0 1.1.9 2 2 2h14c1.1 0 2-.9 2-2V5c0-1.1-.9-2-2-2zM9 17H7v-7h2v7zm4 0h-2V7h2v10zm4 0h-2v-4h2v4z\"/>\n",
              "    </g>\n",
              "</svg>\n",
              "  </button>\n",
              "\n",
              "<style>\n",
              "  .colab-df-quickchart {\n",
              "      --bg-color: #E8F0FE;\n",
              "      --fill-color: #1967D2;\n",
              "      --hover-bg-color: #E2EBFA;\n",
              "      --hover-fill-color: #174EA6;\n",
              "      --disabled-fill-color: #AAA;\n",
              "      --disabled-bg-color: #DDD;\n",
              "  }\n",
              "\n",
              "  [theme=dark] .colab-df-quickchart {\n",
              "      --bg-color: #3B4455;\n",
              "      --fill-color: #D2E3FC;\n",
              "      --hover-bg-color: #434B5C;\n",
              "      --hover-fill-color: #FFFFFF;\n",
              "      --disabled-bg-color: #3B4455;\n",
              "      --disabled-fill-color: #666;\n",
              "  }\n",
              "\n",
              "  .colab-df-quickchart {\n",
              "    background-color: var(--bg-color);\n",
              "    border: none;\n",
              "    border-radius: 50%;\n",
              "    cursor: pointer;\n",
              "    display: none;\n",
              "    fill: var(--fill-color);\n",
              "    height: 32px;\n",
              "    padding: 0;\n",
              "    width: 32px;\n",
              "  }\n",
              "\n",
              "  .colab-df-quickchart:hover {\n",
              "    background-color: var(--hover-bg-color);\n",
              "    box-shadow: 0 1px 2px rgba(60, 64, 67, 0.3), 0 1px 3px 1px rgba(60, 64, 67, 0.15);\n",
              "    fill: var(--button-hover-fill-color);\n",
              "  }\n",
              "\n",
              "  .colab-df-quickchart-complete:disabled,\n",
              "  .colab-df-quickchart-complete:disabled:hover {\n",
              "    background-color: var(--disabled-bg-color);\n",
              "    fill: var(--disabled-fill-color);\n",
              "    box-shadow: none;\n",
              "  }\n",
              "\n",
              "  .colab-df-spinner {\n",
              "    border: 2px solid var(--fill-color);\n",
              "    border-color: transparent;\n",
              "    border-bottom-color: var(--fill-color);\n",
              "    animation:\n",
              "      spin 1s steps(1) infinite;\n",
              "  }\n",
              "\n",
              "  @keyframes spin {\n",
              "    0% {\n",
              "      border-color: transparent;\n",
              "      border-bottom-color: var(--fill-color);\n",
              "      border-left-color: var(--fill-color);\n",
              "    }\n",
              "    20% {\n",
              "      border-color: transparent;\n",
              "      border-left-color: var(--fill-color);\n",
              "      border-top-color: var(--fill-color);\n",
              "    }\n",
              "    30% {\n",
              "      border-color: transparent;\n",
              "      border-left-color: var(--fill-color);\n",
              "      border-top-color: var(--fill-color);\n",
              "      border-right-color: var(--fill-color);\n",
              "    }\n",
              "    40% {\n",
              "      border-color: transparent;\n",
              "      border-right-color: var(--fill-color);\n",
              "      border-top-color: var(--fill-color);\n",
              "    }\n",
              "    60% {\n",
              "      border-color: transparent;\n",
              "      border-right-color: var(--fill-color);\n",
              "    }\n",
              "    80% {\n",
              "      border-color: transparent;\n",
              "      border-right-color: var(--fill-color);\n",
              "      border-bottom-color: var(--fill-color);\n",
              "    }\n",
              "    90% {\n",
              "      border-color: transparent;\n",
              "      border-bottom-color: var(--fill-color);\n",
              "    }\n",
              "  }\n",
              "</style>\n",
              "\n",
              "  <script>\n",
              "    async function quickchart(key) {\n",
              "      const quickchartButtonEl =\n",
              "        document.querySelector('#' + key + ' button');\n",
              "      quickchartButtonEl.disabled = true;  // To prevent multiple clicks.\n",
              "      quickchartButtonEl.classList.add('colab-df-spinner');\n",
              "      try {\n",
              "        const charts = await google.colab.kernel.invokeFunction(\n",
              "            'suggestCharts', [key], {});\n",
              "      } catch (error) {\n",
              "        console.error('Error during call to suggestCharts:', error);\n",
              "      }\n",
              "      quickchartButtonEl.classList.remove('colab-df-spinner');\n",
              "      quickchartButtonEl.classList.add('colab-df-quickchart-complete');\n",
              "    }\n",
              "    (() => {\n",
              "      let quickchartButtonEl =\n",
              "        document.querySelector('#df-dbfa1800-44fd-476f-90ab-c440c0a0e3ff button');\n",
              "      quickchartButtonEl.style.display =\n",
              "        google.colab.kernel.accessAllowed ? 'block' : 'none';\n",
              "    })();\n",
              "  </script>\n",
              "</div>\n",
              "    </div>\n",
              "  </div>\n"
            ]
          },
          "metadata": {},
          "execution_count": 14
        }
      ],
      "source": [
        "import pandas as pd\n",
        "\n",
        "X = pd.DataFrame(X,columns = ['Variables Used','Solution','Profit','In Feasible'])\n",
        "X"
      ]
    },
    {
      "cell_type": "markdown",
      "metadata": {
        "id": "K41CpeRpKJPm"
      },
      "source": [
        "Lastly I'll use some manipulation to print the maximum inside the feasible set.  First I restrict to in the feasible set, then I'll search for the maximum entry of profit."
      ]
    },
    {
      "cell_type": "code",
      "execution_count": 15,
      "metadata": {
        "colab": {
          "base_uri": "https://localhost:8080/",
          "height": 206
        },
        "id": "IEkLQYjDKR-M",
        "outputId": "0fe70418-3280-4d1b-d164-cb4a7c4b70d6"
      },
      "outputs": [
        {
          "output_type": "execute_result",
          "data": {
            "text/plain": [
              "                          Variables Used                 Solution  Profit  \\\n",
              "1            (large, small, slackSewing)    [100.0, 110.0, 110.0]   520.0   \n",
              "2              (large, small, slackfill)     [30.0, 170.0, 530.0]   430.0   \n",
              "3      (large, slackFabric, slackSewing)    [140.0, 530.0, 400.0]   420.0   \n",
              "7        (small, slackFabric, slackfill)    [180.0, 110.0, 820.0]   360.0   \n",
              "9  (slackFabric, slackSewing, slackfill)  [1370.0, 540.0, 1540.0]     0.0   \n",
              "\n",
              "   In Feasible  \n",
              "1         True  \n",
              "2         True  \n",
              "3         True  \n",
              "7         True  \n",
              "9         True  "
            ],
            "text/html": [
              "\n",
              "  <div id=\"df-fea25d17-9e16-483d-a9c8-ce4edc3c6e9e\" class=\"colab-df-container\">\n",
              "    <div>\n",
              "<style scoped>\n",
              "    .dataframe tbody tr th:only-of-type {\n",
              "        vertical-align: middle;\n",
              "    }\n",
              "\n",
              "    .dataframe tbody tr th {\n",
              "        vertical-align: top;\n",
              "    }\n",
              "\n",
              "    .dataframe thead th {\n",
              "        text-align: right;\n",
              "    }\n",
              "</style>\n",
              "<table border=\"1\" class=\"dataframe\">\n",
              "  <thead>\n",
              "    <tr style=\"text-align: right;\">\n",
              "      <th></th>\n",
              "      <th>Variables Used</th>\n",
              "      <th>Solution</th>\n",
              "      <th>Profit</th>\n",
              "      <th>In Feasible</th>\n",
              "    </tr>\n",
              "  </thead>\n",
              "  <tbody>\n",
              "    <tr>\n",
              "      <th>1</th>\n",
              "      <td>(large, small, slackSewing)</td>\n",
              "      <td>[100.0, 110.0, 110.0]</td>\n",
              "      <td>520.0</td>\n",
              "      <td>True</td>\n",
              "    </tr>\n",
              "    <tr>\n",
              "      <th>2</th>\n",
              "      <td>(large, small, slackfill)</td>\n",
              "      <td>[30.0, 170.0, 530.0]</td>\n",
              "      <td>430.0</td>\n",
              "      <td>True</td>\n",
              "    </tr>\n",
              "    <tr>\n",
              "      <th>3</th>\n",
              "      <td>(large, slackFabric, slackSewing)</td>\n",
              "      <td>[140.0, 530.0, 400.0]</td>\n",
              "      <td>420.0</td>\n",
              "      <td>True</td>\n",
              "    </tr>\n",
              "    <tr>\n",
              "      <th>7</th>\n",
              "      <td>(small, slackFabric, slackfill)</td>\n",
              "      <td>[180.0, 110.0, 820.0]</td>\n",
              "      <td>360.0</td>\n",
              "      <td>True</td>\n",
              "    </tr>\n",
              "    <tr>\n",
              "      <th>9</th>\n",
              "      <td>(slackFabric, slackSewing, slackfill)</td>\n",
              "      <td>[1370.0, 540.0, 1540.0]</td>\n",
              "      <td>0.0</td>\n",
              "      <td>True</td>\n",
              "    </tr>\n",
              "  </tbody>\n",
              "</table>\n",
              "</div>\n",
              "    <div class=\"colab-df-buttons\">\n",
              "\n",
              "  <div class=\"colab-df-container\">\n",
              "    <button class=\"colab-df-convert\" onclick=\"convertToInteractive('df-fea25d17-9e16-483d-a9c8-ce4edc3c6e9e')\"\n",
              "            title=\"Convert this dataframe to an interactive table.\"\n",
              "            style=\"display:none;\">\n",
              "\n",
              "  <svg xmlns=\"http://www.w3.org/2000/svg\" height=\"24px\" viewBox=\"0 -960 960 960\">\n",
              "    <path d=\"M120-120v-720h720v720H120Zm60-500h600v-160H180v160Zm220 220h160v-160H400v160Zm0 220h160v-160H400v160ZM180-400h160v-160H180v160Zm440 0h160v-160H620v160ZM180-180h160v-160H180v160Zm440 0h160v-160H620v160Z\"/>\n",
              "  </svg>\n",
              "    </button>\n",
              "\n",
              "  <style>\n",
              "    .colab-df-container {\n",
              "      display:flex;\n",
              "      gap: 12px;\n",
              "    }\n",
              "\n",
              "    .colab-df-convert {\n",
              "      background-color: #E8F0FE;\n",
              "      border: none;\n",
              "      border-radius: 50%;\n",
              "      cursor: pointer;\n",
              "      display: none;\n",
              "      fill: #1967D2;\n",
              "      height: 32px;\n",
              "      padding: 0 0 0 0;\n",
              "      width: 32px;\n",
              "    }\n",
              "\n",
              "    .colab-df-convert:hover {\n",
              "      background-color: #E2EBFA;\n",
              "      box-shadow: 0px 1px 2px rgba(60, 64, 67, 0.3), 0px 1px 3px 1px rgba(60, 64, 67, 0.15);\n",
              "      fill: #174EA6;\n",
              "    }\n",
              "\n",
              "    .colab-df-buttons div {\n",
              "      margin-bottom: 4px;\n",
              "    }\n",
              "\n",
              "    [theme=dark] .colab-df-convert {\n",
              "      background-color: #3B4455;\n",
              "      fill: #D2E3FC;\n",
              "    }\n",
              "\n",
              "    [theme=dark] .colab-df-convert:hover {\n",
              "      background-color: #434B5C;\n",
              "      box-shadow: 0px 1px 3px 1px rgba(0, 0, 0, 0.15);\n",
              "      filter: drop-shadow(0px 1px 2px rgba(0, 0, 0, 0.3));\n",
              "      fill: #FFFFFF;\n",
              "    }\n",
              "  </style>\n",
              "\n",
              "    <script>\n",
              "      const buttonEl =\n",
              "        document.querySelector('#df-fea25d17-9e16-483d-a9c8-ce4edc3c6e9e button.colab-df-convert');\n",
              "      buttonEl.style.display =\n",
              "        google.colab.kernel.accessAllowed ? 'block' : 'none';\n",
              "\n",
              "      async function convertToInteractive(key) {\n",
              "        const element = document.querySelector('#df-fea25d17-9e16-483d-a9c8-ce4edc3c6e9e');\n",
              "        const dataTable =\n",
              "          await google.colab.kernel.invokeFunction('convertToInteractive',\n",
              "                                                    [key], {});\n",
              "        if (!dataTable) return;\n",
              "\n",
              "        const docLinkHtml = 'Like what you see? Visit the ' +\n",
              "          '<a target=\"_blank\" href=https://colab.research.google.com/notebooks/data_table.ipynb>data table notebook</a>'\n",
              "          + ' to learn more about interactive tables.';\n",
              "        element.innerHTML = '';\n",
              "        dataTable['output_type'] = 'display_data';\n",
              "        await google.colab.output.renderOutput(dataTable, element);\n",
              "        const docLink = document.createElement('div');\n",
              "        docLink.innerHTML = docLinkHtml;\n",
              "        element.appendChild(docLink);\n",
              "      }\n",
              "    </script>\n",
              "  </div>\n",
              "\n",
              "\n",
              "<div id=\"df-1f45865e-d8b6-4ce9-9651-820fddfbdabb\">\n",
              "  <button class=\"colab-df-quickchart\" onclick=\"quickchart('df-1f45865e-d8b6-4ce9-9651-820fddfbdabb')\"\n",
              "            title=\"Suggest charts.\"\n",
              "            style=\"display:none;\">\n",
              "\n",
              "<svg xmlns=\"http://www.w3.org/2000/svg\" height=\"24px\"viewBox=\"0 0 24 24\"\n",
              "     width=\"24px\">\n",
              "    <g>\n",
              "        <path d=\"M19 3H5c-1.1 0-2 .9-2 2v14c0 1.1.9 2 2 2h14c1.1 0 2-.9 2-2V5c0-1.1-.9-2-2-2zM9 17H7v-7h2v7zm4 0h-2V7h2v10zm4 0h-2v-4h2v4z\"/>\n",
              "    </g>\n",
              "</svg>\n",
              "  </button>\n",
              "\n",
              "<style>\n",
              "  .colab-df-quickchart {\n",
              "      --bg-color: #E8F0FE;\n",
              "      --fill-color: #1967D2;\n",
              "      --hover-bg-color: #E2EBFA;\n",
              "      --hover-fill-color: #174EA6;\n",
              "      --disabled-fill-color: #AAA;\n",
              "      --disabled-bg-color: #DDD;\n",
              "  }\n",
              "\n",
              "  [theme=dark] .colab-df-quickchart {\n",
              "      --bg-color: #3B4455;\n",
              "      --fill-color: #D2E3FC;\n",
              "      --hover-bg-color: #434B5C;\n",
              "      --hover-fill-color: #FFFFFF;\n",
              "      --disabled-bg-color: #3B4455;\n",
              "      --disabled-fill-color: #666;\n",
              "  }\n",
              "\n",
              "  .colab-df-quickchart {\n",
              "    background-color: var(--bg-color);\n",
              "    border: none;\n",
              "    border-radius: 50%;\n",
              "    cursor: pointer;\n",
              "    display: none;\n",
              "    fill: var(--fill-color);\n",
              "    height: 32px;\n",
              "    padding: 0;\n",
              "    width: 32px;\n",
              "  }\n",
              "\n",
              "  .colab-df-quickchart:hover {\n",
              "    background-color: var(--hover-bg-color);\n",
              "    box-shadow: 0 1px 2px rgba(60, 64, 67, 0.3), 0 1px 3px 1px rgba(60, 64, 67, 0.15);\n",
              "    fill: var(--button-hover-fill-color);\n",
              "  }\n",
              "\n",
              "  .colab-df-quickchart-complete:disabled,\n",
              "  .colab-df-quickchart-complete:disabled:hover {\n",
              "    background-color: var(--disabled-bg-color);\n",
              "    fill: var(--disabled-fill-color);\n",
              "    box-shadow: none;\n",
              "  }\n",
              "\n",
              "  .colab-df-spinner {\n",
              "    border: 2px solid var(--fill-color);\n",
              "    border-color: transparent;\n",
              "    border-bottom-color: var(--fill-color);\n",
              "    animation:\n",
              "      spin 1s steps(1) infinite;\n",
              "  }\n",
              "\n",
              "  @keyframes spin {\n",
              "    0% {\n",
              "      border-color: transparent;\n",
              "      border-bottom-color: var(--fill-color);\n",
              "      border-left-color: var(--fill-color);\n",
              "    }\n",
              "    20% {\n",
              "      border-color: transparent;\n",
              "      border-left-color: var(--fill-color);\n",
              "      border-top-color: var(--fill-color);\n",
              "    }\n",
              "    30% {\n",
              "      border-color: transparent;\n",
              "      border-left-color: var(--fill-color);\n",
              "      border-top-color: var(--fill-color);\n",
              "      border-right-color: var(--fill-color);\n",
              "    }\n",
              "    40% {\n",
              "      border-color: transparent;\n",
              "      border-right-color: var(--fill-color);\n",
              "      border-top-color: var(--fill-color);\n",
              "    }\n",
              "    60% {\n",
              "      border-color: transparent;\n",
              "      border-right-color: var(--fill-color);\n",
              "    }\n",
              "    80% {\n",
              "      border-color: transparent;\n",
              "      border-right-color: var(--fill-color);\n",
              "      border-bottom-color: var(--fill-color);\n",
              "    }\n",
              "    90% {\n",
              "      border-color: transparent;\n",
              "      border-bottom-color: var(--fill-color);\n",
              "    }\n",
              "  }\n",
              "</style>\n",
              "\n",
              "  <script>\n",
              "    async function quickchart(key) {\n",
              "      const quickchartButtonEl =\n",
              "        document.querySelector('#' + key + ' button');\n",
              "      quickchartButtonEl.disabled = true;  // To prevent multiple clicks.\n",
              "      quickchartButtonEl.classList.add('colab-df-spinner');\n",
              "      try {\n",
              "        const charts = await google.colab.kernel.invokeFunction(\n",
              "            'suggestCharts', [key], {});\n",
              "      } catch (error) {\n",
              "        console.error('Error during call to suggestCharts:', error);\n",
              "      }\n",
              "      quickchartButtonEl.classList.remove('colab-df-spinner');\n",
              "      quickchartButtonEl.classList.add('colab-df-quickchart-complete');\n",
              "    }\n",
              "    (() => {\n",
              "      let quickchartButtonEl =\n",
              "        document.querySelector('#df-1f45865e-d8b6-4ce9-9651-820fddfbdabb button');\n",
              "      quickchartButtonEl.style.display =\n",
              "        google.colab.kernel.accessAllowed ? 'block' : 'none';\n",
              "    })();\n",
              "  </script>\n",
              "</div>\n",
              "    </div>\n",
              "  </div>\n"
            ]
          },
          "metadata": {},
          "execution_count": 15
        }
      ],
      "source": [
        "XFeasible = X[X['In Feasible'] == True]\n",
        "\n",
        "XFeasible"
      ]
    },
    {
      "cell_type": "code",
      "execution_count": 16,
      "metadata": {
        "colab": {
          "base_uri": "https://localhost:8080/",
          "height": 81
        },
        "id": "DSP318AALFa5",
        "outputId": "13aedd47-b2e1-48dc-cb21-ae7d3d0e103f"
      },
      "outputs": [
        {
          "output_type": "execute_result",
          "data": {
            "text/plain": [
              "                Variables Used               Solution  Profit  In Feasible\n",
              "1  (large, small, slackSewing)  [100.0, 110.0, 110.0]   520.0         True"
            ],
            "text/html": [
              "\n",
              "  <div id=\"df-833b4812-2b2b-484b-9d2e-c532c3321335\" class=\"colab-df-container\">\n",
              "    <div>\n",
              "<style scoped>\n",
              "    .dataframe tbody tr th:only-of-type {\n",
              "        vertical-align: middle;\n",
              "    }\n",
              "\n",
              "    .dataframe tbody tr th {\n",
              "        vertical-align: top;\n",
              "    }\n",
              "\n",
              "    .dataframe thead th {\n",
              "        text-align: right;\n",
              "    }\n",
              "</style>\n",
              "<table border=\"1\" class=\"dataframe\">\n",
              "  <thead>\n",
              "    <tr style=\"text-align: right;\">\n",
              "      <th></th>\n",
              "      <th>Variables Used</th>\n",
              "      <th>Solution</th>\n",
              "      <th>Profit</th>\n",
              "      <th>In Feasible</th>\n",
              "    </tr>\n",
              "  </thead>\n",
              "  <tbody>\n",
              "    <tr>\n",
              "      <th>1</th>\n",
              "      <td>(large, small, slackSewing)</td>\n",
              "      <td>[100.0, 110.0, 110.0]</td>\n",
              "      <td>520.0</td>\n",
              "      <td>True</td>\n",
              "    </tr>\n",
              "  </tbody>\n",
              "</table>\n",
              "</div>\n",
              "    <div class=\"colab-df-buttons\">\n",
              "\n",
              "  <div class=\"colab-df-container\">\n",
              "    <button class=\"colab-df-convert\" onclick=\"convertToInteractive('df-833b4812-2b2b-484b-9d2e-c532c3321335')\"\n",
              "            title=\"Convert this dataframe to an interactive table.\"\n",
              "            style=\"display:none;\">\n",
              "\n",
              "  <svg xmlns=\"http://www.w3.org/2000/svg\" height=\"24px\" viewBox=\"0 -960 960 960\">\n",
              "    <path d=\"M120-120v-720h720v720H120Zm60-500h600v-160H180v160Zm220 220h160v-160H400v160Zm0 220h160v-160H400v160ZM180-400h160v-160H180v160Zm440 0h160v-160H620v160ZM180-180h160v-160H180v160Zm440 0h160v-160H620v160Z\"/>\n",
              "  </svg>\n",
              "    </button>\n",
              "\n",
              "  <style>\n",
              "    .colab-df-container {\n",
              "      display:flex;\n",
              "      gap: 12px;\n",
              "    }\n",
              "\n",
              "    .colab-df-convert {\n",
              "      background-color: #E8F0FE;\n",
              "      border: none;\n",
              "      border-radius: 50%;\n",
              "      cursor: pointer;\n",
              "      display: none;\n",
              "      fill: #1967D2;\n",
              "      height: 32px;\n",
              "      padding: 0 0 0 0;\n",
              "      width: 32px;\n",
              "    }\n",
              "\n",
              "    .colab-df-convert:hover {\n",
              "      background-color: #E2EBFA;\n",
              "      box-shadow: 0px 1px 2px rgba(60, 64, 67, 0.3), 0px 1px 3px 1px rgba(60, 64, 67, 0.15);\n",
              "      fill: #174EA6;\n",
              "    }\n",
              "\n",
              "    .colab-df-buttons div {\n",
              "      margin-bottom: 4px;\n",
              "    }\n",
              "\n",
              "    [theme=dark] .colab-df-convert {\n",
              "      background-color: #3B4455;\n",
              "      fill: #D2E3FC;\n",
              "    }\n",
              "\n",
              "    [theme=dark] .colab-df-convert:hover {\n",
              "      background-color: #434B5C;\n",
              "      box-shadow: 0px 1px 3px 1px rgba(0, 0, 0, 0.15);\n",
              "      filter: drop-shadow(0px 1px 2px rgba(0, 0, 0, 0.3));\n",
              "      fill: #FFFFFF;\n",
              "    }\n",
              "  </style>\n",
              "\n",
              "    <script>\n",
              "      const buttonEl =\n",
              "        document.querySelector('#df-833b4812-2b2b-484b-9d2e-c532c3321335 button.colab-df-convert');\n",
              "      buttonEl.style.display =\n",
              "        google.colab.kernel.accessAllowed ? 'block' : 'none';\n",
              "\n",
              "      async function convertToInteractive(key) {\n",
              "        const element = document.querySelector('#df-833b4812-2b2b-484b-9d2e-c532c3321335');\n",
              "        const dataTable =\n",
              "          await google.colab.kernel.invokeFunction('convertToInteractive',\n",
              "                                                    [key], {});\n",
              "        if (!dataTable) return;\n",
              "\n",
              "        const docLinkHtml = 'Like what you see? Visit the ' +\n",
              "          '<a target=\"_blank\" href=https://colab.research.google.com/notebooks/data_table.ipynb>data table notebook</a>'\n",
              "          + ' to learn more about interactive tables.';\n",
              "        element.innerHTML = '';\n",
              "        dataTable['output_type'] = 'display_data';\n",
              "        await google.colab.output.renderOutput(dataTable, element);\n",
              "        const docLink = document.createElement('div');\n",
              "        docLink.innerHTML = docLinkHtml;\n",
              "        element.appendChild(docLink);\n",
              "      }\n",
              "    </script>\n",
              "  </div>\n",
              "\n",
              "    </div>\n",
              "  </div>\n"
            ]
          },
          "metadata": {},
          "execution_count": 16
        }
      ],
      "source": [
        "XFeasible[XFeasible['Profit'].max()==XFeasible['Profit']]"
      ]
    },
    {
      "cell_type": "markdown",
      "metadata": {
        "id": "UI1Z7cIUL_Mw"
      },
      "source": [
        "This gives us exactly the solution we found graphically but an algorithmic way to find it!"
      ]
    },
    {
      "cell_type": "markdown",
      "metadata": {
        "id": "gZAnmh5LlmwX"
      },
      "source": [
        "## Examples"
      ]
    },
    {
      "cell_type": "markdown",
      "metadata": {
        "id": "VXEn-1oj8CG_"
      },
      "source": [
        "### Example 1"
      ]
    },
    {
      "cell_type": "markdown",
      "metadata": {
        "id": "hbqQ17BOlqGN"
      },
      "source": [
        "Repeat the original question using python's tools for solving *Linear Programming* or **LP** problems.  \n",
        "\n",
        "I'll use a tool from `scipy.optimize`  The first issue is that it only minimizes!  So I'll need to convert my statement to minimize but this is easy, just multiply your objective function by negative one.\n",
        "\n"
      ]
    },
    {
      "cell_type": "code",
      "execution_count": 17,
      "metadata": {
        "colab": {
          "base_uri": "https://localhost:8080/"
        },
        "id": "rB8lqZDVFGie",
        "outputId": "d7195e55-5b3f-41e7-bce9-047ac92fa003"
      },
      "outputs": [
        {
          "output_type": "execute_result",
          "data": {
            "text/plain": [
              "        message: Optimization terminated successfully. (HiGHS Status 7: Optimal)\n",
              "        success: True\n",
              "         status: 0\n",
              "            fun: -520.0\n",
              "              x: [ 1.000e+02  1.100e+02]\n",
              "            nit: 3\n",
              "          lower:  residual: [ 1.000e+02  1.100e+02]\n",
              "                 marginals: [ 0.000e+00  0.000e+00]\n",
              "          upper:  residual: [       inf        inf]\n",
              "                 marginals: [ 0.000e+00  0.000e+00]\n",
              "          eqlin:  residual: []\n",
              "                 marginals: []\n",
              "        ineqlin:  residual: [ 0.000e+00  1.100e+02  0.000e+00]\n",
              "                 marginals: [-1.887e-01 -0.000e+00 -1.698e-01]\n",
              " mip_node_count: 0\n",
              " mip_dual_bound: 0.0\n",
              "        mip_gap: 0.0"
            ]
          },
          "metadata": {},
          "execution_count": 17
        }
      ],
      "source": [
        "from scipy.optimize import linprog\n",
        "\n",
        "linprog([-3,-2],A[:,[0,1]],b)"
      ]
    },
    {
      "cell_type": "markdown",
      "metadata": {
        "id": "9ap7yquBGnhN"
      },
      "source": [
        "Interpreting this result is a little difficult.  `fun` returns the opposite of the value we were after (maximum of profit).  `x` is the number of pillows we should be producing to achieve the maximum.  `ineqlin: residuals` is giving the slack results."
      ]
    },
    {
      "cell_type": "markdown",
      "metadata": {
        "id": "xwx5JA688Gqu"
      },
      "source": [
        "### Example 2"
      ]
    },
    {
      "cell_type": "markdown",
      "metadata": {
        "id": "UCeUiE8j8Ngm"
      },
      "source": [
        "A manufacturer of downhill and cross-country skis reports that manufacturing time is 1 hours and 2 hours, respectively, per ski and that finishing time is 7 hours for each downhill and 6 hours for each cross-crountry ski. There are only 16 hours per week available for the manufacturing process and 56 hours for the finishing process. The average profit is \\$73 for downhill ski and \\$68 for cross-country ski. The manufacturer wants to know how many of each type of ski should be made to maximize the weekly profit."
      ]
    },
    {
      "cell_type": "markdown",
      "source": [
        "We first create the system of inequalities.  Let $d$ be the number of downhill skis and $c$ be the number of cross country skis.  Then\n",
        "\n",
        "$$\n",
        "\\left\\{\n",
        "\\begin{array}{l}\n",
        "1d+2c\\leq 16\\\\\n",
        "7d+6c\\leq 56\n",
        "\\end{array}\n",
        "\\right.\n",
        "$$\n",
        "\n",
        "And the objective function to maximize is\n",
        "\n",
        "$$\n",
        "P= 73d+68c\n",
        "$$"
      ],
      "metadata": {
        "id": "fLKq4fHIQXyZ"
      }
    },
    {
      "cell_type": "code",
      "source": [
        "A = np.array([[1,2],[7,6]])\n",
        "b = np.array([16,56])\n",
        "\n",
        "np.linalg.solve(A,b)"
      ],
      "metadata": {
        "colab": {
          "base_uri": "https://localhost:8080/"
        },
        "id": "sD6Skjr0RamD",
        "outputId": "0eef43fc-a8b4-40f3-c14e-507f3fda6062"
      },
      "execution_count": 18,
      "outputs": [
        {
          "output_type": "execute_result",
          "data": {
            "text/plain": [
              "array([2., 7.])"
            ]
          },
          "metadata": {},
          "execution_count": 18
        }
      ]
    },
    {
      "cell_type": "code",
      "source": [
        "d1= np.arange(0,2.1,.1)\n",
        "d2= np.arange(2,8,.1)\n",
        "x7 = np.arange(0,8,.1)\n",
        "\n",
        "\n",
        "c1 = (16-1*d1)/2\n",
        "c2 = (56-7*d2)/6\n",
        "\n",
        "\n",
        "plt.plot(d1,c1, color = \"black\")\n",
        "plt.plot(d2,c2, color = \"black\")\n",
        "plt.plot(d1,np.zeros(21),d2,np.zeros(60), color = \"black\")\n",
        "plt.plot(np.zeros(80),np.arange(0,8,.1),color = \"black\")\n",
        "plt.scatter(2, 7, s = 100, color = \"black\")\n",
        "plt.scatter(0, 8, s = 100, color = \"black\")\n",
        "plt.scatter(8, 0, s = 100, color = \"black\")\n",
        "\n",
        "plt.fill_between(d1,0,c1, color = \"yellow\")\n",
        "plt.fill_between(d2,0,c2, color = \"yellow\")\n",
        "\n",
        "plt.plot(x7,(622-73*x7)/68,linestyle = \"dashed\", label = \"622\")\n",
        "\n",
        "plt.legend()\n",
        "plt.show()\n"
      ],
      "metadata": {
        "colab": {
          "base_uri": "https://localhost:8080/",
          "height": 430
        },
        "id": "gSvQk-rDQXe5",
        "outputId": "fe80b0c0-7d3f-4f72-f46f-89aa3f9c12f6"
      },
      "execution_count": 19,
      "outputs": [
        {
          "output_type": "display_data",
          "data": {
            "text/plain": [
              "<Figure size 640x480 with 1 Axes>"
            ],
            "image/png": "[encoded data removed]"
          },
          "metadata": {}
        }
      ]
    },
    {
      "cell_type": "markdown",
      "source": [
        "From the picture above, looks like the corner point $(2,7)$ maximizes the profit of \\$622.  Let's see if our other tools agree!"
      ],
      "metadata": {
        "id": "jClRdDRvVtjy"
      }
    },
    {
      "cell_type": "code",
      "source": [
        "A = np.array(np.array([[1,2,1,0],[7,6,0,1]]))\n",
        "\n",
        "def profit(list):\n",
        "  return 73*list[0]+68*list[1]\n",
        "\n",
        "index = [[i,j] for i in range(4) for j in range(i+1,4)] #which variables are not zero\n",
        "d = {0:'downhill',1:'cross',2:'Slack_Manufacturing',3:'Slack_Finishing'} #dictionary for keeping variable labels straight\n",
        "\n",
        "X = []\n",
        "for i in index:\n",
        "  solution = [round(i,5) for i in np.linalg.solve(A[:,i],b)]\n",
        "  list1 = buildFullList(i,solution)\n",
        "  X.append([(d[i[0]],d[i[1]]),solution,profit(list1),testForFeasible(list1)])\n",
        "\n",
        "X = pd.DataFrame(X,columns = ['Variables Used','Solution','Profit','In Feasible'])\n",
        "XFeasible = X[X['In Feasible'] == True]\n",
        "XFeasible[XFeasible['Profit'].max()==XFeasible['Profit']]"
      ],
      "metadata": {
        "colab": {
          "base_uri": "https://localhost:8080/",
          "height": 81
        },
        "id": "zsq1lpaeWrSF",
        "outputId": "8612375a-c45f-4042-bd6c-587001f5a0d1"
      },
      "execution_count": 20,
      "outputs": [
        {
          "output_type": "execute_result",
          "data": {
            "text/plain": [
              "      Variables Used    Solution  Profit  In Feasible\n",
              "0  (downhill, cross)  [2.0, 7.0]   622.0         True"
            ],
            "text/html": [
              "\n",
              "  <div id=\"df-b75dfb4a-8e7f-4569-ba4d-c5f0f43b2d34\" class=\"colab-df-container\">\n",
              "    <div>\n",
              "<style scoped>\n",
              "    .dataframe tbody tr th:only-of-type {\n",
              "        vertical-align: middle;\n",
              "    }\n",
              "\n",
              "    .dataframe tbody tr th {\n",
              "        vertical-align: top;\n",
              "    }\n",
              "\n",
              "    .dataframe thead th {\n",
              "        text-align: right;\n",
              "    }\n",
              "</style>\n",
              "<table border=\"1\" class=\"dataframe\">\n",
              "  <thead>\n",
              "    <tr style=\"text-align: right;\">\n",
              "      <th></th>\n",
              "      <th>Variables Used</th>\n",
              "      <th>Solution</th>\n",
              "      <th>Profit</th>\n",
              "      <th>In Feasible</th>\n",
              "    </tr>\n",
              "  </thead>\n",
              "  <tbody>\n",
              "    <tr>\n",
              "      <th>0</th>\n",
              "      <td>(downhill, cross)</td>\n",
              "      <td>[2.0, 7.0]</td>\n",
              "      <td>622.0</td>\n",
              "      <td>True</td>\n",
              "    </tr>\n",
              "  </tbody>\n",
              "</table>\n",
              "</div>\n",
              "    <div class=\"colab-df-buttons\">\n",
              "\n",
              "  <div class=\"colab-df-container\">\n",
              "    <button class=\"colab-df-convert\" onclick=\"convertToInteractive('df-b75dfb4a-8e7f-4569-ba4d-c5f0f43b2d34')\"\n",
              "            title=\"Convert this dataframe to an interactive table.\"\n",
              "            style=\"display:none;\">\n",
              "\n",
              "  <svg xmlns=\"http://www.w3.org/2000/svg\" height=\"24px\" viewBox=\"0 -960 960 960\">\n",
              "    <path d=\"M120-120v-720h720v720H120Zm60-500h600v-160H180v160Zm220 220h160v-160H400v160Zm0 220h160v-160H400v160ZM180-400h160v-160H180v160Zm440 0h160v-160H620v160ZM180-180h160v-160H180v160Zm440 0h160v-160H620v160Z\"/>\n",
              "  </svg>\n",
              "    </button>\n",
              "\n",
              "  <style>\n",
              "    .colab-df-container {\n",
              "      display:flex;\n",
              "      gap: 12px;\n",
              "    }\n",
              "\n",
              "    .colab-df-convert {\n",
              "      background-color: #E8F0FE;\n",
              "      border: none;\n",
              "      border-radius: 50%;\n",
              "      cursor: pointer;\n",
              "      display: none;\n",
              "      fill: #1967D2;\n",
              "      height: 32px;\n",
              "      padding: 0 0 0 0;\n",
              "      width: 32px;\n",
              "    }\n",
              "\n",
              "    .colab-df-convert:hover {\n",
              "      background-color: #E2EBFA;\n",
              "      box-shadow: 0px 1px 2px rgba(60, 64, 67, 0.3), 0px 1px 3px 1px rgba(60, 64, 67, 0.15);\n",
              "      fill: #174EA6;\n",
              "    }\n",
              "\n",
              "    .colab-df-buttons div {\n",
              "      margin-bottom: 4px;\n",
              "    }\n",
              "\n",
              "    [theme=dark] .colab-df-convert {\n",
              "      background-color: #3B4455;\n",
              "      fill: #D2E3FC;\n",
              "    }\n",
              "\n",
              "    [theme=dark] .colab-df-convert:hover {\n",
              "      background-color: #434B5C;\n",
              "      box-shadow: 0px 1px 3px 1px rgba(0, 0, 0, 0.15);\n",
              "      filter: drop-shadow(0px 1px 2px rgba(0, 0, 0, 0.3));\n",
              "      fill: #FFFFFF;\n",
              "    }\n",
              "  </style>\n",
              "\n",
              "    <script>\n",
              "      const buttonEl =\n",
              "        document.querySelector('#df-b75dfb4a-8e7f-4569-ba4d-c5f0f43b2d34 button.colab-df-convert');\n",
              "      buttonEl.style.display =\n",
              "        google.colab.kernel.accessAllowed ? 'block' : 'none';\n",
              "\n",
              "      async function convertToInteractive(key) {\n",
              "        const element = document.querySelector('#df-b75dfb4a-8e7f-4569-ba4d-c5f0f43b2d34');\n",
              "        const dataTable =\n",
              "          await google.colab.kernel.invokeFunction('convertToInteractive',\n",
              "                                                    [key], {});\n",
              "        if (!dataTable) return;\n",
              "\n",
              "        const docLinkHtml = 'Like what you see? Visit the ' +\n",
              "          '<a target=\"_blank\" href=https://colab.research.google.com/notebooks/data_table.ipynb>data table notebook</a>'\n",
              "          + ' to learn more about interactive tables.';\n",
              "        element.innerHTML = '';\n",
              "        dataTable['output_type'] = 'display_data';\n",
              "        await google.colab.output.renderOutput(dataTable, element);\n",
              "        const docLink = document.createElement('div');\n",
              "        docLink.innerHTML = docLinkHtml;\n",
              "        element.appendChild(docLink);\n",
              "      }\n",
              "    </script>\n",
              "  </div>\n",
              "\n",
              "    </div>\n",
              "  </div>\n"
            ]
          },
          "metadata": {},
          "execution_count": 20
        }
      ]
    },
    {
      "cell_type": "markdown",
      "source": [
        "Or with the built ins"
      ],
      "metadata": {
        "id": "JMXKg8H2YLp0"
      }
    },
    {
      "cell_type": "code",
      "source": [
        "linprog([-73,-68],A[:,[0,1]],b)"
      ],
      "metadata": {
        "colab": {
          "base_uri": "https://localhost:8080/"
        },
        "id": "eJJEOitFYOJ0",
        "outputId": "2645223b-28cd-4aee-e0b0-5674fe677ea9"
      },
      "execution_count": 21,
      "outputs": [
        {
          "output_type": "execute_result",
          "data": {
            "text/plain": [
              "        message: Optimization terminated successfully. (HiGHS Status 7: Optimal)\n",
              "        success: True\n",
              "         status: 0\n",
              "            fun: -622.0\n",
              "              x: [ 2.000e+00  7.000e+00]\n",
              "            nit: 2\n",
              "          lower:  residual: [ 2.000e+00  7.000e+00]\n",
              "                 marginals: [ 0.000e+00  0.000e+00]\n",
              "          upper:  residual: [       inf        inf]\n",
              "                 marginals: [ 0.000e+00  0.000e+00]\n",
              "          eqlin:  residual: []\n",
              "                 marginals: []\n",
              "        ineqlin:  residual: [ 0.000e+00  0.000e+00]\n",
              "                 marginals: [-4.750e+00 -9.750e+00]\n",
              " mip_node_count: 0\n",
              " mip_dual_bound: 0.0\n",
              "        mip_gap: 0.0"
            ]
          },
          "metadata": {},
          "execution_count": 21
        }
      ]
    },
    {
      "cell_type": "markdown",
      "metadata": {
        "id": "fb2uZl1q_LR_"
      },
      "source": [
        "## References\n",
        "\n",
        "*How to Solve It* **G. Polya** Second Edition Princeton University Press 1957\n",
        "\n",
        "*Thinking Mathematically* **J. Mason** Addison-Wesley Publishing Company 1985\n",
        "\n",
        "*Grit: The Power of Passion and Perseverance* **A. Duckworth** ‎ Scribner Book Company 2016\n",
        "\n",
        "Examples adopted from the Open Problem Library of WeBWorK.\n",
        "\n"
      ]
    },
    {
      "cell_type": "markdown",
      "metadata": {
        "id": "DGC5WaH4Y98C"
      },
      "source": [
        "## Problems"
      ]
    },
    {
      "cell_type": "markdown",
      "metadata": {
        "id": "aFM8E4VSZA_p"
      },
      "source": [
        "1. A couple wants to invest up to \\$60000. They can purchase a type A bond yielding 8.75% return and a type B bond yielding a 10.25% return on the amount invested. They also want to invest at least as much in the type A bond as in the type B bond. They will also invest at least \\$30000 in type A and no more than \\$33000 in type B bond.  How much should they invest in each type of bond to maximize their return?\n",
        "\n",
        "2. A diet is to contain at least 1023 units of carbohydrates, 1566 units of proteins, and 1431 calories. Two foods are available: F1 which costs \\$ 0.02 per unit and F2, which costs \\$ 0.05 per unit. A unit of food F1 contains 1 units of carbohydrates, 2 units of proteins and 7 calories. A unit of food F2 contains 9 units of carbohydrates, 8 units of proteins and 3 calories.  Minimize the cost of the diet.\n",
        "\n",
        "3. Blink Appliances plans to order microwaves and stoves. Each microwave requires 2 hours to unpack and set up in the storeroom, and each stove requires 4 hours. The storeroom space is limited to 42 items. The budget of the store allows only 148 hours of employee time for unpacking and setup. Microwaves yields a profit of \\$147 each, and stoves yields a profit of \\$162 each. How many of each should the store order to maximize profit?"
      ]
    },
    {
      "cell_type": "markdown",
      "metadata": {
        "id": "pz5xCYtbZCGZ"
      },
      "source": [
        "## Project Idea"
      ]
    },
    {
      "cell_type": "markdown",
      "metadata": {
        "id": "LrBCw5_-ZJFK"
      },
      "source": [
        "Create a linear programming problem from your life.  Consider diet, exercise, grades, time, relationships, and family.  Can you maximize your life quantitativly?"
      ]
    }
  ],
  "metadata": {
    "colab": {
      "name": "Untitled30.ipynb",
      "provenance": [],
      "authorship_tag": "ABX9TyM+rKCAQ8f+RPgj7D0NM3x3",
      "include_colab_link": true
    },
    "kernelspec": {
      "display_name": "Python 3 (ipykernel)",
      "language": "python",
      "name": "python3"
    },
    "language_info": {
      "codemirror_mode": {
        "name": "ipython",
        "version": 3
      },
      "file_extension": ".py",
      "mimetype": "text/x-python",
      "name": "python",
      "nbconvert_exporter": "python",
      "pygments_lexer": "ipython3",
      "version": "3.9.7"
    }
  },
  "nbformat": 4,
  "nbformat_minor": 0
}