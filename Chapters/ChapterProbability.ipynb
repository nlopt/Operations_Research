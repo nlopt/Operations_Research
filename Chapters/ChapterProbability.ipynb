{
  "nbformat": 4,
  "nbformat_minor": 0,
  "metadata": {
    "colab": {
      "name": "Untitled30.ipynb",
      "provenance": [],
      "authorship_tag": "ABX9TyPr1H68wtpQfM9iVxPyAoUY",
      "include_colab_link": true
    },
    "kernelspec": {
      "name": "python3",
      "display_name": "Python 3"
    },
    "language_info": {
      "name": "python"
    }
  },
  "cells": [
    {
      "cell_type": "markdown",
      "metadata": {
        "id": "view-in-github",
        "colab_type": "text"
      },
      "source": [
        "<a href=\"https://colab.research.google.com/github/nurfnick/Operations_Research/blob/main/Chapters/ChapterProbability.ipynb\" target=\"_parent\"><img src=\"https://colab.research.google.com/assets/colab-badge.svg\" alt=\"Open In Colab\"/></a>"
      ]
    },
    {
      "cell_type": "markdown",
      "metadata": {
        "id": "i_4QVqdV96a6"
      },
      "source": [
        "# Probability\n",
        "\n",
        "\n",
        "\n"
      ]
    },
    {
      "cell_type": "markdown",
      "metadata": {
        "id": "woaZjkArTMAh"
      },
      "source": [
        "## Introduction\n",
        "\n",
        "\n",
        "\n",
        "\n"
      ]
    },
    {
      "cell_type": "markdown",
      "metadata": {
        "id": "n0AD_VXnYiKq"
      },
      "source": [
        "Probability is essential to the way we think about the world.  We know that most things are uncertain and we must quantify that uncertainty if we hope to operate in our fast paced world.  Quantifying and utilizing this uncertainty is used in gambling, insurance, networking, and all sorts of industries.  A basic understanding of the theoretical underpinnings of probability will help you navigate these topics."
      ]
    },
    {
      "cell_type": "markdown",
      "metadata": {
        "id": "DVKCnmI8UBTG"
      },
      "source": [
        "## Theory"
      ]
    },
    {
      "cell_type": "markdown",
      "metadata": {
        "id": "5GgWvxZMYjTU"
      },
      "source": [
        "In probability, we call an **event** a collection of possible outcomes.  A **simple event** is an event that cannot be decomposed any further.  Simple events for probability are very important in that each one will be assigned a probability AND the sum of all those probabilities must some to one.  We call the collection of all simple events the **universal set**, $U$.\n",
        "\n"
      ]
    },
    {
      "cell_type": "markdown",
      "metadata": {
        "id": "gZAnmh5LlmwX"
      },
      "source": [
        "## Examples"
      ]
    },
    {
      "cell_type": "markdown",
      "metadata": {
        "id": "VXEn-1oj8CG_"
      },
      "source": [
        "### Oklahoma Weather"
      ]
    },
    {
      "cell_type": "markdown",
      "metadata": {
        "id": "hbqQ17BOlqGN"
      },
      "source": [
        "The weather on a fall day in Oklahoma has a wide variety of possible temperatures.\n",
        "\n",
        "|Temperature|Probability|\n",
        "|----|-----|\n",
        "$95^\\circ$|10%|\n",
        "$85^\\circ$|20%|\n",
        "$75^\\circ$|40%|\n",
        "$65^\\circ$|20%|\n",
        "$55^\\circ$|10%|\n",
        "\n",
        "Our universal set will consist of $U = \\{95^\\circ,85^\\circ,75^\\circ,65^\\circ,55^\\circ\\}$ and the sum of the probabilities is 1 or 100%.\n",
        "\n",
        "We can ask some questions simply using this table.  What is the probability that the temperature will be 95 or 85?  We can simply add the probability of these two simple events as either could happen.  So there is a 30% chance of the temperature being 95 or 85.\n",
        "\n",
        "If instead we asked what is the likelihood that the temperature was 95 and 85.  Since the events are simple, there is no overlap!  This means that this event is **impossible** and the probability will be 0.\n",
        "\n",
        "Coding a random day like this will be done with the `random` package.\n",
        "\n"
      ]
    },
    {
      "cell_type": "code",
      "source": [
        "import random\n",
        "\n",
        "random.choices([95,85,75,65,55],[10,20,40,20,10], k = 5)"
      ],
      "metadata": {
        "id": "DzWwur6y8q2d",
        "outputId": "ca146231-2546-46c1-a820-c27ede8edd92",
        "colab": {
          "base_uri": "https://localhost:8080/"
        }
      },
      "execution_count": null,
      "outputs": [
        {
          "output_type": "execute_result",
          "data": {
            "text/plain": [
              "[65, 75, 85, 85, 75]"
            ]
          },
          "metadata": {},
          "execution_count": 6
        }
      ]
    },
    {
      "cell_type": "markdown",
      "source": [
        "The code above simulated 5 days, using our probabilities.  Note that random choices does not require the probabilities to sum to 1 or even 100.\n",
        "\n"
      ],
      "metadata": {
        "id": "yije0vnY9RKE"
      }
    },
    {
      "cell_type": "markdown",
      "metadata": {
        "id": "xwx5JA688Gqu"
      },
      "source": [
        "### Expected Oklahoma Weather\n",
        "\n",
        "One of the most important ideas of probability is the **random variable**.  For our example, this was the temperature.  We see above that that varied as we had differing conditions.  The random variable also gives us the idea of **expected value**  This is someways related to the mean (or average) but uses the probabilities to be computed.  We compute the expected value as the sum of the probability times its respective random variable.\n",
        "\n",
        "$$\n",
        "E[x] = \\sum_{i=1}^np_ix_i\n",
        "$$\n",
        "\n",
        "We apply this to our weather\n",
        "$$\n",
        "95*.1+85*.2+75*.4+65*.2+55*.1 = 75\n",
        "$$\n",
        "\n",
        "The expected value need not give a value in your universal set!\n",
        "\n",
        "This expected value can be achieved by taking an average of our outcomes from the random choices.\n",
        "\n"
      ]
    },
    {
      "cell_type": "code",
      "source": [
        "k = 10000\n",
        "\n",
        "choice = random.choices([95,85,75,65,55],[10,20,40,20,10], k = k)\n",
        "\n",
        "sum(choice)/k"
      ],
      "metadata": {
        "id": "l0-tSgHdABi3",
        "outputId": "a28e7aab-e4be-45ad-fdad-0b8015ed36a0",
        "colab": {
          "base_uri": "https://localhost:8080/"
        }
      },
      "execution_count": null,
      "outputs": [
        {
          "output_type": "execute_result",
          "data": {
            "text/plain": [
              "75.016"
            ]
          },
          "metadata": {},
          "execution_count": 7
        }
      ]
    },
    {
      "cell_type": "markdown",
      "source": [
        "Of course this won't be exact but will give us a great indication of where our expected value is.  To get the expected value in a non-random way we would do something like:"
      ],
      "metadata": {
        "id": "RGHkC38nAN4K"
      }
    },
    {
      "cell_type": "code",
      "source": [
        "temp = [95,85,75,65,55]\n",
        "prob = [.10,.20,.40,.20,.10]\n",
        "e = 0\n",
        "for i in range(len(temp)):\n",
        "  e+= temp[i]*prob[i]\n",
        "\n",
        "e"
      ],
      "metadata": {
        "id": "CWLILpuwAaH7",
        "outputId": "bd5845ec-547c-47f0-e6f7-c57ebada74f8",
        "colab": {
          "base_uri": "https://localhost:8080/"
        }
      },
      "execution_count": null,
      "outputs": [
        {
          "output_type": "execute_result",
          "data": {
            "text/plain": [
              "75.0"
            ]
          },
          "metadata": {},
          "execution_count": 8
        }
      ]
    },
    {
      "cell_type": "markdown",
      "metadata": {
        "id": "fb2uZl1q_LR_"
      },
      "source": [
        "## References\n",
        "\n",
        "*How to Solve It* **G. Polya** Second Edition Princeton University Press 1957\n",
        "\n",
        "*Thinking Mathematically* **J. Mason** Addison-Wesley Publishing Company 1985\n",
        "\n",
        "*Grit: The Power of Passion and Perseverance* **A. Duckworth** ‎ Scribner Book Company 2016\n",
        "\n"
      ]
    },
    {
      "cell_type": "markdown",
      "metadata": {
        "id": "DGC5WaH4Y98C"
      },
      "source": [
        "## Problems"
      ]
    },
    {
      "cell_type": "markdown",
      "metadata": {
        "id": "aFM8E4VSZA_p"
      },
      "source": []
    },
    {
      "cell_type": "code",
      "metadata": {
        "id": "mbMCC1ZMZAHk"
      },
      "source": [],
      "execution_count": null,
      "outputs": []
    },
    {
      "cell_type": "markdown",
      "metadata": {
        "id": "pz5xCYtbZCGZ"
      },
      "source": [
        "## Project Idea"
      ]
    },
    {
      "cell_type": "markdown",
      "metadata": {
        "id": "LrBCw5_-ZJFK"
      },
      "source": []
    },
    {
      "cell_type": "markdown",
      "metadata": {
        "id": "C8i0wsUKijeP"
      },
      "source": [
        "### Authors"
      ]
    },
    {
      "cell_type": "markdown",
      "metadata": {
        "id": "rajid0PdipzE"
      },
      "source": [
        "Principal authors of this chapter were: [N.C.Jacob](https://github.com/nurfnick), but you!\n",
        "\n",
        "Contributions were made by:"
      ]
    },
    {
      "cell_type": "code",
      "metadata": {
        "id": "7gUn1NirlAep"
      },
      "source": [],
      "execution_count": null,
      "outputs": []
    }
  ]
}