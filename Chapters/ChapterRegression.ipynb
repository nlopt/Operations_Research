{
  "nbformat": 4,
  "nbformat_minor": 0,
  "metadata": {
    "colab": {
      "provenance": [],
      "authorship_tag": "ABX9TyNZ7N0RTFe31w78tPkFR21T",
      "include_colab_link": true
    },
    "kernelspec": {
      "name": "python3",
      "display_name": "Python 3"
    },
    "language_info": {
      "name": "python"
    }
  },
  "cells": [
    {
      "cell_type": "markdown",
      "metadata": {
        "id": "view-in-github",
        "colab_type": "text"
      },
      "source": [
        "<a href=\"https://colab.research.google.com/github/nurfnick/Operations_Research/blob/main/ChapterRegression.ipynb\" target=\"_parent\"><img src=\"https://colab.research.google.com/assets/colab-badge.svg\" alt=\"Open In Colab\"/></a>"
      ]
    },
    {
      "cell_type": "markdown",
      "source": [
        "# Regression"
      ],
      "metadata": {
        "id": "FY-rJNIGJc8a"
      }
    },
    {
      "cell_type": "markdown",
      "source": [
        "## Introduction\n",
        "Regression is a huge topic but we'll try to cover the basics here with the idea that you will use regression often in business settings and that all the details will not be needed.\n",
        "\n",
        "We will mostly focus on the Method of Least Squares here.  The idea is to make a prediction and to minimize the error in that prediction by minimizing the sum of the squares of that error:\n",
        "\n",
        "$$\n",
        "SSE = \\sum_{i=1}^n\\left(y_i-\\hat {y_i}\\right)^2\n",
        "$$\n",
        "\n"
      ],
      "metadata": {
        "id": "HsaTJ4tEJfSD"
      }
    },
    {
      "cell_type": "markdown",
      "source": [
        "## Derivation\n",
        "\n",
        "To derive the linear regression formula, we assume that $\\hat y$ is linear,\n",
        "$$\n",
        "\\hat y = \\beta_0 +\\beta_1 x\n",
        "$$\n",
        "\n",
        "Then we plug this into the sum of squares error and take the partial derivatives with respect to $\\beta_0$ and $\\beta_1$.  To minimize we then set those derivatives to zero and solve the system.\n",
        "\n",
        "$$\n",
        "\\nabla SSE(\\beta_0,\\beta_1) =\n",
        "\\left(\n",
        "\\sum -2(y_i-\\beta_0 - \\beta_1 x_i)\n",
        ",\n",
        "\\sum -2(y_i-\\beta_0 - \\beta_1 x_i)x_i\n",
        "\\right)\n",
        "$$\n",
        "\n",
        "Setting each of these to zero and simplifying the summations, we arrive at\n",
        "$$\n",
        "\\sum y_i = n\\beta_0 +\\beta_1\\sum x_i\n",
        "$$\n",
        "$$\n",
        "\\sum x_iy_i = \\beta_0\\sum x_i +\\beta_1\\sum x^2_i\n",
        "$$\n",
        "\n",
        "Eliminating and solving, we see that\n",
        "$$\n",
        "\\beta_1 = \\frac{n\\sum x_iy_i - \\sum x_i \\sum y_i}{n\\sum x_i^2 - (\\sum x_i)^2}\n",
        "$$\n",
        "\n",
        "and\n",
        "$$\n",
        "\\beta_0 = \\frac{\\sum y_i - \\beta_1\\sum x_i}n\n",
        "$$\n",
        "\n",
        "Some times these are written using the bar notation, $\\bar x = \\frac{\\sum x_i}n$\n",
        "\n",
        "$$\n",
        "\\beta_0 = \\bar y - \\beta_1\\bar x\n",
        "$$\n",
        "\n",
        "$$\n",
        "\\beta_1 = \\frac{\\bar{xy}-\\bar x\\bar y}{\\bar{x^2} - \\left(\\bar x\\right)^2}\n",
        "$$"
      ],
      "metadata": {
        "id": "5mAexp8MKjiA"
      }
    },
    {
      "cell_type": "markdown",
      "source": [
        "### Example\n",
        "\n",
        "Given the points $(0,4),(3,6),(7,8),(2,5)$, find the linear regression."
      ],
      "metadata": {
        "id": "O90_WEdGE92e"
      }
    },
    {
      "cell_type": "code",
      "source": [
        "x = [0,3,7,2]\n",
        "y = [4,6,8,5]\n",
        "n = len(x)\n",
        "\n",
        "meanx = sum(x)/n\n",
        "meany = sum(y)/n\n",
        "sumsquarex = 0\n",
        "for i in range(n):\n",
        "  sumsquarex += x[i]**2\n",
        "sumsquarex /= n\n",
        "\n",
        "xy = 0\n",
        "for i in range(n):\n",
        "  xy +=x[i]*y[i]\n",
        "xy/=n\n"
      ],
      "metadata": {
        "id": "YCa57uBTFPP2"
      },
      "execution_count": 22,
      "outputs": []
    },
    {
      "cell_type": "code",
      "source": [
        "b1 = (xy - meanx*meany)/(sumsquarex-meanx**2)\n",
        "b1"
      ],
      "metadata": {
        "id": "l7Q091EVGDnk",
        "outputId": "8580b3a5-ca5f-4172-f560-1463ffd352e2",
        "colab": {
          "base_uri": "https://localhost:8080/"
        }
      },
      "execution_count": 23,
      "outputs": [
        {
          "output_type": "execute_result",
          "data": {
            "text/plain": [
              "0.5769230769230769"
            ]
          },
          "metadata": {},
          "execution_count": 23
        }
      ]
    },
    {
      "cell_type": "code",
      "source": [
        "b0 = meany - b1*meanx\n",
        "b0"
      ],
      "metadata": {
        "id": "1c55oAKwGl9j",
        "outputId": "660f56cb-292d-4ce7-8c5a-3adee77f073e",
        "colab": {
          "base_uri": "https://localhost:8080/"
        }
      },
      "execution_count": 24,
      "outputs": [
        {
          "output_type": "execute_result",
          "data": {
            "text/plain": [
              "4.019230769230769"
            ]
          },
          "metadata": {},
          "execution_count": 24
        }
      ]
    },
    {
      "cell_type": "code",
      "source": [
        "def line(x):\n",
        "  return b1*x+b0\n",
        "\n",
        "import numpy as np\n",
        "import matplotlib.pyplot as plt\n",
        "\n",
        "xs = np.linspace(0,8,100)\n",
        "ys = line(xs)\n",
        "\n",
        "plt.plot(xs,ys)\n",
        "plt.scatter(x,y)"
      ],
      "metadata": {
        "id": "xMPH5zhPGub8",
        "outputId": "c53018db-21a5-4080-b7a3-96aee0ffc622",
        "colab": {
          "base_uri": "https://localhost:8080/",
          "height": 448
        }
      },
      "execution_count": 25,
      "outputs": [
        {
          "output_type": "execute_result",
          "data": {
            "text/plain": [
              "<matplotlib.collections.PathCollection at 0x7c7345e77c70>"
            ]
          },
          "metadata": {},
          "execution_count": 25
        },
        {
          "output_type": "display_data",
          "data": {
            "text/plain": [
              "<Figure size 640x480 with 1 Axes>"
            ],
            "image/png": "[encoded data removed]"
          },
          "metadata": {}
        }
      ]
    },
    {
      "cell_type": "markdown",
      "source": [
        "Fits the line very well!  You should be asking yourself why I didn't use a built-in for this.  Well I should.  I picked `scipy` for my package as the code is easier to explain than `scikit-learn`."
      ],
      "metadata": {
        "id": "Jc5N_00b-S4p"
      }
    },
    {
      "cell_type": "code",
      "source": [
        "from scipy import stats\n",
        "\n",
        "stats.linregress(x,y)"
      ],
      "metadata": {
        "id": "YXTBbRuW_s3_",
        "outputId": "9bc74fd3-d4b7-4554-f679-943a00f941c7",
        "colab": {
          "base_uri": "https://localhost:8080/"
        }
      },
      "execution_count": 26,
      "outputs": [
        {
          "output_type": "execute_result",
          "data": {
            "text/plain": [
              "LinregressResult(slope=0.5769230769230769, intercept=4.019230769230769, rvalue=0.9944903161976938, pvalue=0.005509683802306207, stderr=0.04300130725961148, intercept_stderr=0.16929631597749104)"
            ]
          },
          "metadata": {},
          "execution_count": 26
        }
      ]
    },
    {
      "cell_type": "markdown",
      "source": [
        "We see that the slope $\\beta_1$ and intercept $\\beta_0$ agree with our above calculation."
      ],
      "metadata": {
        "id": "CfwoLn3S_8WV"
      }
    },
    {
      "cell_type": "markdown",
      "source": [
        "## $r$ Value\n",
        "\n",
        "The $r$ value is an evaluation of the strength of the fit.  $r$ is called the correlation coefficient and is calculated as\n",
        "$$\n",
        "r_{xy} = \\frac{n\\left(\\bar{xy}-\\bar x\\bar y\\right)}{(n-1)s_xs_y}\n",
        "$$\n",
        "\n",
        "Where $s_x$ is the sample standard deviation $s_x = \\sqrt{\\frac1{n-1}\\sum (x_i-\\bar x)^2}$"
      ],
      "metadata": {
        "id": "4oRoST3vFdH1"
      }
    },
    {
      "cell_type": "markdown",
      "source": [
        "Let's repeat our example and compute this.  The only new thing required is the sample standard deviations."
      ],
      "metadata": {
        "id": "QOCG58PXFial"
      }
    },
    {
      "cell_type": "code",
      "source": [
        "sx = 0\n",
        "\n",
        "for i in x:\n",
        "  sx+= (i-meanx)**2\n",
        "\n",
        "sx/=len(x)-1\n",
        "sx = (sx)**(1/2)\n",
        "\n",
        "\n",
        "sy = 0\n",
        "\n",
        "for i in y:\n",
        "  sy+= (i-meany)**2\n",
        "\n",
        "sy/=len(y)-1\n",
        "sy = (sy)**(1/2)"
      ],
      "metadata": {
        "id": "NR0HMQieIPVB"
      },
      "execution_count": 27,
      "outputs": []
    },
    {
      "cell_type": "code",
      "source": [
        "r = len(x)*(xy - meanx*meany)/((len(x)-1)*sx*sy)\n",
        "\n",
        "r"
      ],
      "metadata": {
        "id": "hRZGeRI6Jzee",
        "outputId": "fe0cb623-6548-4535-936e-01a24ece6b3a",
        "colab": {
          "base_uri": "https://localhost:8080/"
        }
      },
      "execution_count": 28,
      "outputs": [
        {
          "output_type": "execute_result",
          "data": {
            "text/plain": [
              "0.9944903161976939"
            ]
          },
          "metadata": {},
          "execution_count": 28
        }
      ]
    },
    {
      "cell_type": "markdown",
      "source": [
        "Perhaps a better way to consider the correlation coefficient in the terms of the linear fit is to see it under the regression.  The correlation coffiecient can be shown to be\n",
        "\n",
        "$$\n",
        "r^2 = \\frac{SSR}{SST} = \\frac{\\sum(\\hat y_i-\\bar y)^2}{\\sum(y_i-\\bar y)^2}\n",
        "$$\n",
        "\n",
        "So it is giving us a measure of how much the regression varies from the mean compared to the data varying from the mean.  Let's compute this with our data just to see that these are equivalent."
      ],
      "metadata": {
        "id": "9RtkWnnYKmDP"
      }
    },
    {
      "cell_type": "code",
      "source": [
        "SSR = 0\n",
        "SST = 0\n",
        "\n",
        "for i in x:\n",
        "  SSR += (line(i)-meany)**2\n",
        "for i in y:\n",
        "  SST += (i-meany)**2\n",
        "\n",
        "r = (SSR/SST)**(1/2)\n",
        "r"
      ],
      "metadata": {
        "id": "wbypaSOvMOhH",
        "outputId": "97cc527c-a58e-4783-c003-f9df708308ab",
        "colab": {
          "base_uri": "https://localhost:8080/"
        }
      },
      "execution_count": 52,
      "outputs": [
        {
          "output_type": "execute_result",
          "data": {
            "text/plain": [
              "array([1.28388148, 1.28388148, 1.28388148])"
            ]
          },
          "metadata": {},
          "execution_count": 52
        }
      ]
    },
    {
      "cell_type": "markdown",
      "source": [
        "## Multiple Regression\n",
        "\n",
        "For multiple regression, we will ask that there is some linear transformation from $\\vec x$ to $y$.  So we want\n",
        "$$\n",
        "y = \\beta_1x_1 +\\beta_2x_2 +\\cdots +\\beta_n x_n\n",
        "$$\n",
        "\n",
        "We can accomplish this by considering all the $y$ in a column matrix and all the $x$ in a matrix then\n",
        "$$\n",
        "Y = X\\mathbf{\\beta}\n",
        "$$\n",
        "\n",
        "But we want to find the $\\mathbf{\\beta}$ that solve this equation.  We assume that $X$ is rank $n$, then $X^TX$ is invertible so\n",
        "$$\n",
        "X^TY = X^TX\\beta\n",
        "$$\n",
        "so\n",
        "$$\n",
        "\\beta = \\left(X^TX\\right)^{-1}X^TY\n",
        "$$"
      ],
      "metadata": {
        "id": "XCRujLZ6BneJ"
      }
    },
    {
      "cell_type": "markdown",
      "source": [
        "### Example\n",
        "\n",
        "Let's use the same example from above and compute the linear regression in a multiple regression system.  To do this, you add the intercept by creating a column of 1's in the $X$ matrix, `np.ones` is perfect for this.  Matrix multiplication is in the `numpy` package with `@` and matrix inverse can be done with `np.linalg.inv`"
      ],
      "metadata": {
        "id": "eVSCP4rBYcAn"
      }
    },
    {
      "cell_type": "code",
      "execution_count": 30,
      "metadata": {
        "id": "-HH5pppHJcbJ",
        "outputId": "07ab2471-e7d0-4a57-eb85-3704ab775318",
        "colab": {
          "base_uri": "https://localhost:8080/"
        }
      },
      "outputs": [
        {
          "output_type": "stream",
          "name": "stdout",
          "text": [
            "[[0. 1.]\n",
            " [3. 1.]\n",
            " [7. 1.]\n",
            " [2. 1.]]\n"
          ]
        }
      ],
      "source": [
        "x = np.array([[0,3,7,2],np.ones(4)]).T\n",
        "y = np.array([4,6,8,5])\n",
        "\n",
        "print(x)"
      ]
    },
    {
      "cell_type": "code",
      "source": [
        "a,b = np.linalg.inv(x.T@x)@(x.T@y)\n",
        "print(a,b)"
      ],
      "metadata": {
        "id": "a2Nwmi0KZTpO",
        "outputId": "291b815c-25f4-4fac-ca6e-e4d4788c2cf8",
        "colab": {
          "base_uri": "https://localhost:8080/"
        }
      },
      "execution_count": 31,
      "outputs": [
        {
          "output_type": "stream",
          "name": "stdout",
          "text": [
            "0.5769230769230764 4.019230769230767\n"
          ]
        }
      ]
    },
    {
      "cell_type": "markdown",
      "source": [
        "### Example with Categorical Variables\n",
        "\n",
        "I am going to add a categorical variable to my baby example and show how we would include that.  $(0,4,yes),(3,6,no),(7,8,yes),(2,5,no)$,\n",
        "\n",
        "Since my dataset is tiny, I could do it by hand but what fun would that be?"
      ],
      "metadata": {
        "id": "AMb3Q5NDbU8b"
      }
    },
    {
      "cell_type": "code",
      "source": [
        "x = np.array([[0,3,7,2],['yes','no','yes','no']]).T\n",
        "y = np.array([4,6,7,5])\n",
        "\n",
        "x"
      ],
      "metadata": {
        "id": "5xgENpLPar2c",
        "outputId": "bc640820-ac4c-40ec-9c87-603929f9c4c1",
        "colab": {
          "base_uri": "https://localhost:8080/"
        }
      },
      "execution_count": 45,
      "outputs": [
        {
          "output_type": "execute_result",
          "data": {
            "text/plain": [
              "array([['0', 'yes'],\n",
              "       ['3', 'no'],\n",
              "       ['7', 'yes'],\n",
              "       ['2', 'no']], dtype='<U21')"
            ]
          },
          "metadata": {},
          "execution_count": 45
        }
      ]
    },
    {
      "cell_type": "markdown",
      "source": [
        "I have printed the column of categorical variables.  I will next change it via a one-hot-encoding.  Again I could use the `scikit-learn` package but I am not.\n",
        "\n",
        "I grab the column that has the categorical variables, find the different values it can be and then add columns to the `x` matrix with the indicator variable."
      ],
      "metadata": {
        "id": "4OuRqJbHc178"
      }
    },
    {
      "cell_type": "code",
      "source": [
        "allTheOptionsForCategrocial = np.unique(x[:,1])\n",
        "allTheOptionsForCategrocial"
      ],
      "metadata": {
        "id": "gpwFLDUtcuA4",
        "outputId": "cde86904-4398-4d86-870c-70a629bfd784",
        "colab": {
          "base_uri": "https://localhost:8080/"
        }
      },
      "execution_count": 46,
      "outputs": [
        {
          "output_type": "execute_result",
          "data": {
            "text/plain": [
              "array(['no', 'yes'], dtype='<U21')"
            ]
          },
          "metadata": {},
          "execution_count": 46
        }
      ]
    },
    {
      "cell_type": "code",
      "source": [
        "for i in allTheOptionsForCategrocial:\n",
        "  x = np.append(x,1*(x[:,1] == i)[...,None], 1)"
      ],
      "metadata": {
        "id": "mTNc4er2dPHs"
      },
      "execution_count": 47,
      "outputs": []
    },
    {
      "cell_type": "code",
      "source": [
        "x"
      ],
      "metadata": {
        "id": "6XbvJwamdXAU",
        "outputId": "c7498902-219f-4624-e7f0-d0db0f878845",
        "colab": {
          "base_uri": "https://localhost:8080/"
        }
      },
      "execution_count": 48,
      "outputs": [
        {
          "output_type": "execute_result",
          "data": {
            "text/plain": [
              "array([['0', 'yes', '0', '1'],\n",
              "       ['3', 'no', '1', '0'],\n",
              "       ['7', 'yes', '0', '1'],\n",
              "       ['2', 'no', '1', '0']], dtype='<U21')"
            ]
          },
          "metadata": {},
          "execution_count": 48
        }
      ]
    },
    {
      "cell_type": "markdown",
      "source": [
        "I've added the columns for the indicator.  Now I will remove the categorical one so all entries are numeric."
      ],
      "metadata": {
        "id": "FId5syc-foQ8"
      }
    },
    {
      "cell_type": "code",
      "source": [
        "x = x[:,[0,2,3]]\n",
        "\n",
        "x\n"
      ],
      "metadata": {
        "id": "NMUwIbFjdZIy",
        "outputId": "857263fe-6beb-4b90-cff2-922f2fe1d19a",
        "colab": {
          "base_uri": "https://localhost:8080/"
        }
      },
      "execution_count": 49,
      "outputs": [
        {
          "output_type": "execute_result",
          "data": {
            "text/plain": [
              "array([['0', '0', '1'],\n",
              "       ['3', '1', '0'],\n",
              "       ['7', '0', '1'],\n",
              "       ['2', '1', '0']], dtype='<U21')"
            ]
          },
          "metadata": {},
          "execution_count": 49
        }
      ]
    },
    {
      "cell_type": "markdown",
      "source": [
        "Some reason everything is a char so I'll convert back to floats."
      ],
      "metadata": {
        "id": "_hx7-f2QgfoL"
      }
    },
    {
      "cell_type": "code",
      "source": [
        "x = np.float64(x)\n",
        "x"
      ],
      "metadata": {
        "id": "vtc3KB0sgE7U",
        "outputId": "4779fc98-4ad0-43b8-902b-e2fe8aaba562",
        "colab": {
          "base_uri": "https://localhost:8080/"
        }
      },
      "execution_count": 50,
      "outputs": [
        {
          "output_type": "execute_result",
          "data": {
            "text/plain": [
              "array([[0., 0., 1.],\n",
              "       [3., 1., 0.],\n",
              "       [7., 0., 1.],\n",
              "       [2., 1., 0.]])"
            ]
          },
          "metadata": {},
          "execution_count": 50
        }
      ]
    },
    {
      "cell_type": "markdown",
      "source": [
        "Time for the formula!"
      ],
      "metadata": {
        "id": "H2xi0FcpgnAk"
      }
    },
    {
      "cell_type": "code",
      "source": [
        "result = np.linalg.inv(x.T@x)@(x.T@y)\n",
        "\n",
        "result"
      ],
      "metadata": {
        "id": "iQmZfBsyeTzw",
        "outputId": "2d13e3f1-73be-4d25-a747-b97f22657783",
        "colab": {
          "base_uri": "https://localhost:8080/"
        }
      },
      "execution_count": 51,
      "outputs": [
        {
          "output_type": "execute_result",
          "data": {
            "text/plain": [
              "array([0.44, 4.4 , 3.96])"
            ]
          },
          "metadata": {},
          "execution_count": 51
        }
      ]
    },
    {
      "cell_type": "markdown",
      "source": [
        "Interpreting this insists that slope for numeric is 0.44 but if you have a 'no' you have intercept of 4.4 where as if you have a 'yes' your intercept is 3.96.  This answer is very similar to before!"
      ],
      "metadata": {
        "id": "GLq-altCgp-z"
      }
    },
    {
      "cell_type": "markdown",
      "source": [
        "We compute the multiple coeffiecint of determination, $R^2$ value as $\\frac{SSR}{SST}$"
      ],
      "metadata": {
        "id": "5mNfffJ1V2L7"
      }
    },
    {
      "cell_type": "code",
      "source": [
        "def predict(x):\n",
        "  return sum(x[i]*result[i] for i in range(3))\n",
        "\n",
        "SSR = 0\n",
        "SST = 0\n",
        "meany = sum(y)/n\n",
        "\n",
        "for i in x:\n",
        "  SSR += (predict(i)-meany)**2\n",
        "for i in y:\n",
        "  SST += (i-meany)**2\n",
        "\n",
        "r = (SSR/SST)**(1/2)\n",
        "r"
      ],
      "metadata": {
        "id": "j1h2g4wkWu2U",
        "outputId": "eeae5774-0a00-4487-df2c-21e05ebdc825",
        "colab": {
          "base_uri": "https://localhost:8080/"
        }
      },
      "execution_count": 53,
      "outputs": [
        {
          "output_type": "execute_result",
          "data": {
            "text/plain": [
              "0.9838699100999083"
            ]
          },
          "metadata": {},
          "execution_count": 53
        }
      ]
    },
    {
      "cell_type": "markdown",
      "source": [
        "### Other Regressions\n"
      ],
      "metadata": {
        "id": "L2JmS-94e9Il"
      }
    },
    {
      "cell_type": "markdown",
      "source": [
        "#### Exponential\n",
        "\n",
        "\n",
        "Many other regressions can be expressed as the linear regression.  For example, you suspect an exponential growth.  \n",
        "$$\n",
        "y = ce^{ax}\n",
        "$$\n",
        "It is enough to take the log of your output $y$ and fit a linear regression since\n",
        "$$\n",
        "\\log y = \\log(ce^{ax}) = \\log c + ax = \\beta_0+\\beta_1x.\n",
        "$$\n",
        "\n",
        "So transform your $y$ values via the logarithm.  Fit with a linear regression.  Make sure to interpret your predictions correctly when making them."
      ],
      "metadata": {
        "id": "vVxgaDOVFAk5"
      }
    },
    {
      "cell_type": "markdown",
      "source": [
        "#### Polynomial\n",
        "\n",
        "Sometime we might be interested in a polynomial expansion, $\\hat y = \\beta_0+\\beta_1x+\\beta_2 x^2+\\cdots+\\beta_nx^n$.  To deal with this, we transform our x variable, computing $x^2$, $x^3$, etc.  Add these new columns to the multiple regression matrix and compute the multiple linear regression.  Again we should be careful of predcitions and confidence intervals as they are not the same as in the linear case."
      ],
      "metadata": {
        "id": "FWM5e_pEFEor"
      }
    },
    {
      "cell_type": "markdown",
      "source": [
        "## Logistic Regression\n",
        "\n",
        "Often we are interested in assigning a probability of a certain outcome based on another variable.  Consider the example of passing your operations research test based on how many hours you studied.  Below is survey results of number of hours studied and an indeicator for passing\n",
        "$$\n",
        "(10,1),(5,1),(5,0),(1,0)\n",
        "$$\n",
        "\n",
        "We want to be able to figure out your likelyhood of passing based on the number of hours you study."
      ],
      "metadata": {
        "id": "VDxD02afAb8x"
      }
    },
    {
      "cell_type": "code",
      "source": [
        "x = np.array([[10],[5],[5],[1]])\n",
        "y = np.array([1,1,0,0])\n"
      ],
      "metadata": {
        "id": "GnTLnohsf9CW"
      },
      "execution_count": 39,
      "outputs": []
    },
    {
      "cell_type": "markdown",
      "source": [
        "This was especially difficult in that it requires an advanced numerical method, not simply a transformation like the above.  Therefore I will use the `scikit-learn` package."
      ],
      "metadata": {
        "id": "mUN2Uh-GF6sY"
      }
    },
    {
      "cell_type": "code",
      "source": [
        "from sklearn.linear_model import LogisticRegression\n",
        "\n",
        "logreg = LogisticRegression()\n",
        "logreg.fit(x, y)"
      ],
      "metadata": {
        "id": "n4_u7-P0DWM2",
        "outputId": "e20cee14-e34e-44a2-d9b0-ba8eae6a01c7",
        "colab": {
          "base_uri": "https://localhost:8080/",
          "height": 75
        }
      },
      "execution_count": 40,
      "outputs": [
        {
          "output_type": "execute_result",
          "data": {
            "text/plain": [
              "LogisticRegression()"
            ],
            "text/html": [
              "<style>#sk-container-id-1 {color: black;background-color: white;}#sk-container-id-1 pre{padding: 0;}#sk-container-id-1 div.sk-toggleable {background-color: white;}#sk-container-id-1 label.sk-toggleable__label {cursor: pointer;display: block;width: 100%;margin-bottom: 0;padding: 0.3em;box-sizing: border-box;text-align: center;}#sk-container-id-1 label.sk-toggleable__label-arrow:before {content: \"▸\";float: left;margin-right: 0.25em;color: #696969;}#sk-container-id-1 label.sk-toggleable__label-arrow:hover:before {color: black;}#sk-container-id-1 div.sk-estimator:hover label.sk-toggleable__label-arrow:before {color: black;}#sk-container-id-1 div.sk-toggleable__content {max-height: 0;max-width: 0;overflow: hidden;text-align: left;background-color: #f0f8ff;}#sk-container-id-1 div.sk-toggleable__content pre {margin: 0.2em;color: black;border-radius: 0.25em;background-color: #f0f8ff;}#sk-container-id-1 input.sk-toggleable__control:checked~div.sk-toggleable__content {max-height: 200px;max-width: 100%;overflow: auto;}#sk-container-id-1 input.sk-toggleable__control:checked~label.sk-toggleable__label-arrow:before {content: \"▾\";}#sk-container-id-1 div.sk-estimator input.sk-toggleable__control:checked~label.sk-toggleable__label {background-color: #d4ebff;}#sk-container-id-1 div.sk-label input.sk-toggleable__control:checked~label.sk-toggleable__label {background-color: #d4ebff;}#sk-container-id-1 input.sk-hidden--visually {border: 0;clip: rect(1px 1px 1px 1px);clip: rect(1px, 1px, 1px, 1px);height: 1px;margin: -1px;overflow: hidden;padding: 0;position: absolute;width: 1px;}#sk-container-id-1 div.sk-estimator {font-family: monospace;background-color: #f0f8ff;border: 1px dotted black;border-radius: 0.25em;box-sizing: border-box;margin-bottom: 0.5em;}#sk-container-id-1 div.sk-estimator:hover {background-color: #d4ebff;}#sk-container-id-1 div.sk-parallel-item::after {content: \"\";width: 100%;border-bottom: 1px solid gray;flex-grow: 1;}#sk-container-id-1 div.sk-label:hover label.sk-toggleable__label {background-color: #d4ebff;}#sk-container-id-1 div.sk-serial::before {content: \"\";position: absolute;border-left: 1px solid gray;box-sizing: border-box;top: 0;bottom: 0;left: 50%;z-index: 0;}#sk-container-id-1 div.sk-serial {display: flex;flex-direction: column;align-items: center;background-color: white;padding-right: 0.2em;padding-left: 0.2em;position: relative;}#sk-container-id-1 div.sk-item {position: relative;z-index: 1;}#sk-container-id-1 div.sk-parallel {display: flex;align-items: stretch;justify-content: center;background-color: white;position: relative;}#sk-container-id-1 div.sk-item::before, #sk-container-id-1 div.sk-parallel-item::before {content: \"\";position: absolute;border-left: 1px solid gray;box-sizing: border-box;top: 0;bottom: 0;left: 50%;z-index: -1;}#sk-container-id-1 div.sk-parallel-item {display: flex;flex-direction: column;z-index: 1;position: relative;background-color: white;}#sk-container-id-1 div.sk-parallel-item:first-child::after {align-self: flex-end;width: 50%;}#sk-container-id-1 div.sk-parallel-item:last-child::after {align-self: flex-start;width: 50%;}#sk-container-id-1 div.sk-parallel-item:only-child::after {width: 0;}#sk-container-id-1 div.sk-dashed-wrapped {border: 1px dashed gray;margin: 0 0.4em 0.5em 0.4em;box-sizing: border-box;padding-bottom: 0.4em;background-color: white;}#sk-container-id-1 div.sk-label label {font-family: monospace;font-weight: bold;display: inline-block;line-height: 1.2em;}#sk-container-id-1 div.sk-label-container {text-align: center;}#sk-container-id-1 div.sk-container {/* jupyter's `normalize.less` sets `[hidden] { display: none; }` but bootstrap.min.css set `[hidden] { display: none !important; }` so we also need the `!important` here to be able to override the default hidden behavior on the sphinx rendered scikit-learn.org. See: https://github.com/scikit-learn/scikit-learn/issues/21755 */display: inline-block !important;position: relative;}#sk-container-id-1 div.sk-text-repr-fallback {display: none;}</style><div id=\"sk-container-id-1\" class=\"sk-top-container\"><div class=\"sk-text-repr-fallback\"><pre>LogisticRegression()</pre><b>In a Jupyter environment, please rerun this cell to show the HTML representation or trust the notebook. <br />On GitHub, the HTML representation is unable to render, please try loading this page with nbviewer.org.</b></div><div class=\"sk-container\" hidden><div class=\"sk-item\"><div class=\"sk-estimator sk-toggleable\"><input class=\"sk-toggleable__control sk-hidden--visually\" id=\"sk-estimator-id-1\" type=\"checkbox\" checked><label for=\"sk-estimator-id-1\" class=\"sk-toggleable__label sk-toggleable__label-arrow\">LogisticRegression</label><div class=\"sk-toggleable__content\"><pre>LogisticRegression()</pre></div></div></div></div></div>"
            ]
          },
          "metadata": {},
          "execution_count": 40
        }
      ]
    },
    {
      "cell_type": "code",
      "source": [
        "xs = np.linspace(0,10,100)\n",
        "xs = xs.reshape(100,1)\n",
        "ys = logreg.predict_proba(xs)\n",
        "\n",
        "plt.plot(xs,ys)\n",
        "plt.scatter(x,y)"
      ],
      "metadata": {
        "id": "nDmyNkMdDr3f",
        "outputId": "b69d8c83-799b-410e-900c-adf8393e04aa",
        "colab": {
          "base_uri": "https://localhost:8080/",
          "height": 448
        }
      },
      "execution_count": 41,
      "outputs": [
        {
          "output_type": "execute_result",
          "data": {
            "text/plain": [
              "<matplotlib.collections.PathCollection at 0x7c733d54c1c0>"
            ]
          },
          "metadata": {},
          "execution_count": 41
        },
        {
          "output_type": "display_data",
          "data": {
            "text/plain": [
              "<Figure size 640x480 with 1 Axes>"
            ],
            "image/png": "[encoded data removed]"
          },
          "metadata": {}
        }
      ]
    },
    {
      "cell_type": "markdown",
      "source": [
        "There is clearly some weirdness here.  Partially this is the lack of data.  But you should get the idea on how to fit.  The reshaping of the `np.arrays` was annoying but nesseccary to get the fit done.\n",
        "\n",
        "I want to repeat the regression with some data I got from wikipedia."
      ],
      "metadata": {
        "id": "FfuNk9ZDIVsg"
      }
    },
    {
      "cell_type": "code",
      "source": [
        "x = [ \t0.50, \t0.75, \t1.00, \t1.25, \t1.50, \t1.75, \t1.75, \t2.00, \t2.25, \t2.50, \t2.75, \t3.00, \t3.25, \t3.50, \t4.00, \t4.25, \t4.50, \t4.75, \t5.00, \t5.50]\n",
        "y = [\t0 ,\t0 ,\t0 ,\t0 ,\t0 ,\t0 ,\t1 ,\t0 ,\t1 ,\t0 ,\t1 ,\t0 ,\t1 ,\t0 ,\t1 ,\t1 ,\t1 ,\t1, \t1, \t1 ]"
      ],
      "metadata": {
        "id": "_uqfOl6iEXtm"
      },
      "execution_count": 42,
      "outputs": []
    },
    {
      "cell_type": "code",
      "source": [
        "x = np.array(x).reshape(20,1)\n",
        "\n",
        "logreg = LogisticRegression()\n",
        "logreg.fit(x, y)\n",
        "\n",
        "xs = np.linspace(0,6,100)\n",
        "xs = xs.reshape(100,1)\n",
        "ys = logreg.predict_proba(xs)\n",
        "\n",
        "plt.plot(xs,ys)\n",
        "plt.scatter(x,y)"
      ],
      "metadata": {
        "id": "KnsY-vazFJeN",
        "outputId": "518d152f-e168-456e-bf4e-45591626a026",
        "colab": {
          "base_uri": "https://localhost:8080/",
          "height": 448
        }
      },
      "execution_count": 43,
      "outputs": [
        {
          "output_type": "execute_result",
          "data": {
            "text/plain": [
              "<matplotlib.collections.PathCollection at 0x7c733d5c1d20>"
            ]
          },
          "metadata": {},
          "execution_count": 43
        },
        {
          "output_type": "display_data",
          "data": {
            "text/plain": [
              "<Figure size 640x480 with 1 Axes>"
            ],
            "image/png": "[encoded data removed]"
          },
          "metadata": {}
        }
      ]
    },
    {
      "cell_type": "code",
      "source": [],
      "metadata": {
        "id": "-CHPG6BnKI8m"
      },
      "execution_count": 43,
      "outputs": []
    }
  ]
}