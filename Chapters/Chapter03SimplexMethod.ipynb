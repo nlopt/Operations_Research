{
  "cells": [
    {
      "cell_type": "markdown",
      "metadata": {
        "id": "view-in-github",
        "colab_type": "text"
      },
      "source": [
        "<a href=\"https://colab.research.google.com/github/nurfnick/Operations_Research/blob/main/Chapters/Chapter03SimplexMethod.ipynb\" target=\"_parent\"><img src=\"https://colab.research.google.com/assets/colab-badge.svg\" alt=\"Open In Colab\"/></a>"
      ]
    },
    {
      "cell_type": "markdown",
      "metadata": {
        "id": "i_4QVqdV96a6"
      },
      "source": [
        "# Simplex Method"
      ]
    },
    {
      "cell_type": "markdown",
      "metadata": {
        "id": "woaZjkArTMAh"
      },
      "source": [
        "## Introduction\n",
        "\n",
        "\n",
        "\n",
        "\n"
      ]
    },
    {
      "cell_type": "markdown",
      "metadata": {
        "id": "lKQIFlcHw4p4"
      },
      "source": [
        "Before we head into the topic Simplex Method, it's essential to know what is Simplex Method? It is a combination of two terms, simplex and method where simplex stands for simple/basic and method means a systematic procedure or technique to accomplish the goal. Basically, Simplex Method, here in operation research, is an approach to solve linear programming models simply by hands using various means such as slack variables, tableaus, and pivot variables as a motive to find the optimal solution of an optimization problem.\n",
        "\n",
        " The Simplex Method can be defined as a method for entering inequalities into a matrix and the keys to row-reduce that matrix. This method  also is applicable to any number of independent variables , making graphing unnecessary(Todd O. P16)."
      ]
    },
    {
      "cell_type": "markdown",
      "metadata": {
        "id": "DVKCnmI8UBTG"
      },
      "source": [
        "### Historical Background"
      ]
    },
    {
      "cell_type": "markdown",
      "metadata": {
        "id": "5GgWvxZMYjTU"
      },
      "source": [
        "For linear programming problems involving two variables, the graphical solution method is convenient. However, for problems involving more than two variables or problems involving a large number of constraints, it is better to use solution methods that are adaptable to computers which is developed by George Dantzig in 1946, known as simplex method. Looking at the history of development of Simplex Method, George Dantzig is found to be working on planning methods for the US Army Air Force during World War II using a desk calculator . That’s when, the simplex method is invented .\n",
        "\n",
        "Dantzig’s simplex method should not be confused with the downhill simplex method(Spendely 1962, Nelder and Mead , 1965, Press et al.1992). The latter method solves an unconstrained  minimization problem in n dimensions by maintaining at each iteration  n+1 points that define a simplex. At each iteration , this simplex is updated by applying certain transformation to it so that it “rolls downhill” until it finds a minimum.\n",
        "\n",
        "\n",
        "\n",
        "\n"
      ]
    },
    {
      "cell_type": "markdown",
      "metadata": {
        "id": "hICtpCcsOV43"
      },
      "source": [
        "### Theory"
      ]
    },
    {
      "cell_type": "markdown",
      "metadata": {
        "id": "ASYl68gXOZxr"
      },
      "source": [
        "A linear program is a method of achieving the best outcome given a maximum or minimum equation with linear constraints.  Most linear programs can be solved using an online solver such as MatLab, but the Simplex method is a technique for solving linear programs by hand.\n",
        "\n",
        "To solve a linear programming model using the Simplex method the following steps are necessary:\n",
        "\n",
        "1. Standard form\n",
        "2. Introducing slack variables\n",
        "3. Creating the tableau\n",
        "4. Pivot variables\n",
        "5. Creating a new tableau\n",
        "6. Checking for optimality\n",
        "7. Identify optimal values>"
      ]
    },
    {
      "cell_type": "markdown",
      "metadata": {
        "id": "sS9CKHTwTt92"
      },
      "source": [
        "**Step 1: Standard Form**\n",
        "\n",
        " It is considered as baseline format for all linear programs before solving for the optimal solution. While solving the problem, it must meet the three significant criteria:-\n",
        "\n",
        "\n",
        "1.   The problem should be a maximization problem.\n",
        "2.   All linear constraints must be in a less-than-or-equal-to inequality.\n",
        "3.   All variables are in the problem should be non-negative.\n",
        "\n",
        "To change minimization linear program model into a maximization linear program model, Multiply both sides of the problem i.e. LHS and RHS of an inequality by -1. It gives us form less-than-or-equal-to inequality.\n",
        "\n",
        "\n",
        "\n"
      ]
    },
    {
      "cell_type": "markdown",
      "metadata": {
        "id": "9mazFf6hUaGP"
      },
      "source": [
        "**Step 2: Introducing Slack Variables**\n",
        "\n",
        "\n",
        " Slack variables are introduced into the linear constraints of a linear program to transform them from inequality constraints to equality constraints. Coefficient of slack variables in the standard form is +1. The main motive to use slack variables is to transform constraints into solvable equalities with one definite answer.\n",
        "  \n",
        "\n"
      ]
    },
    {
      "cell_type": "markdown",
      "metadata": {
        "id": "Qvh-fOXlU-sI"
      },
      "source": [
        "**Step 3: Tableau**\n",
        "\n",
        "\n",
        "> Simplex tableau is used to perform row operations on the linear programming model. Tableau consists of the coefficient corresponding to the linear constraint variables and the\n",
        "coefficients of the objective function\n",
        "\n",
        "\n"
      ]
    },
    {
      "cell_type": "markdown",
      "metadata": {
        "id": "e4xXcusoVPNE"
      },
      "source": [
        "**Step 4: Check Optimality**\n",
        "\n",
        "\n",
        " Optimal solution are those values assigned to the variables in the objective function to give the largest zeta value. To check optimality using the tableau, all values in the last row must contain values greater than or equal to zero. For not optimal solution/negative values, the next step is to identify the pivot variable to base a new tableau on\n",
        "\n",
        "\n"
      ]
    },
    {
      "cell_type": "markdown",
      "metadata": {
        "id": "mMheVDVzVcth"
      },
      "source": [
        "**Step 5: Identify Pivot Variables**\n",
        "\n",
        "\n",
        " Pivot variable is used in row operations to identify which variable will become the unit value and is a key factor in the conversion of the unit value.\n",
        "\n",
        "\n",
        " Pivot Operation is performed on the Tableau wherever presence of most negative indicator is found in the last row. We take that specific column. We pivot by taking corresponding ratio: i.e. Taking constant diving by entry in pivot column. After that,compare which is the smallest non-negative entry in that ratio and we pivot on that entry making it 1 and rest of the entry in that column 0.\n",
        "\n",
        "\n",
        "\n",
        "\n"
      ]
    },
    {
      "cell_type": "markdown",
      "metadata": {
        "id": "r6EwZp2fWBOH"
      },
      "source": [
        "**Step 6: Creation of New Tableau**\n",
        "\n",
        "\n",
        " We write down all the result in the new table with changes in the rows and columns after pivot operation. Identify a new possible optimal solution.\n",
        "If last row still has negative, we process/ continue pivot operation till last row have positive values.\n",
        "\n",
        "\n"
      ]
    },
    {
      "cell_type": "markdown",
      "metadata": {
        "id": "d-XYi1KSWLEt"
      },
      "source": [
        "**Step 7: Check Optimality and Identify optimal values**\n",
        "\n",
        "\n",
        " After our all non-negative values are presented in the last row, the value of zeta(the one optimal solution) we are seeking for can be found.\n",
        "\n",
        "\n"
      ]
    },
    {
      "cell_type": "markdown",
      "metadata": {
        "id": "CBGtg87qu4Pt"
      },
      "source": [
        "### Simplex Method In Real Life"
      ]
    },
    {
      "cell_type": "markdown",
      "metadata": {
        "id": "LaW1J0MWu9Oo"
      },
      "source": [
        ">With the simplex method you could minimize (find out what to produce and at what quantities) to make the most of your resources which means you spend less making the products and maximize the specific sector you want as earnings, production, and so on.If you're worried about profits then you could maximize given the profit you make for each product and this (Simplex Method) will give you suggestions on what what to produce and at what quantities."
      ]
    },
    {
      "cell_type": "markdown",
      "metadata": {
        "id": "Cu0kDa9MUwe3"
      },
      "source": [
        "## Examples"
      ]
    },
    {
      "cell_type": "markdown",
      "metadata": {
        "id": "DbvNxkkGVBT6"
      },
      "source": [
        "### Example 1"
      ]
    },
    {
      "cell_type": "markdown",
      "metadata": {
        "id": "-Nze1elbZ3-b"
      },
      "source": [
        "There are lot's of examples you can work on. However, lets try with this basic three decision variables.\n",
        "\n",
        "Use the simplex method to find the maximum value of (Objective Function)\n",
        "$$\n",
        "z=2x_1-x_2+2x_3\n",
        "$$\n",
        "Subject to the constraints\n",
        "$$\n",
        "$$\n",
        "\n",
        "\\begin{array}{l}\n",
        "2x_1+x_2\\leq 10\\\\\n",
        "x_1+2x_2-2x_3\\leq 20\\\\\n",
        "x_2+2x_3\\leq 5\n",
        "\\end{array}\n",
        "\n",
        "$$\n",
        "$$\n",
        "where $x_1,x_2,x_3\\geq 0$.\n"
      ]
    },
    {
      "cell_type": "markdown",
      "metadata": {
        "id": "A5fBOdwKb7a2"
      },
      "source": [
        "**Solution**\n",
        "\n",
        "Using the basic feasible solution\n",
        "\n",
        "$$\n",
        "(x_1,x_2,x_3,s_1,s_2,s_3)=(0,0,0,10,20,5)\n",
        "$$\n",
        "\n",
        "Here, $s_1, s_2, s_3$ are slack variables which just helped us to convert inequality contraints into an equality.italicized text\n",
        "\n",
        "The following is the initial simplex tableau for this problem. (Try checking these computations, and note the “tie” that occurs when choosing the first entering variable.)\n",
        "\n",
        "\n"
      ]
    },
    {
      "cell_type": "markdown",
      "metadata": {
        "id": "wKeMAcSJfEUh"
      },
      "source": [
        "![SMImg1](https://raw.githubusercontent.com/nurfnick/Operations_Research/main/Drafts/Simplex%20Method/SMImg/SMImg1.png)"
      ]
    },
    {
      "cell_type": "markdown",
      "metadata": {
        "id": "9AF83BuR4TlB"
      },
      "source": [
        ">In the example shown above, -2 is the smallest negative in the last row. This will designate the $x_3$ column to contain the pivot variable. Solving for the indicator gives us a value of 10/0 for the first constraint, and a value of 5/2 for the second constraint.Due to 5/2 being the smallest non-negative indicator, the pivot value will be in the second row and have a value of 2."
      ]
    },
    {
      "cell_type": "markdown",
      "metadata": {
        "id": "I_kI24fl3kEy"
      },
      "source": [
        "![SMImg2](https://raw.githubusercontent.com/nurfnick/Operations_Research/main/Drafts/Simplex%20Method/SMImg/SMImg2.png)"
      ]
    },
    {
      "cell_type": "markdown",
      "metadata": {
        "id": "g4NanCW_54q_"
      },
      "source": [
        ">There is still least negative value in last row, so we have to undergo same previous operation to eliminate the negative value from last row. To optimize the pivot variable, it will need to be transformed into a value of 2."
      ]
    },
    {
      "cell_type": "markdown",
      "metadata": {
        "id": "yPohVyyM3mis"
      },
      "source": [
        "![SMImg3](https://raw.githubusercontent.com/nurfnick/Operations_Research/main/Drafts/Simplex%20Method/SMImg/SMImg3.png)"
      ]
    },
    {
      "cell_type": "markdown",
      "metadata": {
        "id": "7x1WQIko6Wxq"
      },
      "source": [
        ">The last row now is all positive, claiming there is no any negative number left to perform any row operation anymore."
      ]
    },
    {
      "cell_type": "markdown",
      "metadata": {
        "id": "FbGiezlUd4EP"
      },
      "source": [
        ">This implies that the optimal solution is\n",
        "$$\n",
        "(x_1,x_2,x_3,s_1,s_2,s_3)=(5,0,5/2,0,20,0)\n",
        "$$\n",
        "and the maximum value of z is 15."
      ]
    },
    {
      "cell_type": "markdown",
      "metadata": {
        "id": "_TVRXZgR2p_H"
      },
      "source": [
        "### Repeating Example From Previous Chapter"
      ]
    },
    {
      "cell_type": "markdown",
      "metadata": {
        "id": "ifm4TmhbU4u_"
      },
      "source": [
        "A local pillow company designs pillows especially for pregnant and nursing mothers.  There are two pillows that they produce referred here as large and small.  The large pillow requires six yards of fabric, one hour of sewing and eleven pounds of fill.  The small pillow requires seven yards of fabric, three hours of sewing and four pounds of fill.\n",
        "\n",
        "The manager, trying to keep all of this straight creates a table.\n",
        "\n",
        "|Pillow|Fabric|Sewing|Fill|\n",
        "|:------:|:------:|:------:|:----:|\n",
        "|Large |6     |1     |11   |\n",
        "|Small |7     |3     |4   |\n",
        "\n",
        ">The manager being an astute business man, wants to limit inventory and labor.  Each week they can source 1370 yards of fabric and 1540 pounds of fill.  With a work crew that can do at most 540 hours of labour each week.  He adds this information to his table feeling very satisfied.\n",
        "\n",
        "|Pillow|Fabric|Sewing|Fill|\n",
        "|:------:|:------:|:------:|:----:|\n",
        "|Large |6     |1     |11   |\n",
        "|Small |7     |3     |4   |\n",
        "|Weekly Max| 1370|540|1540|\n",
        "\n",
        ">Using some hueristics, the manager cranks out some pillows of each type every week.  One day an intrept intern asks, \"Are we maximizing our profit?\"  The large pillow sells for a $\\$ $3 profit, while the small pillow sells for a $\\$ $2 profit.  The intern adds this to the table but still does not know if they are maximizing profit.\n",
        "\n",
        "|Pillow|Fabric|Sewing|Fill|Profit|\n",
        "|:------:|:------:|:------:|:----:|:---:|\n",
        "|Large |6     |1     |11   |3\n",
        "|Small |7     |3     |4   |2\n",
        "|Weekly Max| 1370|540|1540|???\n",
        "\n",
        "\n"
      ]
    },
    {
      "cell_type": "markdown",
      "metadata": {
        "id": "p8nzWdPuqejS"
      },
      "source": [
        "**Solution**\n",
        "\n",
        "\n",
        " The intern continues down this line of thought and comes up with a way to maximize the number of pillows produced.  They let $x$ be the number of large pillows and $y$ be the number of small pillows.  They create a system of inequalities. Now, rewrote the given question into an objective function and the constraints.\n",
        "\n",
        "The problem is executed in following way:\n",
        "$$\n",
        "\\left\\{\n",
        "\\begin{array}{l}\n",
        "6x+7y\\leq 1370\\\\\n",
        "x+3y\\leq 540\\\\\n",
        "11x+4y\\leq 1540\n",
        "\\end{array}\n",
        "\\right.\n",
        "$$\n",
        "\n",
        "We now create the tableau with this information and our objective function, contraint and slack variables.  Here all our slack variables are positive (if you happened to have negatives, use -1 in that entry)\n",
        "\n",
        "$$\n",
        "\\left\\{\n",
        "\\begin{array}{l}\n",
        "6x+7y+s_1 =  1370\\\\\n",
        "x+3y+s_2 = 540\\\\\n",
        "11x+4y+s_3 =  1540\n",
        "\\end{array}\n",
        "\\right.\n",
        "$$\n",
        "\n",
        "|Basic|Objective|Large|Small|Slack1|Slack2|Slack3|Solution\n",
        "|:------:|:------:|:------:|:----:|:----:|:----:|:----:|:----:|\n",
        "|Objective|1|-3|-2|0|0|0|0|\n",
        "|Fabric |0|6|7|1|0|0|1370|\n",
        "|Sewing|0|1|3|0|1|0|540|\n",
        "|Fill|0|11|4|0|0|1|1540|"
      ]
    },
    {
      "cell_type": "markdown",
      "source": [
        "Using this table we need to identify the first pivot.  We take the coefficients of the `Large` and compare them to the `Solution`.  We will take the smallest ratio and make that the pivot.\n",
        "\n",
        "|Basic|Large|Solution|Ratio\n",
        "|:------:|:------:|:------:|:----:|\n",
        "|Fabric |6|1370|1370/6 = 228.33\n",
        "|Sewing|1|540|540/1 = 540\n",
        "|Fill|11|1540|1540/11 = 140 (min)\n",
        "\n",
        "We see that the fill equation gives us the smallest ratio.  We will use this as the pivot.  The tableau becomes\n",
        "\n",
        "|Basic|Objective|Large|Small|Slack1|Slack2|Slack3|Solution\n",
        "|:------:|:------:|:------:|:----:|:----:|:----:|:----:|:----:|\n",
        "|Objective|1|-3|-2|0|0|0|0|\n",
        "|Fill|0|1|$\\frac{4}{11}$|0|0|$\\frac{1}{11}$|140|\n",
        "|Fabric |0|6|7|1|0|0|1370|\n",
        "|Sewing|0|1|3|0|1|0|540|\n",
        "\n",
        "We use the pivot to eliminate all the Large variables in that column.\n",
        "\n",
        "|Basic|Objective|Large|Small|Slack1|Slack2|Slack3|Solution\n",
        "|:------:|:------:|:------:|:----:|:----:|:----:|:----:|:----:|\n",
        "|Objective|1|0|$-\\frac{10}{11}$|0|0|$\\frac3{11}$|420|\n",
        "|Fill|0|1|$\\frac{4}{11}$|0|0|$\\frac{1}{11}$|140|\n",
        "|Fabric |0|0|$\\frac{53}{11}$|1|0|$-\\frac6{11}$|530|\n",
        "|Sewing|0|0|$\\frac{29}{11}$|0|1|$-\\frac1{11}$|300|\n",
        "\n",
        "Now we'll find the next pivot.\n",
        "\n",
        "|Basic|Small|Solution|Ratio\n",
        "|:------:|:------:|:------:|:----:|\n",
        "|Fill |$\\frac4{11}$|140|140/(4/11) = 385\n",
        "|Fabric|$\\frac{53}{11}$|530|530/(53/11) = 110 (min)\n",
        "|Sewing|$\\frac{29}{11}$|300|300/(29/11) = 113.79\n",
        "\n",
        "So `Fabric` will be the final pivot.  Make the pivot with\n",
        "\n",
        "|Basic|Objective|Large|Small|Slack1|Slack2|Slack3|Solution\n",
        "|:------:|:------:|:------:|:----:|:----:|:----:|:----:|:----:|\n",
        "|Objective|1|0|$-\\frac{10}{11}$|0|0|$\\frac3{11}$|420|\n",
        "|Fill|0|1|$\\frac{4}{11}$|0|0|$\\frac{1}{11}$|140|\n",
        "|Fabric |0|0|1|$\\frac{11}{53}$|0|$-\\frac6{53}$|110|\n",
        "|Sewing|0|0|$\\frac{29}{11}$|0|1|$-\\frac1{11}$|300|\n",
        "\n",
        "Eliminate in that column.  I just simply do the `Objective` and `Fill` as I am finished there.\n",
        "\n",
        "|Basic|Objective|Large|Small|Slack1|Slack2|Slack3|Solution\n",
        "|:------:|:------:|:------:|:----:|:----:|:----:|:----:|:----:|\n",
        "|Objective|1|0|0|$\\frac{10}{53}$|0|$\\frac9{53}$|520|\n",
        "|Fill|0|1|0|$-\\frac4{53}$|0|$\\frac{7}{53}$|100|\n",
        "|Fabric |0|0|1|$\\frac{11}{53}$|0|$-\\frac6{53}$|110|\n",
        "|Sewing|0|0|0|$-\\frac{29}{53}$|1|$\\frac{11}{53}$|10|\n",
        "\n",
        "We see the solutions appear!  \\$520 was the max profit and that happened when we created 100 large and 110 small.  We also see that the slack on sewing is 10.  The tableau repeats all the previous solutions found!"
      ],
      "metadata": {
        "id": "46XnYdiqAfkw"
      }
    },
    {
      "cell_type": "code",
      "execution_count": null,
      "metadata": {
        "colab": {
          "base_uri": "https://localhost:8080/"
        },
        "id": "gCDmKpt4hk5t",
        "outputId": "98ddbb18-c272-4b04-fd86-18d651301669"
      },
      "outputs": [
        {
          "data": {
            "text/plain": [
              "array([ 30., 170.])"
            ]
          },
          "execution_count": 39,
          "metadata": {},
          "output_type": "execute_result"
        }
      ],
      "source": [
        "import numpy as np\n",
        "\n",
        "A = np.array([[6,7],[1,3],[11,4]])\n",
        "b = np.array([1370,540,1540])\n",
        "\n",
        "np.linalg.solve(A[0:2,:],b[0:2])"
      ]
    },
    {
      "cell_type": "code",
      "execution_count": null,
      "metadata": {
        "colab": {
          "base_uri": "https://localhost:8080/"
        },
        "id": "p0Pv3YFLhn13",
        "outputId": "f42b86e9-99b6-4c8c-9a49-e05d157b57bf"
      },
      "outputs": [
        {
          "data": {
            "text/plain": [
              "array([ 84.82758621, 151.72413793])"
            ]
          },
          "execution_count": 40,
          "metadata": {},
          "output_type": "execute_result"
        }
      ],
      "source": [
        "np.linalg.solve(A[1:3,:],b[1:3])"
      ]
    },
    {
      "cell_type": "code",
      "execution_count": null,
      "metadata": {
        "colab": {
          "base_uri": "https://localhost:8080/"
        },
        "id": "vfkK3yGHhpbs",
        "outputId": "aaa1d16f-47b7-459b-f20d-ab28582613d5"
      },
      "outputs": [
        {
          "data": {
            "text/plain": [
              "array([100., 110.])"
            ]
          },
          "execution_count": 41,
          "metadata": {},
          "output_type": "execute_result"
        }
      ],
      "source": [
        "np.linalg.solve(A[[0,2],:],b[[0,2]])"
      ]
    },
    {
      "cell_type": "markdown",
      "metadata": {
        "id": "8UdQw40fiXna"
      },
      "source": [
        ">Three lines will have three intersections $\\binom32=3$ We note that the intersection point of the first line and the third line is outside of the feasible region by the second line.  A graph of the feasible set is provided below."
      ]
    },
    {
      "cell_type": "code",
      "execution_count": null,
      "metadata": {
        "colab": {
          "base_uri": "https://localhost:8080/",
          "height": 282
        },
        "id": "w9xu_JhTid41",
        "outputId": "6c7e7f33-f492-4c9b-f52f-c72c25870fd3"
      },
      "outputs": [
        {
          "data": {
            "text/plain": [
              "<matplotlib.collections.PolyCollection at 0x7fb3529e7fd0>"
            ]
          },
          "execution_count": 42,
          "metadata": {},
          "output_type": "execute_result"
        },
        {
          "data": {
            "image/png": "[encoded data removed]",
            "text/plain": [
              "<Figure size 432x288 with 1 Axes>"
            ]
          },
          "metadata": {
            "needs_background": "light"
          },
          "output_type": "display_data"
        }
      ],
      "source": [
        "import matplotlib.pyplot as plt\n",
        "\n",
        "x1= np.arange(0,30,.1)\n",
        "x2= np.arange(30,100,.1)\n",
        "x3 = np.arange(100,140,.1)\n",
        "\n",
        "\n",
        "y1 = (540-1*x1)/3\n",
        "y2 = (1370-6*x2)/7\n",
        "y3 = (1540-11*x3)/4\n",
        "\n",
        "plt.plot(x1,y1, color = \"black\")\n",
        "plt.plot(x2,y2, color = \"black\")\n",
        "plt.plot(x3,y3, color = \"black\")\n",
        "plt.plot(x1,np.zeros(300),x2,np.zeros(700),x3,np.zeros(400), color = \"black\")\n",
        "plt.plot(np.zeros(1800),np.arange(0,180,.1),color = \"black\")\n",
        "plt.scatter(30,170, s = 100, color = \"black\")\n",
        "plt.scatter(100,110, s = 100, color = \"black\")\n",
        "plt.scatter(0,180, s = 100, color = \"black\")\n",
        "plt.scatter(140,0, s = 100, color = \"black\")\n",
        "plt.scatter(0,180, s = 100, color = \"black\")\n",
        "plt.scatter(0,0, s = 100, color = \"black\")\n",
        "plt.fill_between(x1,0,y1, color = \"yellow\")\n",
        "plt.fill_between(x2,0,y2, color = \"yellow\")\n",
        "plt.fill_between(x3,0,y3, color = \"yellow\")"
      ]
    },
    {
      "cell_type": "markdown",
      "metadata": {
        "id": "NwLiSLRbinas"
      },
      "source": [
        ">We should also note that there are corner points at the intersection of the vertical line $x = 0$ and the horizontal line $y=0$ including where those two lines intersect.  The $y$-intercept is found by solving for $y$ in the sewing equation when $x=0$.  The $x$-intercept is found by solving for $y$ in the fill equation when $y=0$."
      ]
    },
    {
      "cell_type": "markdown",
      "metadata": {
        "id": "NrTwxmLoivEQ"
      },
      "source": [
        "> So the intern now knows that any point inside this region is what is possible in any given week!  Now we ask, how to maximize the profit?  Let's get an equation in terms of our set up!\n",
        "\n",
        "$$\n",
        "P= 3x+2y\n",
        "$$\n",
        "\n",
        ">We can pick some values for $P$ and see what happens.  "
      ]
    },
    {
      "cell_type": "code",
      "execution_count": null,
      "metadata": {
        "colab": {
          "base_uri": "https://localhost:8080/",
          "height": 131
        },
        "id": "612nWb9T_MxL",
        "outputId": "5131852d-ebda-49d5-c9e2-f7dade53f568"
      },
      "outputs": [
        {
          "ename": "SyntaxError",
          "evalue": "ignored",
          "output_type": "error",
          "traceback": [
            "\u001b[0;36m  File \u001b[0;32m\"<ipython-input-45-fd086f185daf>\"\u001b[0;36m, line \u001b[0;32m9\u001b[0m\n\u001b[0;31m    plt.plot(x7,(480-3*x7)/2,linestyle = \"dashed\"x1= np.arange(0,30,.1)\u001b[0m\n\u001b[0m                                                  ^\u001b[0m\n\u001b[0;31mSyntaxError\u001b[0m\u001b[0;31m:\u001b[0m invalid syntax\n"
          ]
        }
      ],
      "source": [
        "\n",
        "plt.fill_between(x1,0,y1, color = \"yellow\")\n",
        "plt.fill_between(x2,0,y2, color = \"yellow\")\n",
        "plt.fill_between(x3,0,y3, color = \"yellow\")\n",
        "\n",
        "plt.plot(x4,(210-3*x4)/2,linestyle = \"dashed\", label = \"210\")\n",
        "plt.plot(x5,(300-3*x5)/2,linestyle = \"dashed\", label = \"300\")\n",
        "plt.plot(x6,(390-3*x6)/2,linestyle = \"dashed\", label = \"390\")\n",
        "plt.plot(x7,(480-3*x7)/2,linestyle = \"dashed\"x1= np.arange(0,30,.1)\n",
        "x2= np.arange(30,100,.1)\n",
        "x3 = np.arange(100,140,.1)\n",
        "x4 = np.arange(0,70,.1)\n",
        "x5 = np.arange(0,100,.1)\n",
        "x6 = np.arange(0,130,.1)\n",
        "x7 = np.arange(0,160,.1)\n",
        "\n",
        "y1 = (540-1*x1)/3\n",
        "y2 = (1370-6*x2)/7\n",
        "y3 = (1540-11*x3)/4\n",
        "\n",
        "plt.plot(x1,y1, color = \"black\")\n",
        "plt.plot(x2,y2, color = \"black\")\n",
        "plt.plot(x3,y3, color = \"black\")\n",
        "plt.plot(x1,np.zeros(300),x2,np.zeros(700),x3,np.zeros(400), color = \"black\")\n",
        "plt.plot(np.zeros(1800),np.arange(0,180,.1),color = \"black\")\n",
        "plt.scatter(30,170, s = 100, color = \"black\")\n",
        "plt.scatter(100,110, s = 100, color = \"black\")\n",
        "plt.scatter(0,180, s = 100, color = \"black\")\n",
        "plt.scatter(140,0, s = 100, color = \"black\")\n",
        "plt.scatter(0,180, s = 100, color = \"black\")\n",
        "plt.scatter(0,0, s = 100, color = \"black\"), label = \"480\")\n",
        "plt.legend()\n",
        "plt.show()\n"
      ]
    },
    {
      "cell_type": "markdown",
      "metadata": {
        "id": "ETdSNFp0johg"
      },
      "source": [
        ">We can see that for each of the $P$ values I selected there are some options for the day.  We should also notice that the corner point looks like it will produce a line that just touches it!\n",
        "\n",
        "$$\n",
        "P = 3x + 2y = 3\\cdot100+2\\cdot110 = 520\n",
        "$$\n",
        "\n",
        ">We'll graph that one and see!"
      ]
    },
    {
      "cell_type": "code",
      "execution_count": null,
      "metadata": {
        "colab": {
          "base_uri": "https://localhost:8080/",
          "height": 265
        },
        "id": "i0zRS2rrju0z",
        "outputId": "2d5d5df0-3fac-419b-d651-280a18f1929c"
      },
      "outputs": [
        {
          "data": {
            "image/png": "[encoded data removed]",
            "text/plain": [
              "<Figure size 432x288 with 1 Axes>"
            ]
          },
          "metadata": {
            "needs_background": "light"
          },
          "output_type": "display_data"
        }
      ],
      "source": [
        "x1= np.arange(0,30,.1)\n",
        "x2= np.arange(30,100,.1)\n",
        "x3 = np.arange(100,140,.1)\n",
        "x4 = np.arange(0,70,.1)\n",
        "x5 = np.arange(0,100,.1)\n",
        "x6 = np.arange(0,130,.1)\n",
        "x7 = np.arange(0,160,.1)\n",
        "\n",
        "y1 = (540-1*x1)/3\n",
        "y2 = (1370-6*x2)/7\n",
        "y3 = (1540-11*x3)/4\n",
        "\n",
        "plt.plot(x1,y1, color = \"black\")\n",
        "plt.plot(x2,y2, color = \"black\")\n",
        "plt.plot(x3,y3, color = \"black\")\n",
        "plt.plot(x1,np.zeros(300),x2,np.zeros(700),x3,np.zeros(400), color = \"black\")\n",
        "plt.plot(np.zeros(1800),np.arange(0,180,.1),color = \"black\")\n",
        "plt.scatter(30,170, s = 100, color = \"black\")\n",
        "plt.scatter(100,110, s = 100, color = \"black\")\n",
        "plt.scatter(0,180, s = 100, color = \"black\")\n",
        "plt.scatter(140,0, s = 100, color = \"black\")\n",
        "plt.scatter(0,180, s = 100, color = \"black\")\n",
        "plt.scatter(0,0, s = 100, color = \"black\")\n",
        "plt.fill_between(x1,0,y1, color = \"yellow\")\n",
        "plt.fill_between(x2,0,y2, color = \"yellow\")\n",
        "plt.fill_between(x3,0,y3, color = \"yellow\")\n",
        "\n",
        "\n",
        "plt.plot(x7,(520-3*x7)/2,linestyle = \"dashed\", label = \"520\")\n",
        "plt.legend()\n",
        "plt.show()"
      ]
    },
    {
      "cell_type": "markdown",
      "metadata": {
        "id": "XeHZRmwjjzF4"
      },
      "source": [
        ">Triuphantly the intern tells the boss that we can maximize profits by making 100 large pillows and 110 small pillows!"
      ]
    },
    {
      "cell_type": "markdown",
      "metadata": {
        "id": "LgK2BnlZj5Rl"
      },
      "source": [
        "### Theory"
      ]
    },
    {
      "cell_type": "markdown",
      "metadata": {
        "id": "r013-JrXj4HS"
      },
      "source": [
        ">The theory of linear programming can be stated in terms of the contraints and the objective function.  For a system of linear constraints and linear objective functions, the optimum values (minimum or maximum) will occur on the corner points of the feasible set described by the contraining function.\n",
        "\n",
        ">If we consider that the feasible set of the constraining lines, it will create a polygon with sharp corners.  The linear objective function will cut through the polygon.  Any optimum point will be at one of the corners as the objective function just kisses the edge.\n",
        "\n",
        ">Some care must be taken for unbounded feasible sets, an optimum solution may not be possible with the maximum (or minimum) going to infinity (negative infinity)."
      ]
    },
    {
      "cell_type": "markdown",
      "metadata": {
        "id": "LjKcV70MnToy",
        "tags": []
      },
      "source": [
        "### Slack"
      ]
    },
    {
      "cell_type": "markdown",
      "metadata": {
        "id": "7qo5IRn_net4"
      },
      "source": [
        ">All of the inequalities in the constraint must be met but some will not be on their strict bounds.  This leaves **slack** in those inequalities.  Using our original problem as an example, we see that the sewing equation has some slack.  We could have done more sewing with the maximum profit $(100,110)$.\n",
        "$$\n",
        "x+3y = 100 +330 = 430\\leq 540\n",
        "$$\n",
        ">The inequality is solved but 100 more hours of sewing are available each week.  This is slack in our solution.  "
      ]
    },
    {
      "cell_type": "markdown",
      "metadata": {
        "id": "nINhwYiWnWOA"
      },
      "source": [
        ">The previous problem can actually be restated in terms of slack with the inequalities replaced with equalities.  \n",
        "$$\n",
        "\\left\\{\n",
        "\\begin{array}{l}\n",
        "6x+7y+s_1 =  1370\\\\\n",
        "x+3y +s_2 = 540\\\\\n",
        "11x+4y+ s_3 =  1540\n",
        "\\end{array}\n",
        "\\right.\n",
        "$$\n",
        "\n",
        ">In the optimum solution $s_2=110$ and $s_1=s_3=0$.  For the inequalities to continue to hold we must ask that $s_1,s_2,s_3\\geq 0$.\n",
        "\n",
        ">Actually this insight gives us an alternative approach to solve linear programming problems.  If we restate the contraint in equation form with slack variables, we can formulate the theory as solutions to the system of equations with some of the slack variables set to zero.  Let's see that in action here.\n",
        "\n",
        ">Since I have three equations, I'll be able to get a unique solution if I have three variables.  Currently I have 5, $x,y,s_1,s_2,s_3$.  If we set two of them equal to zero then we will be able to solve the system!\n",
        "\n"
      ]
    },
    {
      "cell_type": "code",
      "execution_count": null,
      "metadata": {
        "colab": {
          "base_uri": "https://localhost:8080/",
          "height": 269
        },
        "id": "P872cU83njf0",
        "outputId": "5b272d64-b8e2-410f-9353-bd9a70a170c2"
      },
      "outputs": [
        {
          "data": {
            "image/png": "[encoded data removed]",
            "text/plain": [
              "<Figure size 432x288 with 1 Axes>"
            ]
          },
          "metadata": {
            "needs_background": "light"
          },
          "output_type": "display_data"
        }
      ],
      "source": [
        "\n",
        "x = np.arange(0,550,.1)\n",
        "\n",
        "y1 = (540-1*x)/3\n",
        "y2 = (1370-6*x)/7\n",
        "y3 = (1540-11*x)/4\n",
        "\n",
        "plt.plot(x,y1, color = \"black\")\n",
        "plt.plot(x,y2, color = \"black\")\n",
        "plt.plot(x,y3, color = \"black\")\n",
        "plt.plot(x,np.zeros(5500), color = \"black\")\n",
        "plt.plot(np.zeros(5500),x, color = \"black\")\n",
        "plt.scatter(30,170, s = 100, color = \"black\")\n",
        "plt.scatter(100,110, s = 100, color = \"blue\")\n",
        "plt.scatter(140,0, s = 100, color = \"yellow\")\n",
        "plt.scatter(0,180, s = 100, color = \"orange\")\n",
        "plt.scatter(0,195.7, s = 100, color = \"pink\")\n",
        "plt.xlim([-1,550])\n",
        "plt.ylim([-1,400])\n",
        "\n",
        "\n",
        "plt.show()"
      ]
    },
    {
      "cell_type": "markdown",
      "metadata": {
        "id": "WH0r-u93npXT"
      },
      "source": [
        ">1. $x=y=0$ This is the orgin in my graph, each slack is it's value and we achieve no profit, $P = \\$0$\n",
        "2. $x = s_1 = 0$ This is the *pink* point that falls outside of the feasible set.\n",
        "3. $x= s_2 = 0$ This is the *orange* point falling inside the feasible set with a profit of $P = 180*2 = \\$360$\n",
        "4. $x = s_3 =0$\n",
        "5. $y = s_1 = 0$\n",
        "6. $y = s_2 = 0$\n",
        "7. $y = s_3 = 0$\n",
        "8. $s_1 = s_2 = 0$\n",
        "9. $s_1 = s_3 = 0$ This was the optimal *blue* point\n",
        "10. $s_2 = s_3 =0$ Intersection of lines outside the feasible set"
      ]
    },
    {
      "cell_type": "markdown",
      "metadata": {
        "id": "_x5-hYMznv5E"
      },
      "source": [
        ">How do we know we got them all?  We had 5 variables $(x,y,s_1,s_2,s_3)$ and were trying to solve 3 equations.  So we were able to have $\\binom 52 = \\binom 53 =10$.  Let's write up a little program that evaluates each of these for us!"
      ]
    },
    {
      "cell_type": "markdown",
      "metadata": {
        "id": "xFAsYOAynx7T"
      },
      "source": [
        ">Before we proceed, we should ask is there a quick way to tell if an intersection is outside of the feasible set.  Let's look at the *pink* point.  It has $x = s_1 = 0$  Let's ask python to solve that.\n",
        "\n",
        ">I'll need to expand $A$ to include the slack variables.  Just remeber there will be a lot of zeros!  If I don't need $x$ and $s_1$, I'll only need the $y, s_2,$ and $s_3$ variables."
      ]
    },
    {
      "cell_type": "code",
      "execution_count": null,
      "metadata": {
        "colab": {
          "base_uri": "https://localhost:8080/"
        },
        "id": "5pgEjuctno18",
        "outputId": "e9abd891-7b34-4b81-a404-5cfa3ada8687"
      },
      "outputs": [
        {
          "data": {
            "text/plain": [
              "array([[7, 0, 0],\n",
              "       [3, 1, 0],\n",
              "       [4, 0, 1]])"
            ]
          },
          "execution_count": 30,
          "metadata": {},
          "output_type": "execute_result"
        }
      ],
      "source": [
        "A = np.array([[6,7,1,0,0],[1,3,0,1,0],[11,4,0,0,1]])\n",
        "\n",
        "A[:,[1,3,4]]\n"
      ]
    },
    {
      "cell_type": "markdown",
      "metadata": {
        "id": "9WsYCHASn9uB"
      },
      "source": [
        ">Now I solve it with the original $b$."
      ]
    },
    {
      "cell_type": "code",
      "execution_count": null,
      "metadata": {
        "colab": {
          "base_uri": "https://localhost:8080/"
        },
        "id": "g6Re9vBDn_En",
        "outputId": "3641c264-8b89-4fc9-c872-a3beaac1c469"
      },
      "outputs": [
        {
          "data": {
            "text/plain": [
              "array([195.71428571, -47.14285714, 757.14285714])"
            ]
          },
          "execution_count": 31,
          "metadata": {},
          "output_type": "execute_result"
        }
      ],
      "source": [
        "np.linalg.solve(A[:,[1,3,4]],b)"
      ]
    },
    {
      "cell_type": "markdown",
      "metadata": {
        "id": "PdrIV0JOoEvS"
      },
      "source": [
        ">The issue is that the second slack variable $s_2$ is negative!  The slack is about how much extra we have, if we don't have extra but used too much, we'll get negatives and that is not allowed.  Let's write a little code to reassemble our variables."
      ]
    },
    {
      "cell_type": "code",
      "execution_count": null,
      "metadata": {
        "colab": {
          "base_uri": "https://localhost:8080/"
        },
        "id": "6aDzqkVOoGFF",
        "outputId": "40df8c56-1b6c-4f7a-bf82-667f20a3ffc6"
      },
      "outputs": [
        {
          "data": {
            "text/plain": [
              "[0, 195.71428571428572, 0, -47.14285714285711, 757.1428571428572]"
            ]
          },
          "execution_count": 32,
          "metadata": {},
          "output_type": "execute_result"
        }
      ],
      "source": [
        "def buildFullList(indexref,solution):\n",
        "  newlist =[]\n",
        "  solutioncounter = 0\n",
        "  for j in range(5):\n",
        "    if j not in indexref:\n",
        "      newlist.append(0)\n",
        "    else:\n",
        "      newlist.append(solution[solutioncounter])\n",
        "      solutioncounter += 1\n",
        "  return newlist\n",
        "\n",
        "indexref = [1,3,4]\n",
        "solution = np.linalg.solve(A[:,[1,3,4]],b)\n",
        "\n",
        "allVariables = buildFullList(indexref,solution)\n",
        "\n",
        "allVariables"
      ]
    },
    {
      "cell_type": "markdown",
      "metadata": {
        "id": "HFbx2KWUoKhn"
      },
      "source": [
        ">Now I want to check for negatives!"
      ]
    },
    {
      "cell_type": "code",
      "execution_count": null,
      "metadata": {
        "colab": {
          "base_uri": "https://localhost:8080/"
        },
        "id": "7wE0LGE9oN2Y",
        "outputId": "8f833785-2845-433f-e2e2-3dae5b26f3a0"
      },
      "outputs": [
        {
          "data": {
            "text/plain": [
              "False"
            ]
          },
          "execution_count": 33,
          "metadata": {},
          "output_type": "execute_result"
        }
      ],
      "source": [
        "def testForFeasible(list1):\n",
        "  return all([i>=0 for i in list1])\n",
        "\n",
        "testForFeasible(allVariables)"
      ]
    },
    {
      "cell_type": "markdown",
      "metadata": {
        "id": "-xptbd1IoS3W"
      },
      "source": [
        ">We see this is not in the feasible set.  Let's do one more thing and compute the profit from this list.  I know this isn't possible but we'll need this function soon!"
      ]
    },
    {
      "cell_type": "code",
      "execution_count": null,
      "metadata": {
        "colab": {
          "base_uri": "https://localhost:8080/"
        },
        "id": "IRdENaBnoVdm",
        "outputId": "4da443d2-34c4-486c-80fb-019866898860"
      },
      "outputs": [
        {
          "data": {
            "text/plain": [
              "391.42857142857144"
            ]
          },
          "execution_count": 34,
          "metadata": {},
          "output_type": "execute_result"
        }
      ],
      "source": [
        "def profit(list):\n",
        "  return 3*list[0]+2*list[1]\n",
        "\n",
        "profit(allVariables)"
      ]
    },
    {
      "cell_type": "markdown",
      "metadata": {
        "id": "oa5bjS1YoXLX"
      },
      "source": [
        ">Now I am going to put it all together and build a little table that looks at all 10 points in the order I presented them above."
      ]
    },
    {
      "cell_type": "code",
      "execution_count": null,
      "metadata": {
        "id": "XXwLBcBsoZu0"
      },
      "outputs": [],
      "source": [
        "index = [[i,j,k] for i in range(5) for j in range(i+1,5) for k in range(j+1,5)] #which variables are not zero\n",
        "d = {0:'large',1:'small',2:'slackFabric',3:'slackSewing',4:'slackfill'} #dictionary for keeping variable labels straight\n",
        "\n",
        "X = []\n",
        "for i in index:\n",
        "  solution = [round(i,5) for i in np.linalg.solve(A[:,i],b)]\n",
        "  list1 = buildFullList(i,solution)\n",
        "  X.append([(d[i[0]],d[i[1]],d[i[2]]),solution,profit(list1),testForFeasible(list1)])"
      ]
    },
    {
      "cell_type": "markdown",
      "metadata": {
        "id": "I1rNmWv3ofXy"
      },
      "source": [
        ">I'll print the data in a nice table with headers."
      ]
    },
    {
      "cell_type": "code",
      "execution_count": null,
      "metadata": {
        "colab": {
          "base_uri": "https://localhost:8080/",
          "height": 484
        },
        "id": "n9BcTQMUok0J",
        "outputId": "94e5809d-f5d8-4feb-df28-87c8659982f8"
      },
      "outputs": [
        {
          "data": {
            "text/html": [
              "<div>\n",
              "<style scoped>\n",
              "    .dataframe tbody tr th:only-of-type {\n",
              "        vertical-align: middle;\n",
              "    }\n",
              "\n",
              "    .dataframe tbody tr th {\n",
              "        vertical-align: top;\n",
              "    }\n",
              "\n",
              "    .dataframe thead th {\n",
              "        text-align: right;\n",
              "    }\n",
              "</style>\n",
              "<table border=\"1\" class=\"dataframe\">\n",
              "  <thead>\n",
              "    <tr style=\"text-align: right;\">\n",
              "      <th></th>\n",
              "      <th>Variables Used</th>\n",
              "      <th>Solution</th>\n",
              "      <th>Profit</th>\n",
              "      <th>In Feasible</th>\n",
              "    </tr>\n",
              "  </thead>\n",
              "  <tbody>\n",
              "    <tr>\n",
              "      <th>0</th>\n",
              "      <td>(large, small, slackFabric)</td>\n",
              "      <td>[84.82759, 151.72414, -201.03448]</td>\n",
              "      <td>557.93105</td>\n",
              "      <td>False</td>\n",
              "    </tr>\n",
              "    <tr>\n",
              "      <th>1</th>\n",
              "      <td>(large, small, slackSewing)</td>\n",
              "      <td>[100.0, 110.0, 110.0]</td>\n",
              "      <td>520.00000</td>\n",
              "      <td>True</td>\n",
              "    </tr>\n",
              "    <tr>\n",
              "      <th>2</th>\n",
              "      <td>(large, small, slackfill)</td>\n",
              "      <td>[30.0, 170.0, 530.0]</td>\n",
              "      <td>430.00000</td>\n",
              "      <td>True</td>\n",
              "    </tr>\n",
              "    <tr>\n",
              "      <th>3</th>\n",
              "      <td>(large, slackFabric, slackSewing)</td>\n",
              "      <td>[140.0, 530.0, 400.0]</td>\n",
              "      <td>420.00000</td>\n",
              "      <td>True</td>\n",
              "    </tr>\n",
              "    <tr>\n",
              "      <th>4</th>\n",
              "      <td>(large, slackFabric, slackfill)</td>\n",
              "      <td>[540.0, -1870.0, -4400.0]</td>\n",
              "      <td>1620.00000</td>\n",
              "      <td>False</td>\n",
              "    </tr>\n",
              "    <tr>\n",
              "      <th>5</th>\n",
              "      <td>(large, slackSewing, slackfill)</td>\n",
              "      <td>[228.33333, 311.66667, -971.66667]</td>\n",
              "      <td>684.99999</td>\n",
              "      <td>False</td>\n",
              "    </tr>\n",
              "    <tr>\n",
              "      <th>6</th>\n",
              "      <td>(small, slackFabric, slackSewing)</td>\n",
              "      <td>[385.0, -1325.0, -615.0]</td>\n",
              "      <td>770.00000</td>\n",
              "      <td>False</td>\n",
              "    </tr>\n",
              "    <tr>\n",
              "      <th>7</th>\n",
              "      <td>(small, slackFabric, slackfill)</td>\n",
              "      <td>[180.0, 110.0, 820.0]</td>\n",
              "      <td>360.00000</td>\n",
              "      <td>True</td>\n",
              "    </tr>\n",
              "    <tr>\n",
              "      <th>8</th>\n",
              "      <td>(small, slackSewing, slackfill)</td>\n",
              "      <td>[195.71429, -47.14286, 757.14286]</td>\n",
              "      <td>391.42858</td>\n",
              "      <td>False</td>\n",
              "    </tr>\n",
              "    <tr>\n",
              "      <th>9</th>\n",
              "      <td>(slackFabric, slackSewing, slackfill)</td>\n",
              "      <td>[1370.0, 540.0, 1540.0]</td>\n",
              "      <td>0.00000</td>\n",
              "      <td>True</td>\n",
              "    </tr>\n",
              "  </tbody>\n",
              "</table>\n",
              "</div>"
            ],
            "text/plain": [
              "                          Variables Used  ... In Feasible\n",
              "0            (large, small, slackFabric)  ...       False\n",
              "1            (large, small, slackSewing)  ...        True\n",
              "2              (large, small, slackfill)  ...        True\n",
              "3      (large, slackFabric, slackSewing)  ...        True\n",
              "4        (large, slackFabric, slackfill)  ...       False\n",
              "5        (large, slackSewing, slackfill)  ...       False\n",
              "6      (small, slackFabric, slackSewing)  ...       False\n",
              "7        (small, slackFabric, slackfill)  ...        True\n",
              "8        (small, slackSewing, slackfill)  ...       False\n",
              "9  (slackFabric, slackSewing, slackfill)  ...        True\n",
              "\n",
              "[10 rows x 4 columns]"
            ]
          },
          "execution_count": 36,
          "metadata": {},
          "output_type": "execute_result"
        }
      ],
      "source": [
        "import pandas as pd\n",
        "\n",
        "X = pd.DataFrame(X,columns = ['Variables Used','Solution','Profit','In Feasible'])\n",
        "X"
      ]
    },
    {
      "cell_type": "markdown",
      "metadata": {
        "id": "YzEVj1_6op1r"
      },
      "source": [
        ">Lastly I'll use some manipulation to print the maximum inside the feasible set. First I restrict to in the feasible set, then I'll search for the maximum entry of profit."
      ]
    },
    {
      "cell_type": "code",
      "execution_count": null,
      "metadata": {
        "colab": {
          "base_uri": "https://localhost:8080/",
          "height": 206
        },
        "id": "X7UsW4cDorB1",
        "outputId": "539c86e0-9d77-4a81-9e92-d8d1cfc63d27"
      },
      "outputs": [
        {
          "data": {
            "text/html": [
              "<div>\n",
              "<style scoped>\n",
              "    .dataframe tbody tr th:only-of-type {\n",
              "        vertical-align: middle;\n",
              "    }\n",
              "\n",
              "    .dataframe tbody tr th {\n",
              "        vertical-align: top;\n",
              "    }\n",
              "\n",
              "    .dataframe thead th {\n",
              "        text-align: right;\n",
              "    }\n",
              "</style>\n",
              "<table border=\"1\" class=\"dataframe\">\n",
              "  <thead>\n",
              "    <tr style=\"text-align: right;\">\n",
              "      <th></th>\n",
              "      <th>Variables Used</th>\n",
              "      <th>Solution</th>\n",
              "      <th>Profit</th>\n",
              "      <th>In Feasible</th>\n",
              "    </tr>\n",
              "  </thead>\n",
              "  <tbody>\n",
              "    <tr>\n",
              "      <th>1</th>\n",
              "      <td>(large, small, slackSewing)</td>\n",
              "      <td>[100.0, 110.0, 110.0]</td>\n",
              "      <td>520.0</td>\n",
              "      <td>True</td>\n",
              "    </tr>\n",
              "    <tr>\n",
              "      <th>2</th>\n",
              "      <td>(large, small, slackfill)</td>\n",
              "      <td>[30.0, 170.0, 530.0]</td>\n",
              "      <td>430.0</td>\n",
              "      <td>True</td>\n",
              "    </tr>\n",
              "    <tr>\n",
              "      <th>3</th>\n",
              "      <td>(large, slackFabric, slackSewing)</td>\n",
              "      <td>[140.0, 530.0, 400.0]</td>\n",
              "      <td>420.0</td>\n",
              "      <td>True</td>\n",
              "    </tr>\n",
              "    <tr>\n",
              "      <th>7</th>\n",
              "      <td>(small, slackFabric, slackfill)</td>\n",
              "      <td>[180.0, 110.0, 820.0]</td>\n",
              "      <td>360.0</td>\n",
              "      <td>True</td>\n",
              "    </tr>\n",
              "    <tr>\n",
              "      <th>9</th>\n",
              "      <td>(slackFabric, slackSewing, slackfill)</td>\n",
              "      <td>[1370.0, 540.0, 1540.0]</td>\n",
              "      <td>0.0</td>\n",
              "      <td>True</td>\n",
              "    </tr>\n",
              "  </tbody>\n",
              "</table>\n",
              "</div>"
            ],
            "text/plain": [
              "                          Variables Used  ... In Feasible\n",
              "1            (large, small, slackSewing)  ...        True\n",
              "2              (large, small, slackfill)  ...        True\n",
              "3      (large, slackFabric, slackSewing)  ...        True\n",
              "7        (small, slackFabric, slackfill)  ...        True\n",
              "9  (slackFabric, slackSewing, slackfill)  ...        True\n",
              "\n",
              "[5 rows x 4 columns]"
            ]
          },
          "execution_count": 37,
          "metadata": {},
          "output_type": "execute_result"
        }
      ],
      "source": [
        "XFeasible = X[X['In Feasible'] == True]\n",
        "\n",
        "XFeasible"
      ]
    },
    {
      "cell_type": "code",
      "execution_count": null,
      "metadata": {
        "colab": {
          "base_uri": "https://localhost:8080/",
          "height": 81
        },
        "id": "4lfoQda-o3MJ",
        "outputId": "20d456af-3fd7-466e-dc3f-360e635d4e6f"
      },
      "outputs": [
        {
          "data": {
            "text/html": [
              "<div>\n",
              "<style scoped>\n",
              "    .dataframe tbody tr th:only-of-type {\n",
              "        vertical-align: middle;\n",
              "    }\n",
              "\n",
              "    .dataframe tbody tr th {\n",
              "        vertical-align: top;\n",
              "    }\n",
              "\n",
              "    .dataframe thead th {\n",
              "        text-align: right;\n",
              "    }\n",
              "</style>\n",
              "<table border=\"1\" class=\"dataframe\">\n",
              "  <thead>\n",
              "    <tr style=\"text-align: right;\">\n",
              "      <th></th>\n",
              "      <th>Variables Used</th>\n",
              "      <th>Solution</th>\n",
              "      <th>Profit</th>\n",
              "      <th>In Feasible</th>\n",
              "    </tr>\n",
              "  </thead>\n",
              "  <tbody>\n",
              "    <tr>\n",
              "      <th>1</th>\n",
              "      <td>(large, small, slackSewing)</td>\n",
              "      <td>[100.0, 110.0, 110.0]</td>\n",
              "      <td>520.0</td>\n",
              "      <td>True</td>\n",
              "    </tr>\n",
              "  </tbody>\n",
              "</table>\n",
              "</div>"
            ],
            "text/plain": [
              "                Variables Used               Solution  Profit  In Feasible\n",
              "1  (large, small, slackSewing)  [100.0, 110.0, 110.0]   520.0         True"
            ]
          },
          "execution_count": 38,
          "metadata": {},
          "output_type": "execute_result"
        }
      ],
      "source": [
        "XFeasible[XFeasible['Profit'].max()==XFeasible['Profit']]"
      ]
    },
    {
      "cell_type": "markdown",
      "metadata": {
        "id": "NB9dBqEIrc0R"
      },
      "source": [
        ">This gives us exactly the solution we found graphically but an algorithmic\n",
        "way to find it!\n"
      ]
    },
    {
      "cell_type": "markdown",
      "metadata": {
        "id": "JoffJkrMrzHX"
      },
      "source": [
        "### Schematic Diagram(Flowchart) of Simplex Method Algorithm"
      ]
    },
    {
      "cell_type": "markdown",
      "metadata": {
        "id": "8SRTAVZLuawv"
      },
      "source": [
        "![SMImg4](https://raw.githubusercontent.com/nurfnick/Operations_Research/main/Drafts/Simplex%20Method/SMImg/SMImg4.png)"
      ]
    },
    {
      "cell_type": "markdown",
      "metadata": {
        "id": "zbjeQRTkxjjH"
      },
      "source": [
        "\n",
        "2.   Use the simplex method to solve the given\n",
        "linear programming problem. (In each case the objective function\n",
        "is to be maximized.)\n",
        "\n",
        ">a)Objective function:\n",
        "$$\n",
        "z=5x_1+2x_2+8x_3\n",
        "$$\n",
        "Contraints:\n",
        "$$\n",
        "\\begin{array}{l}\n",
        "2x_1-4x_2+x_3\\leq 42\\\\\n",
        "2x_1+3x_2-x_3\\leq 42\\\\\n",
        "6x_1-x_2+3x_3\\leq 42\\\\\n",
        "x_1,x_2,x_3\\geq 0\\\\\n",
        "\\end{array}\n",
        "$$\n",
        "\n",
        "-------\n",
        "\n",
        ">b)Objective function:\n",
        "$$\n",
        "z=x_1+2x_2-x_4\n",
        "$$\n",
        "Contraints:\n",
        "$$\n",
        "\\begin{array}{l}\n",
        "x_1+2x_2+3x_3\\leq 24\\\\\n",
        "3x_2+7x_3+x_4\\leq 42\\\\\n",
        "x_1,x_2,x_3\\geq 0\\\\\n",
        "\\end{array}\n",
        "$$\n",
        "\n",
        "\n",
        "\n",
        "-------\n",
        "\n",
        ">c)Objective function:\n",
        "$$\n",
        "z=x_1+2x_2+x_3-x_4\n",
        "$$\n",
        "Contraints:\n",
        "$$\n",
        "\\begin{array}{l}\n",
        "x_1+x_2+3x_3_4x_4\\leq 60\\\\\n",
        "x_2+2x_3+5x_4\\leq 50\\\\\n",
        "2x_1+3x_2+6x_4\\leq 72\\\\\n",
        "x_1,x_2,x_3,x_4\\geq 0\\\\\n",
        "\\end{array}\n",
        "$$\n"
      ]
    },
    {
      "cell_type": "code",
      "execution_count": null,
      "metadata": {
        "id": "TWMW1ZTWp461"
      },
      "outputs": [],
      "source": [
        "import numpy as np\n",
        "from scipy.optimize import linprog"
      ]
    },
    {
      "cell_type": "code",
      "execution_count": null,
      "metadata": {
        "id": "PeX-xneNmj5Q"
      },
      "outputs": [],
      "source": [
        "max = [-1, -2, 0, 1, 0, 0]\n",
        "\n",
        "lhs_eq= [[1, 2, 3, 0, 1, 0],\n",
        "         [0, 3, 7, 1, 0, 1]]\n",
        "\n",
        "rhs_eq = [[24],\n",
        "          [42]]"
      ]
    },
    {
      "cell_type": "code",
      "execution_count": null,
      "metadata": {
        "id": "vkIBvzdus73L"
      },
      "outputs": [],
      "source": [
        "opt = linprog(c=max, A_ub=lhs_eq, b_ub=rhs_eq, bounds=None, method=\"revised simplex\")\n"
      ]
    },
    {
      "cell_type": "code",
      "execution_count": null,
      "metadata": {
        "colab": {
          "base_uri": "https://localhost:8080/"
        },
        "id": "QP72MNzkySkm",
        "outputId": "4f4b0176-7907-4006-c7a4-5662e36b9ebd"
      },
      "outputs": [
        {
          "data": {
            "text/plain": [
              "     con: array([], dtype=float64)\n",
              "     fun: -24.0\n",
              " message: 'Optimization terminated successfully.'\n",
              "     nit: 1\n",
              "   slack: array([0., 6.])\n",
              "  status: 0\n",
              " success: True\n",
              "       x: array([ 0., 12.,  0.,  0.,  0.,  0.])"
            ]
          },
          "execution_count": 39,
          "metadata": {},
          "output_type": "execute_result"
        }
      ],
      "source": [
        "opt"
      ]
    },
    {
      "cell_type": "code",
      "execution_count": null,
      "metadata": {
        "colab": {
          "base_uri": "https://localhost:8080/"
        },
        "id": "PnxeTaevwBi-",
        "outputId": "3e106735-99c3-42a7-ff7e-dd6a4b431941"
      },
      "outputs": [
        {
          "data": {
            "text/plain": [
              "24.0"
            ]
          },
          "execution_count": 36,
          "metadata": {},
          "output_type": "execute_result"
        }
      ],
      "source": [
        "-opt.fun"
      ]
    },
    {
      "cell_type": "markdown",
      "metadata": {
        "id": "fb2uZl1q_LR_"
      },
      "source": [
        "\n",
        "#References\n",
        "\n",
        ">1.   Moyer, Todd O. “The Simplex Method for Systems of Linear Inequalities.” Ohio Journal of School Mathematics, https://library.osu.edu/ojs/index.php/OJSM/article/view/5302/4540.\n",
        "\n",
        ">2.   Linear Inequalities.” Ohio Journal of School Mathematics, https://library.osu.edu/ojs/index.php/OJSM/article/view/5302/4540.\n",
        "\n",
        ">3.   Carreira-Perpiñán, Miguel Á. \"Simplex Method.\" From ***MathWorld***--A Wolfram Web Resource, created by Eric W. Weisstein. https://mathworld.wolfram.com/SimplexMethod.html\n",
        "\n",
        ">4.   Coutinho, Demétrios & Xavier-de-Souza, Samuel. (2013). Multicore Scalability and Efficiency Analysis of the standard simplex algorithm.\n"
      ]
    },
    {
      "cell_type": "markdown",
      "metadata": {
        "id": "JysupMbbuykZ"
      },
      "source": [
        "## Problems to solve"
      ]
    },
    {
      "cell_type": "markdown",
      "metadata": {
        "id": "LUk8Wgqru7DQ"
      },
      "source": [
        "\n",
        "\n",
        "1.   write the simplex tableau for the given linear programming problem. You do not need to solve the problem. (In each\n",
        "case the objective function is to be maximized.)\n",
        "\n",
        ">a)Objective function:\n",
        "$$\n",
        "z=x_1+2x_2\n",
        "$$\n",
        "Contraints:\n",
        "$$\n",
        "\\begin{array}{l}\n",
        "2x_1+x_2\\leq 8\\\\\n",
        "x_1+x_2-2x_3\\leq 5\\\\\n",
        "x_1,x_2\\geq 5\\\\\n",
        "\\end{array}\n",
        "$$\n",
        "\n",
        "---------\n",
        "\n",
        ">b)Objective function:\n",
        "$$\n",
        "z=2x_1+3x_2+4x_3\n",
        "$$\n",
        "Contraints:\n",
        "$$\n",
        "\\begin{array}{l}\n",
        "x_1+2x_2\\leq 12\\\\\n",
        "x_1+x_3\\leq 8\\\\\n",
        "x_1,x_2,x_3\\geq 0\\\\\n",
        "\\end{array}\n",
        "$$\n",
        "\n",
        "-----\n",
        "\n",
        ">c)Objective function:\n",
        "$$\n",
        "z=6x_1-9x_2\n",
        "$$\n",
        "Contraints:\n",
        "$$\n",
        "\\begin{array}{l}\n",
        "2x_1-3x_2\\leq 6\\\\\n",
        "x_1+x_2\\leq 20\\\\\n",
        "x_1,x_2\\geq 0\\\\\n",
        "\\end{array}\n",
        "$$\n",
        "\n"
      ]
    },
    {
      "cell_type": "code",
      "execution_count": null,
      "metadata": {
        "id": "Kjt2KpyWmPjV"
      },
      "outputs": [],
      "source": []
    },
    {
      "cell_type": "markdown",
      "metadata": {
        "id": "nW4iNs8O0XWP"
      },
      "source": [
        "\n",
        "3.  A grower has 50 acres of land for which she plans to raise\n",
        "three crops. It costs USD200 to produce an acre of carrots and\n",
        "the profit is USD60 per acre. It costs USD80 to produce an acre of\n",
        "celery and the profit is USD20 per acre. Finally, it costs USD140 to\n",
        "produce an acre of lettuce and the profit is USD30 per acre. Use\n",
        "the simplex method to find the number of acres of each crop\n",
        "she should plant in order to maximize her profit. Assume that\n",
        "her cost cannot exceed USD10,000.\n",
        "\n",
        "------\n",
        "\n",
        "4.  A fruit juice company makes two special drinks by blending\n",
        "apple and pineapple juices. The first drink uses 30% apple\n",
        "juice and 70% pineapple, while the second drink uses 60%\n",
        "apple and 40% pineapple. There are 1000 liters of apple and\n",
        "1500 liters of pineapple juice available. If the profit for the\n",
        "first drink is USD0.60 per liter and that for the second drink is\n",
        "USD0.50, use the simplex method to find the number of liters of\n",
        "each drink that should be produced in order to maximize the\n",
        "profit\n",
        "\n",
        "-------\n",
        "\n",
        "5.  A manufacturer produces three models of bicycles. The time\n",
        "(in hours) required for assembling, painting, and packaging\n",
        "each model is as follows.\n",
        "\n",
        "||Model A|Model B|Model C|\n",
        "|:------:|:------:|:------:|:----:|\n",
        "|Assembling |2     |2.5     |3   |\n",
        "|Painting |1.5     |2     |1   |\n",
        "|packaging| 1|0.75|1.25|\n",
        "\n",
        ">The total time available for assembling, painting, and packaging is 4006 hours, 2495 hours and 1500 hours, respectively. The profit per unit for each model is USD45 (Model A), USD50 (Model B), and USD55 (Model C). How many of each type\n",
        "should be produced to obtain a maximum profit?\n",
        "\n",
        "\n",
        "\n",
        "\n"
      ]
    },
    {
      "cell_type": "markdown",
      "metadata": {
        "id": "pz5xCYtbZCGZ"
      },
      "source": [
        "## Project Idea"
      ]
    },
    {
      "cell_type": "markdown",
      "metadata": {
        "id": "LrBCw5_-ZJFK"
      },
      "source": [
        ">**Linear Program** is a model used to achieve the best outcome given a maximum or minimum equation with its linear constraints.\n"
      ]
    },
    {
      "cell_type": "markdown",
      "metadata": {
        "id": "O-BdlgYAst0X"
      },
      "source": [
        ">**Optimal solution** of a maximization linear programming model are the values assigned to the variables in the objective function to give the largest zeta value.  The optimal solution would exist on the corner points of the graph of the entire model."
      ]
    },
    {
      "cell_type": "markdown",
      "metadata": {
        "id": "mJ-MTGF_s0KW"
      },
      "source": [
        ">**Pivot variable** is used in row operations to identify which variable will become the unit value and is a key factor in the conversion of the unit value."
      ]
    },
    {
      "cell_type": "markdown",
      "metadata": {
        "id": "C8i0wsUKijeP"
      },
      "source": [
        "### Authors"
      ]
    },
    {
      "cell_type": "markdown",
      "metadata": {
        "id": "rajid0PdipzE"
      },
      "source": [
        ">Principal authors of this chapter were:\n",
        "\n",
        "1.   Gulsan Rai\n",
        "2.   Chiran Rayamajhi"
      ]
    }
  ],
  "metadata": {
    "colab": {
      "collapsed_sections": [
        "CBGtg87qu4Pt",
        "Cu0kDa9MUwe3",
        "_TVRXZgR2p_H",
        "LgK2BnlZj5Rl",
        "JoffJkrMrzHX"
      ],
      "name": "Draft2.ipynb",
      "provenance": [],
      "include_colab_link": true
    },
    "kernelspec": {
      "display_name": "Python 3 (ipykernel)",
      "language": "python",
      "name": "python3"
    },
    "language_info": {
      "codemirror_mode": {
        "name": "ipython",
        "version": 3
      },
      "file_extension": ".py",
      "mimetype": "text/x-python",
      "name": "python",
      "nbconvert_exporter": "python",
      "pygments_lexer": "ipython3",
      "version": "3.9.7"
    }
  },
  "nbformat": 4,
  "nbformat_minor": 0
}