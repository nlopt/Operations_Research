{
  "nbformat": 4,
  "nbformat_minor": 0,
  "metadata": {
    "colab": {
      "provenance": [],
      "authorship_tag": "ABX9TyNeCSWvWQ5+3FuqMIp+sElb",
      "include_colab_link": true
    },
    "kernelspec": {
      "name": "python3",
      "display_name": "Python 3"
    },
    "language_info": {
      "name": "python"
    }
  },
  "cells": [
    {
      "cell_type": "markdown",
      "metadata": {
        "id": "view-in-github",
        "colab_type": "text"
      },
      "source": [
        "<a href=\"https://colab.research.google.com/github/nurfnick/Operations_Research/blob/main/ChapterRecursion.ipynb\" target=\"_parent\"><img src=\"https://colab.research.google.com/assets/colab-badge.svg\" alt=\"Open In Colab\"/></a>"
      ]
    },
    {
      "cell_type": "markdown",
      "source": [
        "# Recursion"
      ],
      "metadata": {
        "id": "f4urMg7qAhI2"
      }
    },
    {
      "cell_type": "markdown",
      "source": [
        "Recursion is one of these topics then when you see it once, you'll see it again and again forever.  Terrible I know...\n",
        "\n",
        "Seriously it is best described as a function that calls itself.  We see these often in simple mathematical questions.  \n",
        "\n",
        "\n",
        "\n"
      ],
      "metadata": {
        "id": "Lv7NbtIOAo8-"
      }
    },
    {
      "cell_type": "markdown",
      "source": [
        "## Exponential Growth\n",
        "\n",
        "Consider a population of aemebas that double every cycle.  Write a recursive relationship describing this doubling.  \n",
        "\n",
        "We see simply that $f(n+1) = 2f(n)$ so if you go to the new cycle, $n+1$, you will be double the previous.  The question then arrifes how do we write the function $f(n)$ where it does not reference itself?\n",
        "\n",
        "If you recall college algebra, you can write this function as $f(n) = P_02^n$  Here $P_0$ is some initial population.  \n",
        "\n",
        "Let's code both of these by setting $f(0) = P_0 = 1$ (we always need an initial conditon to fully sovle these equations)"
      ],
      "metadata": {
        "id": "hAezWHlrBKD1"
      }
    },
    {
      "cell_type": "code",
      "execution_count": null,
      "metadata": {
        "id": "m3GEAsHAAf58"
      },
      "outputs": [],
      "source": [
        "def f_recursive(n):\n",
        "  if n>=1:\n",
        "    return 2*f_recursive(n-1)\n",
        "  elif n==0:\n",
        "    return 1\n",
        "\n",
        "def f_exponential(n):\n",
        "  return 1*2**n"
      ]
    },
    {
      "cell_type": "markdown",
      "source": [],
      "metadata": {
        "id": "j0yXIzlxC2vS"
      }
    },
    {
      "cell_type": "code",
      "source": [
        "f_recursive(5)"
      ],
      "metadata": {
        "colab": {
          "base_uri": "https://localhost:8080/"
        },
        "id": "c8xbQ3HXCusm",
        "outputId": "de73e9bc-d1cc-4b7b-b957-e05a73711aec"
      },
      "execution_count": null,
      "outputs": [
        {
          "output_type": "execute_result",
          "data": {
            "text/plain": [
              "32"
            ]
          },
          "metadata": {},
          "execution_count": 5
        }
      ]
    },
    {
      "cell_type": "code",
      "source": [
        "f_exponential(5)"
      ],
      "metadata": {
        "colab": {
          "base_uri": "https://localhost:8080/"
        },
        "id": "kmqFTf5DDHEb",
        "outputId": "ab85f06b-f52e-4119-cbd7-36753e036ac0"
      },
      "execution_count": null,
      "outputs": [
        {
          "output_type": "execute_result",
          "data": {
            "text/plain": [
              "32"
            ]
          },
          "metadata": {},
          "execution_count": 8
        }
      ]
    },
    {
      "cell_type": "markdown",
      "source": [
        "We'll look at the graphs of each."
      ],
      "metadata": {
        "id": "YKLEcDk2DPzy"
      }
    },
    {
      "cell_type": "code",
      "source": [
        "import matplotlib.pyplot as plt\n",
        "import numpy as np\n",
        "\n",
        "x = np.linspace(0,5,100)\n",
        "y = f_exponential(x)\n",
        "\n",
        "z = range(0,6)\n",
        "zz = [f_recursive(i) for i in z]\n",
        "\n",
        "plt.scatter(z,zz)\n",
        "plt.plot(x,y)"
      ],
      "metadata": {
        "colab": {
          "base_uri": "https://localhost:8080/",
          "height": 448
        },
        "id": "AY60BjcbDMti",
        "outputId": "add85974-2c20-44b9-bbe8-ba08779fd89d"
      },
      "execution_count": null,
      "outputs": [
        {
          "output_type": "execute_result",
          "data": {
            "text/plain": [
              "[<matplotlib.lines.Line2D at 0x7aa73a928b20>]"
            ]
          },
          "metadata": {},
          "execution_count": 12
        },
        {
          "output_type": "display_data",
          "data": {
            "text/plain": [
              "<Figure size 640x480 with 1 Axes>"
            ],
            "image/png": "[encoded data removed]"
          },
          "metadata": {}
        }
      ]
    },
    {
      "cell_type": "markdown",
      "source": [
        "These look spot on!  How would we go about converting something that maybe is not so simple or well known?  We guess that the solution is $f(x) = c a^x$ and plug it in and see if we can solve for $a$ ($c$ will just drop out most of the time so I'll forget about it until I ask for initial conditions)\n",
        "\n",
        "$$f(n+1) = 2f(n)$$\n",
        "\n",
        "$$ca^{n+1} = 2ca^{n}$$\n",
        "\n",
        "Divide by $ca^n$ and get\n",
        "\n",
        "$$a = 2$$"
      ],
      "metadata": {
        "id": "OhPY-ilSD9hO"
      }
    },
    {
      "cell_type": "markdown",
      "source": [
        "## Something More Exotic\n",
        "\n",
        "What is we had a recurrance relaionship of the form\n",
        "$$\n",
        "f(n) = -3f(n-1)+4f(n-2)\n",
        "$$\n",
        "Beacause there are two prior steps, our initial condition will need two parts.\n",
        "$$\n",
        "f(0) = 1\\quad\\quad f(1) =2\n",
        "$$\n",
        "\n",
        "We can of course define it via python recursively:"
      ],
      "metadata": {
        "id": "44ZFJfXzHC-g"
      }
    },
    {
      "cell_type": "code",
      "source": [
        "def f(n):\n",
        "  if n>1:\n",
        "    return -3*f(n-1)+4*f(n-2)\n",
        "  if n==1:\n",
        "    return 2\n",
        "  if n==0:\n",
        "    return 1\n",
        "\n",
        "[f(i) for i in range(10)]"
      ],
      "metadata": {
        "id": "Q4hBSvy6DniT",
        "colab": {
          "base_uri": "https://localhost:8080/"
        },
        "outputId": "bde6bb8a-b34c-4cbc-c012-e2ea3e970444"
      },
      "execution_count": 7,
      "outputs": [
        {
          "output_type": "execute_result",
          "data": {
            "text/plain": [
              "[1, 2, -2, 14, -50, 206, -818, 3278, -13106, 52430]"
            ]
          },
          "metadata": {},
          "execution_count": 7
        }
      ]
    },
    {
      "cell_type": "markdown",
      "source": [
        "How could we get an analytic solution for this?  Let's guess that the solution is $f(n) = r^n$.  Plugging this into our reccurance relation, we see that,\n",
        "$$\n",
        "r^n = 3r^{n-1} -4r^{n-2}\n",
        "$$\n",
        "\n",
        "With some algebra, we see that\n",
        "$$\n",
        "0= r^n+3r^{n-1}-4r^{n-2} = r^{n-2}\\left(r^2+3r-4\\right) = r^{n-2}(r+4)(r-1)\n",
        "$$\n",
        "\n",
        "So we see that either $r=0$ (trivial solution and doesn't work with our initial conditions) or $r=-4$ or $r=1$.\n",
        "\n",
        "To finish then, we utilize our initial conditions and recall tha I should have used $f(n) = c r^n$. We arrive at\n",
        "$$\n",
        "f(n) = c_1(-4)^n+c_21^n\\\\\n",
        "f(0) = c_1+c_2 = 1\\\\\n",
        "f(1) = -4c_1 +c_2 = 2\n",
        "$$\n",
        "\n",
        "Solving the above system for $c_1$ and $c_2$ we see that $c_1 = -\\frac15$ and $c_2 = \\frac65$.  \n",
        "\n",
        "Putting it all together\n",
        "\n",
        "$$\n",
        "f(n) = -\\frac15(-4)^n+\\frac65 1^n\n",
        "$$\n",
        "\n",
        "We define this function with python"
      ],
      "metadata": {
        "id": "f4RLKdETIdV8"
      }
    },
    {
      "cell_type": "code",
      "source": [
        "def f(x):\n",
        "  return -1/5*(-4)**x+6/5\n",
        "\n",
        "[f(i) for i in range(10)]"
      ],
      "metadata": {
        "colab": {
          "base_uri": "https://localhost:8080/"
        },
        "id": "Hc5FmQeCLQVH",
        "outputId": "a015488b-fe21-4d51-b1f8-86ecef04cb1d"
      },
      "execution_count": 8,
      "outputs": [
        {
          "output_type": "execute_result",
          "data": {
            "text/plain": [
              "[1.0, 2.0, -2.0, 14.0, -50.0, 206.0, -818.0, 3278.0, -13106.0, 52430.0]"
            ]
          },
          "metadata": {},
          "execution_count": 8
        }
      ]
    },
    {
      "cell_type": "markdown",
      "source": [
        "##References\n",
        "\n",
        "____Discrete Math____ https://discrete.openmathbooks.org/dmoi3/dmoi.html by Oscar Levin\n",
        "\n",
        "___Python Programming and Numerical Methods___ https://pythonnumericalmethods.berkeley.edu/notebooks/Index.html\n"
      ],
      "metadata": {
        "id": "84b69rIBXkSy"
      }
    }
  ]
}